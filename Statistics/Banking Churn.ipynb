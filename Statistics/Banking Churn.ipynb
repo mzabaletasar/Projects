{
 "cells": [
  {
   "cell_type": "markdown",
   "id": "8d14b2ea",
   "metadata": {},
   "source": [
    "# Trabajo Python"
   ]
  },
  {
   "cell_type": "code",
   "execution_count": 34,
   "id": "891c4ff3",
   "metadata": {},
   "outputs": [
    {
     "name": "stdout",
     "output_type": "stream",
     "text": [
      "Gracias!:  Jorge Escudero Ferrera; Miriam Perdiguero Bermejo; Miguel Zabaleta Sarasa :)\n"
     ]
    }
   ],
   "source": [
    "nombres = \"Jorge Escudero Ferrera; Miriam Perdiguero Bermejo; Miguel Zabaleta Sarasa\"\n",
    "if nombres == \"\":\n",
    "    print(\"Rellena tu nombre completo!\")\n",
    "else:\n",
    "    print(\"Gracias!: \", nombres, \":)\")"
   ]
  },
  {
   "cell_type": "code",
   "execution_count": 1,
   "id": "e03acc86",
   "metadata": {},
   "outputs": [],
   "source": [
    "import numpy as np\n",
    "import pandas as pd\n",
    "import matplotlib as mpl\n",
    "import matplotlib.pyplot as plt\n",
    "\n",
    "%matplotlib inline\n",
    "\n",
    "df=pd.read_csv(\"Banking_Churn.csv\") #cargamos los datos y paquetes básicos"
   ]
  },
  {
   "cell_type": "markdown",
   "id": "5013d817",
   "metadata": {},
   "source": [
    "**RowNumber**—corresponds to the record (row) number.  \n",
    "**CustomerId**—contains random values.  \n",
    "**Surname**— the surname of a customer.  \n",
    "**CreditScore**— can have an effect on customer churn, since a customer with a higher credit score is less likely to leave the bank.  \n",
    "**Geography**— customer's location.  \n",
    "**Gender**— customer gender.  \n",
    "**Age**— customer age.  \n",
    "**Tenure**—refers to the number of years that the customer has been a client of the bank.  \n",
    "**Balance**—balance in their accounts.  \n",
    "**NumOfProducts**—refers to the number of products that a customer has purchased through the bank.  \n",
    "**HasCrCard**—denotes whether or not a customer has a credit card.  \n",
    "**IsActiveMember**— whether or not a customer is an active member of the bank.  \n",
    "**EstimatedSalary**— estimated salary.  \n",
    "**Churn**—whether or not the customer left the bank.  "
   ]
  },
  {
   "cell_type": "markdown",
   "id": "17322786",
   "metadata": {},
   "source": [
    "## I. Preproceso"
   ]
  },
  {
   "cell_type": "markdown",
   "id": "6ddfcc1f",
   "metadata": {},
   "source": [
    "### 1. Exploración inicial"
   ]
  },
  {
   "cell_type": "code",
   "execution_count": 36,
   "id": "65e614fd",
   "metadata": {
    "scrolled": true
   },
   "outputs": [
    {
     "name": "stdout",
     "output_type": "stream",
     "text": [
      "10000\n",
      "14\n"
     ]
    }
   ],
   "source": [
    "print(df.shape[0]) #número de observaciones -> 10000\n",
    "print(df.shape[1]) #número de variables -> 14"
   ]
  },
  {
   "cell_type": "code",
   "execution_count": 37,
   "id": "2ca13ef3",
   "metadata": {},
   "outputs": [
    {
     "data": {
      "text/plain": [
       "RowNumber            int64\n",
       "CustomerId           int64\n",
       "Surname             object\n",
       "CreditScore          int64\n",
       "Geography           object\n",
       "Gender              object\n",
       "Age                  int64\n",
       "Tenure               int64\n",
       "Balance            float64\n",
       "NumOfProducts        int64\n",
       "HasCrCard            int64\n",
       "IsActiveMember       int64\n",
       "EstimatedSalary    float64\n",
       "Churn                int64\n",
       "dtype: object"
      ]
     },
     "execution_count": 37,
     "metadata": {},
     "output_type": "execute_result"
    }
   ],
   "source": [
    "df.dtypes"
   ]
  },
  {
   "cell_type": "markdown",
   "id": "2b91700d",
   "metadata": {},
   "source": [
    "Destacamos que todas las variables son numéricas salvo 'Surname', 'Geography' y 'Gender'.  \n",
    "Por tanto en el resto de variables podemos afirmar que no tenemos valores raros de tipo string por error de registro."
   ]
  },
  {
   "cell_type": "code",
   "execution_count": 38,
   "id": "ef756473",
   "metadata": {},
   "outputs": [
    {
     "data": {
      "text/html": [
       "<div>\n",
       "<style scoped>\n",
       "    .dataframe tbody tr th:only-of-type {\n",
       "        vertical-align: middle;\n",
       "    }\n",
       "\n",
       "    .dataframe tbody tr th {\n",
       "        vertical-align: top;\n",
       "    }\n",
       "\n",
       "    .dataframe thead th {\n",
       "        text-align: right;\n",
       "    }\n",
       "</style>\n",
       "<table border=\"1\" class=\"dataframe\">\n",
       "  <thead>\n",
       "    <tr style=\"text-align: right;\">\n",
       "      <th></th>\n",
       "      <th>RowNumber</th>\n",
       "      <th>CustomerId</th>\n",
       "      <th>Surname</th>\n",
       "      <th>CreditScore</th>\n",
       "      <th>Geography</th>\n",
       "      <th>Gender</th>\n",
       "      <th>Age</th>\n",
       "      <th>Tenure</th>\n",
       "      <th>Balance</th>\n",
       "      <th>NumOfProducts</th>\n",
       "      <th>HasCrCard</th>\n",
       "      <th>IsActiveMember</th>\n",
       "      <th>EstimatedSalary</th>\n",
       "      <th>Churn</th>\n",
       "    </tr>\n",
       "  </thead>\n",
       "  <tbody>\n",
       "    <tr>\n",
       "      <th>0</th>\n",
       "      <td>1</td>\n",
       "      <td>15634602</td>\n",
       "      <td>Hargrave</td>\n",
       "      <td>619</td>\n",
       "      <td>France</td>\n",
       "      <td>Female</td>\n",
       "      <td>42</td>\n",
       "      <td>2</td>\n",
       "      <td>0.00</td>\n",
       "      <td>1</td>\n",
       "      <td>1</td>\n",
       "      <td>1</td>\n",
       "      <td>101348.88</td>\n",
       "      <td>1</td>\n",
       "    </tr>\n",
       "    <tr>\n",
       "      <th>1</th>\n",
       "      <td>2</td>\n",
       "      <td>15647311</td>\n",
       "      <td>Hill</td>\n",
       "      <td>608</td>\n",
       "      <td>Spain</td>\n",
       "      <td>Female</td>\n",
       "      <td>41</td>\n",
       "      <td>1</td>\n",
       "      <td>83807.86</td>\n",
       "      <td>1</td>\n",
       "      <td>0</td>\n",
       "      <td>1</td>\n",
       "      <td>112542.58</td>\n",
       "      <td>0</td>\n",
       "    </tr>\n",
       "    <tr>\n",
       "      <th>2</th>\n",
       "      <td>3</td>\n",
       "      <td>15619304</td>\n",
       "      <td>Onio</td>\n",
       "      <td>502</td>\n",
       "      <td>France</td>\n",
       "      <td>Female</td>\n",
       "      <td>42</td>\n",
       "      <td>8</td>\n",
       "      <td>159660.80</td>\n",
       "      <td>3</td>\n",
       "      <td>1</td>\n",
       "      <td>0</td>\n",
       "      <td>113931.57</td>\n",
       "      <td>1</td>\n",
       "    </tr>\n",
       "    <tr>\n",
       "      <th>3</th>\n",
       "      <td>4</td>\n",
       "      <td>15701354</td>\n",
       "      <td>Boni</td>\n",
       "      <td>699</td>\n",
       "      <td>France</td>\n",
       "      <td>Female</td>\n",
       "      <td>39</td>\n",
       "      <td>1</td>\n",
       "      <td>0.00</td>\n",
       "      <td>2</td>\n",
       "      <td>0</td>\n",
       "      <td>0</td>\n",
       "      <td>93826.63</td>\n",
       "      <td>0</td>\n",
       "    </tr>\n",
       "    <tr>\n",
       "      <th>4</th>\n",
       "      <td>5</td>\n",
       "      <td>15737888</td>\n",
       "      <td>Mitchell</td>\n",
       "      <td>850</td>\n",
       "      <td>Spain</td>\n",
       "      <td>Female</td>\n",
       "      <td>43</td>\n",
       "      <td>2</td>\n",
       "      <td>125510.82</td>\n",
       "      <td>1</td>\n",
       "      <td>1</td>\n",
       "      <td>1</td>\n",
       "      <td>79084.10</td>\n",
       "      <td>0</td>\n",
       "    </tr>\n",
       "  </tbody>\n",
       "</table>\n",
       "</div>"
      ],
      "text/plain": [
       "   RowNumber  CustomerId   Surname  CreditScore Geography  Gender  Age  \\\n",
       "0          1    15634602  Hargrave          619    France  Female   42   \n",
       "1          2    15647311      Hill          608     Spain  Female   41   \n",
       "2          3    15619304      Onio          502    France  Female   42   \n",
       "3          4    15701354      Boni          699    France  Female   39   \n",
       "4          5    15737888  Mitchell          850     Spain  Female   43   \n",
       "\n",
       "   Tenure    Balance  NumOfProducts  HasCrCard  IsActiveMember  \\\n",
       "0       2       0.00              1          1               1   \n",
       "1       1   83807.86              1          0               1   \n",
       "2       8  159660.80              3          1               0   \n",
       "3       1       0.00              2          0               0   \n",
       "4       2  125510.82              1          1               1   \n",
       "\n",
       "   EstimatedSalary  Churn  \n",
       "0        101348.88      1  \n",
       "1        112542.58      0  \n",
       "2        113931.57      1  \n",
       "3         93826.63      0  \n",
       "4         79084.10      0  "
      ]
     },
     "execution_count": 38,
     "metadata": {},
     "output_type": "execute_result"
    }
   ],
   "source": [
    "df.head()"
   ]
  },
  {
   "cell_type": "markdown",
   "id": "7cd9d574",
   "metadata": {},
   "source": [
    "Las variables 'RowNumber', 'CustomerId' y 'Surname' son variables de identificación.  \n",
    "Decidimos usar como índice el que viene por defecto impuesto en el dataset, y por tanto eliminamos estas tres variables del dataset."
   ]
  },
  {
   "cell_type": "code",
   "execution_count": 2,
   "id": "961ae5a0",
   "metadata": {},
   "outputs": [
    {
     "data": {
      "text/html": [
       "<div>\n",
       "<style scoped>\n",
       "    .dataframe tbody tr th:only-of-type {\n",
       "        vertical-align: middle;\n",
       "    }\n",
       "\n",
       "    .dataframe tbody tr th {\n",
       "        vertical-align: top;\n",
       "    }\n",
       "\n",
       "    .dataframe thead th {\n",
       "        text-align: right;\n",
       "    }\n",
       "</style>\n",
       "<table border=\"1\" class=\"dataframe\">\n",
       "  <thead>\n",
       "    <tr style=\"text-align: right;\">\n",
       "      <th></th>\n",
       "      <th>CreditScore</th>\n",
       "      <th>Geography</th>\n",
       "      <th>Gender</th>\n",
       "      <th>Age</th>\n",
       "      <th>Tenure</th>\n",
       "      <th>Balance</th>\n",
       "      <th>NumOfProducts</th>\n",
       "      <th>HasCrCard</th>\n",
       "      <th>IsActiveMember</th>\n",
       "      <th>EstimatedSalary</th>\n",
       "      <th>Churn</th>\n",
       "    </tr>\n",
       "  </thead>\n",
       "  <tbody>\n",
       "    <tr>\n",
       "      <th>0</th>\n",
       "      <td>619</td>\n",
       "      <td>France</td>\n",
       "      <td>Female</td>\n",
       "      <td>42</td>\n",
       "      <td>2</td>\n",
       "      <td>0.00</td>\n",
       "      <td>1</td>\n",
       "      <td>1</td>\n",
       "      <td>1</td>\n",
       "      <td>101348.88</td>\n",
       "      <td>1</td>\n",
       "    </tr>\n",
       "    <tr>\n",
       "      <th>1</th>\n",
       "      <td>608</td>\n",
       "      <td>Spain</td>\n",
       "      <td>Female</td>\n",
       "      <td>41</td>\n",
       "      <td>1</td>\n",
       "      <td>83807.86</td>\n",
       "      <td>1</td>\n",
       "      <td>0</td>\n",
       "      <td>1</td>\n",
       "      <td>112542.58</td>\n",
       "      <td>0</td>\n",
       "    </tr>\n",
       "    <tr>\n",
       "      <th>2</th>\n",
       "      <td>502</td>\n",
       "      <td>France</td>\n",
       "      <td>Female</td>\n",
       "      <td>42</td>\n",
       "      <td>8</td>\n",
       "      <td>159660.80</td>\n",
       "      <td>3</td>\n",
       "      <td>1</td>\n",
       "      <td>0</td>\n",
       "      <td>113931.57</td>\n",
       "      <td>1</td>\n",
       "    </tr>\n",
       "    <tr>\n",
       "      <th>3</th>\n",
       "      <td>699</td>\n",
       "      <td>France</td>\n",
       "      <td>Female</td>\n",
       "      <td>39</td>\n",
       "      <td>1</td>\n",
       "      <td>0.00</td>\n",
       "      <td>2</td>\n",
       "      <td>0</td>\n",
       "      <td>0</td>\n",
       "      <td>93826.63</td>\n",
       "      <td>0</td>\n",
       "    </tr>\n",
       "    <tr>\n",
       "      <th>4</th>\n",
       "      <td>850</td>\n",
       "      <td>Spain</td>\n",
       "      <td>Female</td>\n",
       "      <td>43</td>\n",
       "      <td>2</td>\n",
       "      <td>125510.82</td>\n",
       "      <td>1</td>\n",
       "      <td>1</td>\n",
       "      <td>1</td>\n",
       "      <td>79084.10</td>\n",
       "      <td>0</td>\n",
       "    </tr>\n",
       "  </tbody>\n",
       "</table>\n",
       "</div>"
      ],
      "text/plain": [
       "   CreditScore Geography  Gender  Age  Tenure    Balance  NumOfProducts  \\\n",
       "0          619    France  Female   42       2       0.00              1   \n",
       "1          608     Spain  Female   41       1   83807.86              1   \n",
       "2          502    France  Female   42       8  159660.80              3   \n",
       "3          699    France  Female   39       1       0.00              2   \n",
       "4          850     Spain  Female   43       2  125510.82              1   \n",
       "\n",
       "   HasCrCard  IsActiveMember  EstimatedSalary  Churn  \n",
       "0          1               1        101348.88      1  \n",
       "1          0               1        112542.58      0  \n",
       "2          1               0        113931.57      1  \n",
       "3          0               0         93826.63      0  \n",
       "4          1               1         79084.10      0  "
      ]
     },
     "execution_count": 2,
     "metadata": {},
     "output_type": "execute_result"
    }
   ],
   "source": [
    "df.drop(['RowNumber','CustomerId','Surname'],axis=1,inplace=True)\n",
    "df.head()"
   ]
  },
  {
   "cell_type": "markdown",
   "id": "98e93471",
   "metadata": {},
   "source": [
    "Destacamos que la variable 'Geography' da el país al que pertenece el cliente.  \n",
    "Las variables 'Gender' y 'Geography' están inputadas como variables string, será más interesante transformarlas a variables numéricas para estudiar su correlación con el resto de variables y además poder aplicar los métodos de predicción."
   ]
  },
  {
   "cell_type": "code",
   "execution_count": 40,
   "id": "151c00df",
   "metadata": {
    "scrolled": true
   },
   "outputs": [
    {
     "data": {
      "text/html": [
       "<div>\n",
       "<style scoped>\n",
       "    .dataframe tbody tr th:only-of-type {\n",
       "        vertical-align: middle;\n",
       "    }\n",
       "\n",
       "    .dataframe tbody tr th {\n",
       "        vertical-align: top;\n",
       "    }\n",
       "\n",
       "    .dataframe thead th {\n",
       "        text-align: right;\n",
       "    }\n",
       "</style>\n",
       "<table border=\"1\" class=\"dataframe\">\n",
       "  <thead>\n",
       "    <tr style=\"text-align: right;\">\n",
       "      <th></th>\n",
       "      <th>CreditScore</th>\n",
       "      <th>Age</th>\n",
       "      <th>Tenure</th>\n",
       "      <th>Balance</th>\n",
       "      <th>NumOfProducts</th>\n",
       "      <th>HasCrCard</th>\n",
       "      <th>IsActiveMember</th>\n",
       "      <th>EstimatedSalary</th>\n",
       "      <th>Churn</th>\n",
       "    </tr>\n",
       "  </thead>\n",
       "  <tbody>\n",
       "    <tr>\n",
       "      <th>count</th>\n",
       "      <td>10000.000000</td>\n",
       "      <td>10000.000000</td>\n",
       "      <td>10000.000000</td>\n",
       "      <td>10000.000000</td>\n",
       "      <td>10000.000000</td>\n",
       "      <td>10000.00000</td>\n",
       "      <td>10000.000000</td>\n",
       "      <td>10000.000000</td>\n",
       "      <td>10000.000000</td>\n",
       "    </tr>\n",
       "    <tr>\n",
       "      <th>mean</th>\n",
       "      <td>650.528800</td>\n",
       "      <td>38.921800</td>\n",
       "      <td>5.012800</td>\n",
       "      <td>76485.889288</td>\n",
       "      <td>1.530200</td>\n",
       "      <td>0.70550</td>\n",
       "      <td>0.515100</td>\n",
       "      <td>100090.239881</td>\n",
       "      <td>0.203700</td>\n",
       "    </tr>\n",
       "    <tr>\n",
       "      <th>std</th>\n",
       "      <td>96.653299</td>\n",
       "      <td>10.487806</td>\n",
       "      <td>2.892174</td>\n",
       "      <td>62397.405202</td>\n",
       "      <td>0.581654</td>\n",
       "      <td>0.45584</td>\n",
       "      <td>0.499797</td>\n",
       "      <td>57510.492818</td>\n",
       "      <td>0.402769</td>\n",
       "    </tr>\n",
       "    <tr>\n",
       "      <th>min</th>\n",
       "      <td>350.000000</td>\n",
       "      <td>18.000000</td>\n",
       "      <td>0.000000</td>\n",
       "      <td>0.000000</td>\n",
       "      <td>1.000000</td>\n",
       "      <td>0.00000</td>\n",
       "      <td>0.000000</td>\n",
       "      <td>11.580000</td>\n",
       "      <td>0.000000</td>\n",
       "    </tr>\n",
       "    <tr>\n",
       "      <th>25%</th>\n",
       "      <td>584.000000</td>\n",
       "      <td>32.000000</td>\n",
       "      <td>3.000000</td>\n",
       "      <td>0.000000</td>\n",
       "      <td>1.000000</td>\n",
       "      <td>0.00000</td>\n",
       "      <td>0.000000</td>\n",
       "      <td>51002.110000</td>\n",
       "      <td>0.000000</td>\n",
       "    </tr>\n",
       "    <tr>\n",
       "      <th>50%</th>\n",
       "      <td>652.000000</td>\n",
       "      <td>37.000000</td>\n",
       "      <td>5.000000</td>\n",
       "      <td>97198.540000</td>\n",
       "      <td>1.000000</td>\n",
       "      <td>1.00000</td>\n",
       "      <td>1.000000</td>\n",
       "      <td>100193.915000</td>\n",
       "      <td>0.000000</td>\n",
       "    </tr>\n",
       "    <tr>\n",
       "      <th>75%</th>\n",
       "      <td>718.000000</td>\n",
       "      <td>44.000000</td>\n",
       "      <td>7.000000</td>\n",
       "      <td>127644.240000</td>\n",
       "      <td>2.000000</td>\n",
       "      <td>1.00000</td>\n",
       "      <td>1.000000</td>\n",
       "      <td>149388.247500</td>\n",
       "      <td>0.000000</td>\n",
       "    </tr>\n",
       "    <tr>\n",
       "      <th>max</th>\n",
       "      <td>850.000000</td>\n",
       "      <td>92.000000</td>\n",
       "      <td>10.000000</td>\n",
       "      <td>250898.090000</td>\n",
       "      <td>4.000000</td>\n",
       "      <td>1.00000</td>\n",
       "      <td>1.000000</td>\n",
       "      <td>199992.480000</td>\n",
       "      <td>1.000000</td>\n",
       "    </tr>\n",
       "  </tbody>\n",
       "</table>\n",
       "</div>"
      ],
      "text/plain": [
       "        CreditScore           Age        Tenure        Balance  NumOfProducts  \\\n",
       "count  10000.000000  10000.000000  10000.000000   10000.000000   10000.000000   \n",
       "mean     650.528800     38.921800      5.012800   76485.889288       1.530200   \n",
       "std       96.653299     10.487806      2.892174   62397.405202       0.581654   \n",
       "min      350.000000     18.000000      0.000000       0.000000       1.000000   \n",
       "25%      584.000000     32.000000      3.000000       0.000000       1.000000   \n",
       "50%      652.000000     37.000000      5.000000   97198.540000       1.000000   \n",
       "75%      718.000000     44.000000      7.000000  127644.240000       2.000000   \n",
       "max      850.000000     92.000000     10.000000  250898.090000       4.000000   \n",
       "\n",
       "         HasCrCard  IsActiveMember  EstimatedSalary         Churn  \n",
       "count  10000.00000    10000.000000     10000.000000  10000.000000  \n",
       "mean       0.70550        0.515100    100090.239881      0.203700  \n",
       "std        0.45584        0.499797     57510.492818      0.402769  \n",
       "min        0.00000        0.000000        11.580000      0.000000  \n",
       "25%        0.00000        0.000000     51002.110000      0.000000  \n",
       "50%        1.00000        1.000000    100193.915000      0.000000  \n",
       "75%        1.00000        1.000000    149388.247500      0.000000  \n",
       "max        1.00000        1.000000    199992.480000      1.000000  "
      ]
     },
     "execution_count": 40,
     "metadata": {},
     "output_type": "execute_result"
    }
   ],
   "source": [
    "df.describe()"
   ]
  },
  {
   "cell_type": "markdown",
   "id": "2324261f",
   "metadata": {
    "scrolled": true
   },
   "source": [
    "Como datos interesantes podemos destacar que en nuestro dataset un 20.37% de los clientes abandonan el banco. Por tanto, tenemos unos datos **desbalanceados**. Esto se tratará más adelante.  \n",
    "La edad media es de unos 39 años, la media del número de años que los clientes llevan en el banco es de 5 años, el balance medio es de 76485 (suponemos dólares americanos), el número de productos medio es 1.5, un 70% de los clientes tiene tarjeta de credito, un 51% de los clientes son clientes activos y el salario estimado medio es de 100,000$ al año.\n",
    "\n",
    "Ademas, el mínimo valor en 'Balance' es 0. Es decir, no puede haber valores negativos en esta variable.\n",
    "Algo parecido ocurre con la variable 'Age', donde no puede haber valores menores que 18.\n",
    "\n",
    "Posteriormente, se analizará la dispersión de las variables, la correlación entre ellas y si ciertas variables individualmente tienen mucha influencia en los valores de la variable a predecir 'Churn'."
   ]
  },
  {
   "cell_type": "markdown",
   "id": "3dece7a2",
   "metadata": {},
   "source": [
    "### 2. Outliers"
   ]
  },
  {
   "cell_type": "markdown",
   "id": "2db77176",
   "metadata": {},
   "source": [
    "Seguimos con la exploración de los datos:\n",
    "\n",
    "Ahora buscaremos **outliers** en las variables, refiriéndonos a valores atípicos que puedan provenir de **errores de registro**.  \n",
    "Los outliers que simplemente sean valores extremos los debemos considerar ya que forman parte de la tendencia de las predicciones, por tanto no se estudiarán en profundidad.\n",
    "\n",
    "Comenzamos con la variable 'CreditScore'. En este enlace podemos ver qué representa:\n",
    "https://www.investopedia.com/terms/c/credit_scoring.asp#:~:text=Credit%20scoring%20is%20a%20statistical,to%20extend%20or%20deny%20credit.\n",
    "\n",
    "El CreditScore es una variable que mide el riesgo del banco por ofrecer un credito a un cliente. En otras palabras, es lo mucho o poco que un cliente se merece que le den un crédito.  \n",
    "Este número varía entre **300 y 850**.\n",
    "\n",
    "Observamos que en nuestros datos, el mínimo es de 350 y el máximo de 850 (la media es de 650), que concuerda con el rango de valores que debería tomar.  \n",
    "Al ser una variable de tipo int64, concluimos que **no hay outliers**, ya que éstos serían de tipo no numérico (por tanto la variable sería de tipo object), o valores numéricos negativos o con decimales, que también hemos visto que no hay.\n",
    "\n",
    "Lo mismo ocurre con la variable 'Age', que es de tipo int64, y el valor mínimo y máximo es respectivamente 18 y 92."
   ]
  },
  {
   "cell_type": "markdown",
   "id": "bb170fd8",
   "metadata": {},
   "source": [
    "Pasamos ahora a analizar las variables en más profundidad.\n",
    "\n",
    "En primer lugar, en cuanto a las variables 'Balance' y 'EstimatedSalary', podemos afirmar que **no hay ningún valor imputado especial** ya que se ha visto anteriormente que todas son numéricas, por tanto no hay ninguna observación con un dato de tipo string.  \n",
    "Por otro lado, la variable 'Balance' no contiene outliers por errores de medición ya que de nuevo, el mínimo y el máximo son respectivamenete 0 y 250898.  \n",
    "Por tanto descartamos que haya números negativos o en definitiva cantidades que no tengan sentido.\n",
    "\n",
    "Sin embargo, en la variable 'EstimatedSalary' el mínimo y el máximo son respectivamente 11$ y 199,992\\\\$.  \n",
    "Suponemos que son dólares al año, por tanto no tiene sentido que una persona con una cuenta bancaria tenga un sueldo de 11 dólares al año.  \n",
    "Este sí es un outlier. Veremos cuáles son los mínimos valores de esta variable para ver si en efecto solo hay una observación con poco sentido."
   ]
  },
  {
   "cell_type": "markdown",
   "id": "c0a9708a",
   "metadata": {},
   "source": [
    "Ahora estudiamos los valores únicos del resto de variables para ver si hay alguna imputación especial de dato missing o outliers por error de medición:"
   ]
  },
  {
   "cell_type": "code",
   "execution_count": 41,
   "id": "284ea7cf",
   "metadata": {},
   "outputs": [
    {
     "name": "stdout",
     "output_type": "stream",
     "text": [
      "Geography ['France' 'Germany' 'Spain']\n",
      "Gender ['Female' 'Male']\n",
      "Tenure [ 0  1  2  3  4  5  6  7  8  9 10]\n",
      "NumOfProducts [1 2 3 4]\n",
      "HasCrCard [0 1]\n",
      "IsActiveMember [0 1]\n",
      "Churn [0 1]\n"
     ]
    }
   ],
   "source": [
    "for col in ['Geography','Gender','Tenure','NumOfProducts','HasCrCard','IsActiveMember','Churn']:\n",
    "    print(str(col),np.sort(df[str(col)].unique()))"
   ]
  },
  {
   "cell_type": "markdown",
   "id": "8c3e863f",
   "metadata": {},
   "source": [
    "Podemos concluir que no hay ninguna imputación especial como missing, y que los países de pertenencia de los clientes son Francia, España y Alemania.  \n",
    "Además, el número de años que los clientes llevan en el banco va desde 0 hasta 10 y el número de productos de 1 a 4.\n",
    "\n",
    "Ahora estudiaremos la variable 'EstimatedSalary':"
   ]
  },
  {
   "cell_type": "code",
   "execution_count": 42,
   "id": "85da2e44",
   "metadata": {
    "scrolled": true
   },
   "outputs": [
    {
     "data": {
      "text/html": [
       "<div>\n",
       "<style scoped>\n",
       "    .dataframe tbody tr th:only-of-type {\n",
       "        vertical-align: middle;\n",
       "    }\n",
       "\n",
       "    .dataframe tbody tr th {\n",
       "        vertical-align: top;\n",
       "    }\n",
       "\n",
       "    .dataframe thead th {\n",
       "        text-align: right;\n",
       "    }\n",
       "</style>\n",
       "<table border=\"1\" class=\"dataframe\">\n",
       "  <thead>\n",
       "    <tr style=\"text-align: right;\">\n",
       "      <th></th>\n",
       "      <th>Balance</th>\n",
       "      <th>EstimatedSalary</th>\n",
       "    </tr>\n",
       "  </thead>\n",
       "  <tbody>\n",
       "    <tr>\n",
       "      <th>2362</th>\n",
       "      <td>122917.71</td>\n",
       "      <td>11.58</td>\n",
       "    </tr>\n",
       "    <tr>\n",
       "      <th>9647</th>\n",
       "      <td>0.00</td>\n",
       "      <td>90.07</td>\n",
       "    </tr>\n",
       "    <tr>\n",
       "      <th>9010</th>\n",
       "      <td>121669.93</td>\n",
       "      <td>91.75</td>\n",
       "    </tr>\n",
       "    <tr>\n",
       "      <th>5548</th>\n",
       "      <td>0.00</td>\n",
       "      <td>96.27</td>\n",
       "    </tr>\n",
       "    <tr>\n",
       "      <th>4989</th>\n",
       "      <td>0.00</td>\n",
       "      <td>106.67</td>\n",
       "    </tr>\n",
       "    <tr>\n",
       "      <th>7565</th>\n",
       "      <td>105355.81</td>\n",
       "      <td>123.07</td>\n",
       "    </tr>\n",
       "    <tr>\n",
       "      <th>2498</th>\n",
       "      <td>0.00</td>\n",
       "      <td>142.81</td>\n",
       "    </tr>\n",
       "    <tr>\n",
       "      <th>8722</th>\n",
       "      <td>87619.29</td>\n",
       "      <td>143.34</td>\n",
       "    </tr>\n",
       "    <tr>\n",
       "      <th>4774</th>\n",
       "      <td>0.00</td>\n",
       "      <td>178.19</td>\n",
       "    </tr>\n",
       "    <tr>\n",
       "      <th>1451</th>\n",
       "      <td>0.00</td>\n",
       "      <td>216.27</td>\n",
       "    </tr>\n",
       "  </tbody>\n",
       "</table>\n",
       "</div>"
      ],
      "text/plain": [
       "        Balance  EstimatedSalary\n",
       "2362  122917.71            11.58\n",
       "9647       0.00            90.07\n",
       "9010  121669.93            91.75\n",
       "5548       0.00            96.27\n",
       "4989       0.00           106.67\n",
       "7565  105355.81           123.07\n",
       "2498       0.00           142.81\n",
       "8722   87619.29           143.34\n",
       "4774       0.00           178.19\n",
       "1451       0.00           216.27"
      ]
     },
     "execution_count": 42,
     "metadata": {},
     "output_type": "execute_result"
    }
   ],
   "source": [
    "df.sort_values(by=['EstimatedSalary'])[['Balance','EstimatedSalary']].head(10)"
   ]
  },
  {
   "cell_type": "markdown",
   "id": "079e1918",
   "metadata": {},
   "source": [
    "Se aprecia que para los valores más pequeños de 'EstimatedSalary', o bien el balance en su cuenta es 0, o bien es un numero cerca o superior a los 100,000\\\\$.  \n",
    "Podemos suponer que tiene sentido que los clientes con menos salario estimado tengan un balance de 0, pero no que tengan un balance cercano a 100,000\\\\$.  \n",
    "Al ser una variable que mide el salario estimado, cabe la posibilidad de que para ciertos clientes, esa estimación se haya calculado de forma errónea o haya habido un error de registro.  \n",
    "Veamos algunos valores más de esta variable:"
   ]
  },
  {
   "cell_type": "code",
   "execution_count": 43,
   "id": "c92badf1",
   "metadata": {},
   "outputs": [
    {
     "data": {
      "text/plain": [
       "2362     11.58\n",
       "9010     91.75\n",
       "7565    123.07\n",
       "1462    236.45\n",
       "2046    343.38\n",
       "5675    428.23\n",
       "5120    440.20\n",
       "925     447.73\n",
       "8671    468.94\n",
       "7224    479.54\n",
       "7226    487.30\n",
       "6956    523.00\n",
       "1758    582.53\n",
       "2723    598.80\n",
       "195     600.36\n",
       "6793    645.61\n",
       "9636    667.66\n",
       "9050    683.37\n",
       "9920    738.88\n",
       "5963    747.88\n",
       "Name: EstimatedSalary, dtype: float64"
      ]
     },
     "execution_count": 43,
     "metadata": {},
     "output_type": "execute_result"
    }
   ],
   "source": [
    "df[df['Balance']>100000]['EstimatedSalary'].sort_values(ascending=True).head(20)"
   ]
  },
  {
   "cell_type": "markdown",
   "id": "c2f1893f",
   "metadata": {},
   "source": [
    "Se muestran los 20 valores más pequeños de 'EstimatedSalary' para observaciones con un balance superior a 100,000\\\\$.  "
   ]
  },
  {
   "cell_type": "markdown",
   "id": "bee38fd9",
   "metadata": {},
   "source": [
    "La variable podría estar medida en miles de dólares y por tanto podrían tener sentido esos valores.\n",
    "Pero suponiendo que son miles de dólares, miremos los valores más altos:"
   ]
  },
  {
   "cell_type": "code",
   "execution_count": 44,
   "id": "7a8636d0",
   "metadata": {},
   "outputs": [
    {
     "data": {
      "text/html": [
       "<div>\n",
       "<style scoped>\n",
       "    .dataframe tbody tr th:only-of-type {\n",
       "        vertical-align: middle;\n",
       "    }\n",
       "\n",
       "    .dataframe tbody tr th {\n",
       "        vertical-align: top;\n",
       "    }\n",
       "\n",
       "    .dataframe thead th {\n",
       "        text-align: right;\n",
       "    }\n",
       "</style>\n",
       "<table border=\"1\" class=\"dataframe\">\n",
       "  <thead>\n",
       "    <tr style=\"text-align: right;\">\n",
       "      <th></th>\n",
       "      <th>Balance</th>\n",
       "      <th>EstimatedSalary</th>\n",
       "    </tr>\n",
       "  </thead>\n",
       "  <tbody>\n",
       "    <tr>\n",
       "      <th>6646</th>\n",
       "      <td>0.00</td>\n",
       "      <td>199992.48</td>\n",
       "    </tr>\n",
       "    <tr>\n",
       "      <th>3580</th>\n",
       "      <td>98635.77</td>\n",
       "      <td>199970.74</td>\n",
       "    </tr>\n",
       "    <tr>\n",
       "      <th>4417</th>\n",
       "      <td>153325.10</td>\n",
       "      <td>199953.33</td>\n",
       "    </tr>\n",
       "    <tr>\n",
       "      <th>9096</th>\n",
       "      <td>178755.84</td>\n",
       "      <td>199929.17</td>\n",
       "    </tr>\n",
       "    <tr>\n",
       "      <th>8926</th>\n",
       "      <td>0.00</td>\n",
       "      <td>199909.32</td>\n",
       "    </tr>\n",
       "    <tr>\n",
       "      <th>5958</th>\n",
       "      <td>165298.12</td>\n",
       "      <td>199862.75</td>\n",
       "    </tr>\n",
       "    <tr>\n",
       "      <th>1378</th>\n",
       "      <td>40169.88</td>\n",
       "      <td>199857.47</td>\n",
       "    </tr>\n",
       "    <tr>\n",
       "      <th>6402</th>\n",
       "      <td>155423.17</td>\n",
       "      <td>199841.32</td>\n",
       "    </tr>\n",
       "    <tr>\n",
       "      <th>8088</th>\n",
       "      <td>100116.67</td>\n",
       "      <td>199808.10</td>\n",
       "    </tr>\n",
       "    <tr>\n",
       "      <th>6125</th>\n",
       "      <td>93244.42</td>\n",
       "      <td>199805.63</td>\n",
       "    </tr>\n",
       "  </tbody>\n",
       "</table>\n",
       "</div>"
      ],
      "text/plain": [
       "        Balance  EstimatedSalary\n",
       "6646       0.00        199992.48\n",
       "3580   98635.77        199970.74\n",
       "4417  153325.10        199953.33\n",
       "9096  178755.84        199929.17\n",
       "8926       0.00        199909.32\n",
       "5958  165298.12        199862.75\n",
       "1378   40169.88        199857.47\n",
       "6402  155423.17        199841.32\n",
       "8088  100116.67        199808.10\n",
       "6125   93244.42        199805.63"
      ]
     },
     "execution_count": 44,
     "metadata": {},
     "output_type": "execute_result"
    }
   ],
   "source": [
    "df.sort_values(by=['EstimatedSalary'],ascending=False)[['Balance','EstimatedSalary']].head(10)"
   ]
  },
  {
   "cell_type": "code",
   "execution_count": 45,
   "id": "6b7a8b94",
   "metadata": {},
   "outputs": [],
   "source": [
    "df.drop(['EstimatedSalary'],axis=1,inplace=True) #eliminamos la variable 'EstimatedSalary'"
   ]
  },
  {
   "cell_type": "markdown",
   "id": "c40b8b58",
   "metadata": {},
   "source": [
    "### 3. Visualización gráfica de algunas variables"
   ]
  },
  {
   "cell_type": "code",
   "execution_count": 26,
   "id": "01983f95",
   "metadata": {},
   "outputs": [],
   "source": [
    "import seaborn as sns"
   ]
  },
  {
   "cell_type": "code",
   "execution_count": 47,
   "id": "d1a08728",
   "metadata": {},
   "outputs": [],
   "source": [
    "tabla_credit_cliente = df[['CreditScore','Geography']]\n",
    "by_credit = tabla_credit_cliente.sort_values('CreditScore',ascending=False)\n",
    "by_credit_filter = by_credit[by_credit['CreditScore']==850]"
   ]
  },
  {
   "cell_type": "code",
   "execution_count": 48,
   "id": "08bd6156",
   "metadata": {},
   "outputs": [],
   "source": [
    "#Calculamos la media del CreditScore por paises\n",
    "paises_credit_mean=df.groupby([\"Geography\"], as_index=False)[\"CreditScore\"].mean()"
   ]
  },
  {
   "cell_type": "code",
   "execution_count": 49,
   "id": "482a5dbd",
   "metadata": {},
   "outputs": [
    {
     "data": {
      "text/html": [
       "<div>\n",
       "<style scoped>\n",
       "    .dataframe tbody tr th:only-of-type {\n",
       "        vertical-align: middle;\n",
       "    }\n",
       "\n",
       "    .dataframe tbody tr th {\n",
       "        vertical-align: top;\n",
       "    }\n",
       "\n",
       "    .dataframe thead th {\n",
       "        text-align: right;\n",
       "    }\n",
       "</style>\n",
       "<table border=\"1\" class=\"dataframe\">\n",
       "  <thead>\n",
       "    <tr style=\"text-align: right;\">\n",
       "      <th></th>\n",
       "      <th>Geography</th>\n",
       "      <th>CreditScore</th>\n",
       "    </tr>\n",
       "  </thead>\n",
       "  <tbody>\n",
       "    <tr>\n",
       "      <th>0</th>\n",
       "      <td>France</td>\n",
       "      <td>114</td>\n",
       "    </tr>\n",
       "    <tr>\n",
       "      <th>1</th>\n",
       "      <td>Germany</td>\n",
       "      <td>65</td>\n",
       "    </tr>\n",
       "    <tr>\n",
       "      <th>2</th>\n",
       "      <td>Spain</td>\n",
       "      <td>54</td>\n",
       "    </tr>\n",
       "  </tbody>\n",
       "</table>\n",
       "</div>"
      ],
      "text/plain": [
       "  Geography  CreditScore\n",
       "0    France          114\n",
       "1   Germany           65\n",
       "2     Spain           54"
      ]
     },
     "execution_count": 49,
     "metadata": {},
     "output_type": "execute_result"
    }
   ],
   "source": [
    "groupby_paises=by_credit_filter.groupby([\"Geography\"], as_index=False)[\"CreditScore\"].count()\n",
    "groupby_paises"
   ]
  },
  {
   "cell_type": "code",
   "execution_count": 50,
   "id": "84206abe",
   "metadata": {},
   "outputs": [
    {
     "data": {
      "image/png": "[encoded data removed]",
      "text/plain": [
       "<Figure size 432x288 with 1 Axes>"
      ]
     },
     "metadata": {},
     "output_type": "display_data"
    }
   ],
   "source": [
    "#Los clientes con más puntuación de crédito, los representamos en este gráfico en función del país.\n",
    "\n",
    "# Pie chart, where the slices will be ordered and plotted counter-clockwise:\n",
    "labels = groupby_paises['Geography']\n",
    "sizes = groupby_paises['CreditScore']\n",
    "explode = (0.1, 0, 0)  # only \"explode\" the 2nd slice (i.e. 'Hogs')\n",
    "\n",
    "fig1, ax1 = plt.subplots()\n",
    "ax1.pie(sizes, explode=explode, labels=labels, autopct='%1.1f%%',\n",
    "        shadow=True, startangle=90)\n",
    "\n",
    "plt.show()"
   ]
  },
  {
   "cell_type": "code",
   "execution_count": 51,
   "id": "3b4c3113",
   "metadata": {},
   "outputs": [
    {
     "data": {
      "text/plain": [
       "Male      5457\n",
       "Female    4543\n",
       "Name: Gender, dtype: int64"
      ]
     },
     "execution_count": 51,
     "metadata": {},
     "output_type": "execute_result"
    }
   ],
   "source": [
    "df['Gender'].value_counts()\n",
    "#En el dataset hay un 54% de hombres y un 45% de mujeres"
   ]
  },
  {
   "cell_type": "code",
   "execution_count": 52,
   "id": "92d50bea",
   "metadata": {
    "scrolled": true
   },
   "outputs": [
    {
     "data": {
      "text/plain": [
       "Gender\n",
       "Female    75659.369139\n",
       "Male      77173.974506\n",
       "Name: Balance, dtype: float64"
      ]
     },
     "execution_count": 52,
     "metadata": {},
     "output_type": "execute_result"
    }
   ],
   "source": [
    "df.groupby('Gender')['Balance'].mean()\n",
    "#No hay diferencias significativas del balance entre hombres y mujeres"
   ]
  },
  {
   "cell_type": "code",
   "execution_count": 53,
   "id": "0a605c67",
   "metadata": {},
   "outputs": [
    {
     "data": {
      "text/plain": [
       "Geography\n",
       "France      62092.636516\n",
       "Germany    119730.116134\n",
       "Spain       61818.147763\n",
       "Name: Balance, dtype: float64"
      ]
     },
     "execution_count": 53,
     "metadata": {},
     "output_type": "execute_result"
    }
   ],
   "source": [
    "df.groupby('Geography')['Balance'].mean()\n",
    "#La media del balance en España y Francia es de unos 60000, y en Alemania es de casi el doble"
   ]
  },
  {
   "cell_type": "code",
   "execution_count": 54,
   "id": "ff6e2c20",
   "metadata": {},
   "outputs": [
    {
     "data": {
      "text/plain": [
       "Geography\n",
       "France     649.668329\n",
       "Germany    651.453567\n",
       "Spain      651.333872\n",
       "Name: CreditScore, dtype: float64"
      ]
     },
     "execution_count": 54,
     "metadata": {},
     "output_type": "execute_result"
    }
   ],
   "source": [
    "df.groupby('Geography')['CreditScore'].mean()\n",
    "#La media del CreditScore en España, Francia y Alemania es muy similar"
   ]
  },
  {
   "cell_type": "code",
   "execution_count": 55,
   "id": "230c7b5f",
   "metadata": {},
   "outputs": [
    {
     "data": {
      "text/plain": [
       "1    5084\n",
       "2    4590\n",
       "3     266\n",
       "4      60\n",
       "Name: NumOfProducts, dtype: int64"
      ]
     },
     "execution_count": 55,
     "metadata": {},
     "output_type": "execute_result"
    }
   ],
   "source": [
    "df['NumOfProducts'].value_counts()\n",
    "#Número de clientes que han adquirido 1,2,3,4 productos"
   ]
  },
  {
   "cell_type": "code",
   "execution_count": 56,
   "id": "57753349",
   "metadata": {},
   "outputs": [
    {
     "data": {
      "text/plain": [
       "1    7055\n",
       "0    2945\n",
       "Name: HasCrCard, dtype: int64"
      ]
     },
     "execution_count": 56,
     "metadata": {},
     "output_type": "execute_result"
    }
   ],
   "source": [
    "df['HasCrCard'].value_counts()\n",
    "#Número de clientes que tienen una tarjeta de crédito y número que no la tienen"
   ]
  },
  {
   "cell_type": "code",
   "execution_count": 57,
   "id": "4f5186a0",
   "metadata": {},
   "outputs": [
    {
     "data": {
      "text/plain": [
       "1    5151\n",
       "0    4849\n",
       "Name: IsActiveMember, dtype: int64"
      ]
     },
     "execution_count": 57,
     "metadata": {},
     "output_type": "execute_result"
    }
   ],
   "source": [
    "df['IsActiveMember'].value_counts()\n",
    "#Número de clientes activos e inactivos"
   ]
  },
  {
   "cell_type": "code",
   "execution_count": 29,
   "id": "ab0bcbaa",
   "metadata": {},
   "outputs": [
    {
     "data": {
      "text/plain": [
       "<AxesSubplot:xlabel='Age'>"
      ]
     },
     "execution_count": 29,
     "metadata": {},
     "output_type": "execute_result"
    },
    {
     "data": {
      "image/png": "[encoded data removed]",
      "text/plain": [
       "<Figure size 432x288 with 1 Axes>"
      ]
     },
     "metadata": {
      "needs_background": "light"
     },
     "output_type": "display_data"
    }
   ],
   "source": [
    "df.groupby('Age').count()[\"Tenure\"].plot(kind='bar')"
   ]
  },
  {
   "cell_type": "markdown",
   "id": "bd947b59",
   "metadata": {},
   "source": [
    "### 4. Información de interés en la predicción"
   ]
  },
  {
   "cell_type": "markdown",
   "id": "176cb86a",
   "metadata": {},
   "source": [
    "Ahora calcularemos estadísticos y filtros de groupby para calcular información de interés.  \n",
    "Es decir, variables que puedan clasificar bien la variable 'Churn'.  \n",
    "No esperamos que una variable por si sola pueda predecir si un cliente deja o no el banco, pero sí encontrar indicaciones de las variables que más pueden afectar a la clasificación, una vez desarrollemos los correspondientes modelos."
   ]
  },
  {
   "cell_type": "code",
   "execution_count": 58,
   "id": "692be929",
   "metadata": {},
   "outputs": [
    {
     "data": {
      "text/plain": [
       "Geography\n",
       "France     0.161548\n",
       "Germany    0.324432\n",
       "Spain      0.166734\n",
       "Name: Churn, dtype: float64"
      ]
     },
     "execution_count": 58,
     "metadata": {},
     "output_type": "execute_result"
    }
   ],
   "source": [
    "df.groupby('Geography')['Churn'].mean()\n",
    "#El porcentaje de clientes que dejan el banco es similar en Francia y España, y es el doble en Alemania"
   ]
  },
  {
   "cell_type": "markdown",
   "id": "63c6eba9",
   "metadata": {},
   "source": [
    "Vimos que hay un 20% de datos que dejan el banco y sin embargo un 32% de los alemanes dejan el banco.    \n",
    "Por tanto el que un cliente sea alemán podría ser significativo en la predicción de que deje el banco."
   ]
  },
  {
   "cell_type": "code",
   "execution_count": 59,
   "id": "f557f45d",
   "metadata": {},
   "outputs": [
    {
     "data": {
      "text/plain": [
       "Gender\n",
       "Female    0.250715\n",
       "Male      0.164559\n",
       "Name: Churn, dtype: float64"
      ]
     },
     "execution_count": 59,
     "metadata": {},
     "output_type": "execute_result"
    }
   ],
   "source": [
    "df.groupby('Gender')['Churn'].mean()\n",
    "#Un 25% de los hombres dejan el banco, y en las mujeres es un 16%\n",
    "#No es una diferencia a priori significativa"
   ]
  },
  {
   "cell_type": "code",
   "execution_count": 60,
   "id": "e395cd60",
   "metadata": {},
   "outputs": [
    {
     "data": {
      "text/plain": [
       "Tenure\n",
       "0     0.230024\n",
       "1     0.224155\n",
       "2     0.191794\n",
       "3     0.211100\n",
       "4     0.205258\n",
       "5     0.206522\n",
       "6     0.202689\n",
       "7     0.172179\n",
       "8     0.192195\n",
       "9     0.216463\n",
       "10    0.206122\n",
       "Name: Churn, dtype: float64"
      ]
     },
     "execution_count": 60,
     "metadata": {},
     "output_type": "execute_result"
    }
   ],
   "source": [
    "df.groupby('Tenure')['Churn'].mean()\n",
    "#El porcentaje de clientes que dejan el banco es cercano al 20% para todos los valores de 'Tenure'\n",
    "#Por tanto por si sola no es una buena variabe de predicción de Churn"
   ]
  },
  {
   "cell_type": "code",
   "execution_count": 61,
   "id": "4842b3b7",
   "metadata": {},
   "outputs": [
    {
     "data": {
      "text/plain": [
       "HasCrCard\n",
       "0    0.208149\n",
       "1    0.201843\n",
       "Name: Churn, dtype: float64"
      ]
     },
     "execution_count": 61,
     "metadata": {},
     "output_type": "execute_result"
    }
   ],
   "source": [
    "df.groupby('HasCrCard')['Churn'].mean()\n",
    "#Lo mismo ocurre con 'HasCrCard', donde el porcentaje de salida del banco es similar a la media en todo el conjunto de datos"
   ]
  },
  {
   "cell_type": "code",
   "execution_count": 62,
   "id": "c8c08dae",
   "metadata": {},
   "outputs": [
    {
     "data": {
      "text/plain": [
       "IsActiveMember\n",
       "0    0.268509\n",
       "1    0.142691\n",
       "Name: Churn, dtype: float64"
      ]
     },
     "execution_count": 62,
     "metadata": {},
     "output_type": "execute_result"
    }
   ],
   "source": [
    "df.groupby('IsActiveMember')['Churn'].mean()\n",
    "#Para 'IsActiveMember' los porcentajes son similares a los de 'Gender'"
   ]
  },
  {
   "cell_type": "code",
   "execution_count": 63,
   "id": "bfd03eb2",
   "metadata": {},
   "outputs": [
    {
     "data": {
      "text/plain": [
       "NumOfProducts\n",
       "1    0.277144\n",
       "2    0.075817\n",
       "3    0.827068\n",
       "4    1.000000\n",
       "Name: Churn, dtype: float64"
      ]
     },
     "execution_count": 63,
     "metadata": {},
     "output_type": "execute_result"
    }
   ],
   "source": [
    "df.groupby('NumOfProducts')['Churn'].mean()"
   ]
  },
  {
   "cell_type": "markdown",
   "id": "c2a074f1",
   "metadata": {},
   "source": [
    "Aquí obtenemos unos datos bastante reveladores.  \n",
    "Cerca de un 7% de personas con 2 productos dejan el banco, es decir, tener 2 productos podría ser un buen indicador de que se vaya a quedar en el banco.  \n",
    "Por otro lado, más de un 80% y el 100% de los clientes con 3 y 4 productos respectivamente dejan el banco.  \n",
    "Por tanto tener 3 o 4 productos puede ser un buen clasificador de que vayan a dejar el banco.\n",
    "\n",
    "Veamos el número de observaciones de cada valor para comprobar que hay suficientes:"
   ]
  },
  {
   "cell_type": "code",
   "execution_count": 64,
   "id": "1bbd9fe7",
   "metadata": {},
   "outputs": [
    {
     "data": {
      "text/plain": [
       "1    5084\n",
       "2    4590\n",
       "3     266\n",
       "4      60\n",
       "Name: NumOfProducts, dtype: int64"
      ]
     },
     "execution_count": 64,
     "metadata": {},
     "output_type": "execute_result"
    }
   ],
   "source": [
    "df['NumOfProducts'].value_counts()"
   ]
  },
  {
   "cell_type": "markdown",
   "id": "9f6a7e4c",
   "metadata": {},
   "source": [
    "Aunque las observaciones con 3 y 4 productos representan un 3% de los datos, tienen un porcentaje de salida del banco demasiado alto como para ser ignorado.  \n",
    "Por otra parte, casi un 46% de los datos tienen 2 productos, con un porcentaje de salida del banco muy bajo.\n",
    "\n",
    "Por tanto concluimos que la variable 'NumOfProducts' probablemente sea decisiva en la clasificación de los clientes."
   ]
  },
  {
   "cell_type": "code",
   "execution_count": 65,
   "id": "c8f473bd",
   "metadata": {
    "scrolled": false
   },
   "outputs": [
    {
     "data": {
      "image/png": "[encoded data removed]",
      "text/plain": [
       "<Figure size 864x432 with 1 Axes>"
      ]
     },
     "metadata": {
      "needs_background": "light"
     },
     "output_type": "display_data"
    }
   ],
   "source": [
    "from sklearn.preprocessing import LabelEncoder\n",
    "import math\n",
    "\n",
    "X = df['NumOfProducts'].values\n",
    "y = df['Churn'].values\n",
    "\n",
    "label_dict = {0: 'No deja el banco', 1: 'Si deja el banco'}\n",
    "\n",
    "\n",
    "\n",
    "feature_dict = {i:label for i,label in zip(\n",
    "                range(2), #cambiar en funcion de cuantas variables haya\n",
    "                  ('Numero de productos', ))}\n",
    "\n",
    "fig, axes = plt.subplots(nrows=1, ncols=1, figsize=(12,6)) #depende de cuantas variables haya 2x2=4 variables\n",
    "\n",
    " \n",
    "cnt=0\n",
    "# set bin sizes\n",
    "min_b = math.floor(np.min(X))\n",
    "max_b = math.ceil(np.max(X))\n",
    "bins = np.linspace(min_b, max_b, 25)\n",
    "\n",
    "    # plottling the histograms\n",
    "for lab,col in zip(range(0,2), ('green', 'red')):\n",
    "    axes.hist(X[(y==lab)],\n",
    "                 color=col,\n",
    "                label='%s' %label_dict[lab], #label_dict lo defines cuando usas LabelEncoder()\n",
    "                bins=bins,\n",
    "                alpha=0.5,)\n",
    "ylims = axes.get_ylim()\n",
    "\n",
    "    # plot annotation\n",
    "leg = axes.legend(loc='upper right', fancybox=True, fontsize=8)\n",
    "leg.get_frame().set_alpha(0.5)\n",
    "axes.set_ylim([0, max(ylims)+2])\n",
    "axes.set_xlabel(feature_dict[cnt])\n",
    "axes.set_title('Histograma NumOfProducts') #cambiar el titulo\n",
    "\n",
    "    # hide axis ticks\n",
    "axes.tick_params(axis=\"both\", which=\"both\", bottom=\"off\", top=\"off\",  \n",
    "            labelbottom=\"on\", left=\"off\", right=\"off\", labelleft=\"on\")\n",
    "\n",
    "    # remove axis spines\n",
    "axes.spines[\"top\"].set_visible(False)  \n",
    "axes.spines[\"right\"].set_visible(False)\n",
    "axes.spines[\"bottom\"].set_visible(False)\n",
    "axes.spines[\"left\"].set_visible(False)    \n",
    "\n",
    "axes.set_ylabel('count')\n",
    "\n",
    "fig.tight_layout()       \n",
    "\n",
    "plt.show()"
   ]
  },
  {
   "cell_type": "markdown",
   "id": "22c57ed7",
   "metadata": {},
   "source": [
    "En este gráfico se observa como la variable 'NumOfProducts' clasifica muy bien si un cliente deja el banco o no, dependiendo de si ha adquirido 2 productos con el banco (se queda en el banco) o más (sale del banco).  \n",
    "También queda reflejado el bajo número de observaciones con 3 y 4 productos."
   ]
  },
  {
   "cell_type": "markdown",
   "id": "3c5319d2",
   "metadata": {},
   "source": [
    "#### Recodificación de las variables 'CreditScore', 'Age', 'Balance'"
   ]
  },
  {
   "cell_type": "markdown",
   "id": "2d982524",
   "metadata": {},
   "source": [
    "En las variables numéricas 'CreditScore', 'Age', 'Balance', para poder ver si pueden predecir la variable 'Churn', se van a recodificar en variables categóricas ordinales y desde esas variables se verá la media de la variable 'Churn', de la misma forma que hemos hecho con las variables categóricas.\n",
    "\n",
    "Comenzamos viendo cómo están repartidos los valores a través de los percentiles e histogramas:"
   ]
  },
  {
   "cell_type": "code",
   "execution_count": 66,
   "id": "f3c41088",
   "metadata": {},
   "outputs": [
    {
     "data": {
      "text/html": [
       "<div>\n",
       "<style scoped>\n",
       "    .dataframe tbody tr th:only-of-type {\n",
       "        vertical-align: middle;\n",
       "    }\n",
       "\n",
       "    .dataframe tbody tr th {\n",
       "        vertical-align: top;\n",
       "    }\n",
       "\n",
       "    .dataframe thead th {\n",
       "        text-align: right;\n",
       "    }\n",
       "</style>\n",
       "<table border=\"1\" class=\"dataframe\">\n",
       "  <thead>\n",
       "    <tr style=\"text-align: right;\">\n",
       "      <th></th>\n",
       "      <th>CreditScore</th>\n",
       "      <th>Age</th>\n",
       "      <th>Balance</th>\n",
       "    </tr>\n",
       "  </thead>\n",
       "  <tbody>\n",
       "    <tr>\n",
       "      <th>count</th>\n",
       "      <td>10000.000000</td>\n",
       "      <td>10000.000000</td>\n",
       "      <td>10000.000000</td>\n",
       "    </tr>\n",
       "    <tr>\n",
       "      <th>mean</th>\n",
       "      <td>650.528800</td>\n",
       "      <td>38.921800</td>\n",
       "      <td>76485.889288</td>\n",
       "    </tr>\n",
       "    <tr>\n",
       "      <th>std</th>\n",
       "      <td>96.653299</td>\n",
       "      <td>10.487806</td>\n",
       "      <td>62397.405202</td>\n",
       "    </tr>\n",
       "    <tr>\n",
       "      <th>min</th>\n",
       "      <td>350.000000</td>\n",
       "      <td>18.000000</td>\n",
       "      <td>0.000000</td>\n",
       "    </tr>\n",
       "    <tr>\n",
       "      <th>25%</th>\n",
       "      <td>584.000000</td>\n",
       "      <td>32.000000</td>\n",
       "      <td>0.000000</td>\n",
       "    </tr>\n",
       "    <tr>\n",
       "      <th>50%</th>\n",
       "      <td>652.000000</td>\n",
       "      <td>37.000000</td>\n",
       "      <td>97198.540000</td>\n",
       "    </tr>\n",
       "    <tr>\n",
       "      <th>75%</th>\n",
       "      <td>718.000000</td>\n",
       "      <td>44.000000</td>\n",
       "      <td>127644.240000</td>\n",
       "    </tr>\n",
       "    <tr>\n",
       "      <th>max</th>\n",
       "      <td>850.000000</td>\n",
       "      <td>92.000000</td>\n",
       "      <td>250898.090000</td>\n",
       "    </tr>\n",
       "  </tbody>\n",
       "</table>\n",
       "</div>"
      ],
      "text/plain": [
       "        CreditScore           Age        Balance\n",
       "count  10000.000000  10000.000000   10000.000000\n",
       "mean     650.528800     38.921800   76485.889288\n",
       "std       96.653299     10.487806   62397.405202\n",
       "min      350.000000     18.000000       0.000000\n",
       "25%      584.000000     32.000000       0.000000\n",
       "50%      652.000000     37.000000   97198.540000\n",
       "75%      718.000000     44.000000  127644.240000\n",
       "max      850.000000     92.000000  250898.090000"
      ]
     },
     "execution_count": 66,
     "metadata": {},
     "output_type": "execute_result"
    }
   ],
   "source": [
    "df[['CreditScore','Age', 'Balance']].describe()"
   ]
  },
  {
   "cell_type": "code",
   "execution_count": 67,
   "id": "d3f402c6",
   "metadata": {},
   "outputs": [
    {
     "data": {
      "image/png": "[encoded data removed]",
      "text/plain": [
       "<Figure size 720x360 with 1 Axes>"
      ]
     },
     "metadata": {
      "needs_background": "light"
     },
     "output_type": "display_data"
    }
   ],
   "source": [
    "fig, ax1 = plt.subplots(nrows = 1, figsize=(10,5))   \n",
    "\n",
    "# representamos una sola variable (la segunda)\n",
    "ax1.hist(df['CreditScore'], label=['CreditScore'], bins = 100)  \n",
    "ax1.legend(loc=0)\n",
    "\n",
    "ax1.set_title('Histograma CreditScore')\n",
    "ax1.set_xlabel('Valores')\n",
    "ax1.set_ylabel('Frecuencia');"
   ]
  },
  {
   "cell_type": "markdown",
   "id": "02667855",
   "metadata": {},
   "source": [
    "El histograma es muy simétrico sin contar el valor de 850, por tanto escogemos los valores de codificación en función de los percentiles.  \n",
    "Es decir, agruparemos la variable por 350-584, 585-652, 653-718, 719-850."
   ]
  },
  {
   "cell_type": "code",
   "execution_count": 68,
   "id": "e8e33904",
   "metadata": {
    "scrolled": true
   },
   "outputs": [
    {
     "data": {
      "image/png": "[encoded data removed]",
      "text/plain": [
       "<Figure size 720x360 with 1 Axes>"
      ]
     },
     "metadata": {
      "needs_background": "light"
     },
     "output_type": "display_data"
    }
   ],
   "source": [
    "fig, ax1 = plt.subplots(nrows = 1, figsize=(10,5))   \n",
    "\n",
    "# representamos una sola variable (la segunda)\n",
    "ax1.hist(df['Age'], label=['Age'], bins = 10)  \n",
    "ax1.legend(loc=0)\n",
    "\n",
    "ax1.set_title('Histograma Age')\n",
    "ax1.set_xlabel('Valores')\n",
    "ax1.set_ylabel('Frecuencia');"
   ]
  },
  {
   "cell_type": "markdown",
   "id": "34586804",
   "metadata": {},
   "source": [
    "Para la variable edad, no se observa simetría.  \n",
    "Si hiciésemos la codificación por los pertentiles, sería de 18-31, de 32-36, 37-44 y de 45-82.  \n",
    "Estas agrupaciones tienen poco sentido considerando el tiempo que puede llevar trabajando una persona y por tanto la cantidad de dinero en la cuenta, entre otros aspectos (en definitiva, tendrán un perfil de cuenta bancaria distinto). Para tener en cuenta las características propias de la variable edad y el resto de variables, decidimos codificarla por la \"madurez\" de la experiencia laboral.  \n",
    "\n",
    "Es decir, agruparemos primero desde 18-25 (indicando un grupo de personas con pocos ahorros, poco numero de productos, etc), y otro grupo desde la edad de jubilación en adelante, 63 o más. Para el grupo restante entre 26 y 62 años, decidimos dividirlos de forma simétrica, ya que estaríamos agrupando de 26-44 y de 45-62, agrupando en personas que empiezan a tener una vida laboral más segura, comienzan a ahorrar, etc, y otro grupo de personas ya con un perfil bancario más maduro y asentado.\n"
   ]
  },
  {
   "cell_type": "code",
   "execution_count": 69,
   "id": "63def08d",
   "metadata": {},
   "outputs": [
    {
     "data": {
      "image/png": "[encoded data removed]",
      "text/plain": [
       "<Figure size 720x360 with 1 Axes>"
      ]
     },
     "metadata": {
      "needs_background": "light"
     },
     "output_type": "display_data"
    }
   ],
   "source": [
    "fig, ax1 = plt.subplots(nrows = 1, figsize=(10,5))   \n",
    "\n",
    "# representamos una sola variable (la segunda)\n",
    "ax1.hist(df['Balance'], label=['Balance'], bins = 10)  \n",
    "ax1.legend(loc=0)\n",
    "\n",
    "ax1.set_title('Histograma Balance')\n",
    "ax1.set_xlabel('Valores')\n",
    "ax1.set_ylabel('Frecuencia');"
   ]
  },
  {
   "cell_type": "markdown",
   "id": "b23a3a44",
   "metadata": {},
   "source": [
    "La agrupación por percentiles es correcta, ya que quitando el valor 0, el histograma es bastante simétrico y por tanto la separación será adecuada.  \n",
    "Es decir, agruparemos los valores de 'Balance' en 0, 0-97198, 97198-127644, 127644-250898."
   ]
  },
  {
   "cell_type": "markdown",
   "id": "1da42cea",
   "metadata": {},
   "source": [
    "Comenzamos con la codificación de las variables:"
   ]
  },
  {
   "cell_type": "code",
   "execution_count": 70,
   "id": "77203d84",
   "metadata": {},
   "outputs": [
    {
     "data": {
      "text/html": [
       "<div>\n",
       "<style scoped>\n",
       "    .dataframe tbody tr th:only-of-type {\n",
       "        vertical-align: middle;\n",
       "    }\n",
       "\n",
       "    .dataframe tbody tr th {\n",
       "        vertical-align: top;\n",
       "    }\n",
       "\n",
       "    .dataframe thead th {\n",
       "        text-align: right;\n",
       "    }\n",
       "</style>\n",
       "<table border=\"1\" class=\"dataframe\">\n",
       "  <thead>\n",
       "    <tr style=\"text-align: right;\">\n",
       "      <th></th>\n",
       "      <th>CreditScore</th>\n",
       "      <th>CreditScore_Recode</th>\n",
       "    </tr>\n",
       "  </thead>\n",
       "  <tbody>\n",
       "    <tr>\n",
       "      <th>0</th>\n",
       "      <td>619</td>\n",
       "      <td>2</td>\n",
       "    </tr>\n",
       "    <tr>\n",
       "      <th>1</th>\n",
       "      <td>608</td>\n",
       "      <td>2</td>\n",
       "    </tr>\n",
       "    <tr>\n",
       "      <th>2</th>\n",
       "      <td>502</td>\n",
       "      <td>1</td>\n",
       "    </tr>\n",
       "    <tr>\n",
       "      <th>3</th>\n",
       "      <td>699</td>\n",
       "      <td>3</td>\n",
       "    </tr>\n",
       "    <tr>\n",
       "      <th>4</th>\n",
       "      <td>850</td>\n",
       "      <td>4</td>\n",
       "    </tr>\n",
       "    <tr>\n",
       "      <th>5</th>\n",
       "      <td>645</td>\n",
       "      <td>2</td>\n",
       "    </tr>\n",
       "    <tr>\n",
       "      <th>6</th>\n",
       "      <td>822</td>\n",
       "      <td>4</td>\n",
       "    </tr>\n",
       "    <tr>\n",
       "      <th>7</th>\n",
       "      <td>376</td>\n",
       "      <td>1</td>\n",
       "    </tr>\n",
       "    <tr>\n",
       "      <th>8</th>\n",
       "      <td>501</td>\n",
       "      <td>1</td>\n",
       "    </tr>\n",
       "    <tr>\n",
       "      <th>9</th>\n",
       "      <td>684</td>\n",
       "      <td>3</td>\n",
       "    </tr>\n",
       "  </tbody>\n",
       "</table>\n",
       "</div>"
      ],
      "text/plain": [
       "   CreditScore CreditScore_Recode\n",
       "0          619                  2\n",
       "1          608                  2\n",
       "2          502                  1\n",
       "3          699                  3\n",
       "4          850                  4\n",
       "5          645                  2\n",
       "6          822                  4\n",
       "7          376                  1\n",
       "8          501                  1\n",
       "9          684                  3"
      ]
     },
     "execution_count": 70,
     "metadata": {},
     "output_type": "execute_result"
    }
   ],
   "source": [
    "bins=[0,584,652,718,850]\n",
    "names=[1,2,3,4]\n",
    "df['CreditScore_Recode']=pd.cut(df['CreditScore'],bins,labels=names)\n",
    "df[['CreditScore','CreditScore_Recode']].head(10)"
   ]
  },
  {
   "cell_type": "code",
   "execution_count": 71,
   "id": "59782ea0",
   "metadata": {
    "scrolled": true
   },
   "outputs": [
    {
     "data": {
      "text/html": [
       "<div>\n",
       "<style scoped>\n",
       "    .dataframe tbody tr th:only-of-type {\n",
       "        vertical-align: middle;\n",
       "    }\n",
       "\n",
       "    .dataframe tbody tr th {\n",
       "        vertical-align: top;\n",
       "    }\n",
       "\n",
       "    .dataframe thead th {\n",
       "        text-align: right;\n",
       "    }\n",
       "</style>\n",
       "<table border=\"1\" class=\"dataframe\">\n",
       "  <thead>\n",
       "    <tr style=\"text-align: right;\">\n",
       "      <th></th>\n",
       "      <th>Age</th>\n",
       "      <th>Age_Recode</th>\n",
       "    </tr>\n",
       "  </thead>\n",
       "  <tbody>\n",
       "    <tr>\n",
       "      <th>0</th>\n",
       "      <td>42</td>\n",
       "      <td>2</td>\n",
       "    </tr>\n",
       "    <tr>\n",
       "      <th>1</th>\n",
       "      <td>41</td>\n",
       "      <td>2</td>\n",
       "    </tr>\n",
       "    <tr>\n",
       "      <th>2</th>\n",
       "      <td>42</td>\n",
       "      <td>2</td>\n",
       "    </tr>\n",
       "    <tr>\n",
       "      <th>3</th>\n",
       "      <td>39</td>\n",
       "      <td>2</td>\n",
       "    </tr>\n",
       "    <tr>\n",
       "      <th>4</th>\n",
       "      <td>43</td>\n",
       "      <td>2</td>\n",
       "    </tr>\n",
       "    <tr>\n",
       "      <th>5</th>\n",
       "      <td>44</td>\n",
       "      <td>2</td>\n",
       "    </tr>\n",
       "    <tr>\n",
       "      <th>6</th>\n",
       "      <td>50</td>\n",
       "      <td>3</td>\n",
       "    </tr>\n",
       "    <tr>\n",
       "      <th>7</th>\n",
       "      <td>29</td>\n",
       "      <td>2</td>\n",
       "    </tr>\n",
       "    <tr>\n",
       "      <th>8</th>\n",
       "      <td>44</td>\n",
       "      <td>2</td>\n",
       "    </tr>\n",
       "    <tr>\n",
       "      <th>9</th>\n",
       "      <td>27</td>\n",
       "      <td>2</td>\n",
       "    </tr>\n",
       "  </tbody>\n",
       "</table>\n",
       "</div>"
      ],
      "text/plain": [
       "   Age Age_Recode\n",
       "0   42          2\n",
       "1   41          2\n",
       "2   42          2\n",
       "3   39          2\n",
       "4   43          2\n",
       "5   44          2\n",
       "6   50          3\n",
       "7   29          2\n",
       "8   44          2\n",
       "9   27          2"
      ]
     },
     "execution_count": 71,
     "metadata": {},
     "output_type": "execute_result"
    }
   ],
   "source": [
    "bins=[17,25,44,62,92]\n",
    "names=[1,2,3,4]\n",
    "df['Age_Recode']=pd.cut(df['Age'],bins,labels=names)\n",
    "df[['Age','Age_Recode']].head(10)"
   ]
  },
  {
   "cell_type": "markdown",
   "id": "89822dae",
   "metadata": {},
   "source": [
    "Para 'Balance', la codificación se hace de forma diferente, ya que uno de los grupos toma el valor 0 únicamente.  \n",
    "Al ser una variable continua, no es relevante agrupar incluyendo números con decimales."
   ]
  },
  {
   "cell_type": "code",
   "execution_count": 72,
   "id": "5a62a552",
   "metadata": {},
   "outputs": [
    {
     "data": {
      "text/html": [
       "<div>\n",
       "<style scoped>\n",
       "    .dataframe tbody tr th:only-of-type {\n",
       "        vertical-align: middle;\n",
       "    }\n",
       "\n",
       "    .dataframe tbody tr th {\n",
       "        vertical-align: top;\n",
       "    }\n",
       "\n",
       "    .dataframe thead th {\n",
       "        text-align: right;\n",
       "    }\n",
       "</style>\n",
       "<table border=\"1\" class=\"dataframe\">\n",
       "  <thead>\n",
       "    <tr style=\"text-align: right;\">\n",
       "      <th></th>\n",
       "      <th>Balance</th>\n",
       "      <th>Balance_Recode</th>\n",
       "    </tr>\n",
       "  </thead>\n",
       "  <tbody>\n",
       "    <tr>\n",
       "      <th>0</th>\n",
       "      <td>0.00</td>\n",
       "      <td>1.0</td>\n",
       "    </tr>\n",
       "    <tr>\n",
       "      <th>1</th>\n",
       "      <td>83807.86</td>\n",
       "      <td>2.0</td>\n",
       "    </tr>\n",
       "    <tr>\n",
       "      <th>2</th>\n",
       "      <td>159660.80</td>\n",
       "      <td>4.0</td>\n",
       "    </tr>\n",
       "    <tr>\n",
       "      <th>3</th>\n",
       "      <td>0.00</td>\n",
       "      <td>1.0</td>\n",
       "    </tr>\n",
       "    <tr>\n",
       "      <th>4</th>\n",
       "      <td>125510.82</td>\n",
       "      <td>3.0</td>\n",
       "    </tr>\n",
       "    <tr>\n",
       "      <th>5</th>\n",
       "      <td>113755.78</td>\n",
       "      <td>3.0</td>\n",
       "    </tr>\n",
       "    <tr>\n",
       "      <th>6</th>\n",
       "      <td>0.00</td>\n",
       "      <td>1.0</td>\n",
       "    </tr>\n",
       "    <tr>\n",
       "      <th>7</th>\n",
       "      <td>115046.74</td>\n",
       "      <td>3.0</td>\n",
       "    </tr>\n",
       "    <tr>\n",
       "      <th>8</th>\n",
       "      <td>142051.07</td>\n",
       "      <td>4.0</td>\n",
       "    </tr>\n",
       "    <tr>\n",
       "      <th>9</th>\n",
       "      <td>134603.88</td>\n",
       "      <td>4.0</td>\n",
       "    </tr>\n",
       "  </tbody>\n",
       "</table>\n",
       "</div>"
      ],
      "text/plain": [
       "     Balance  Balance_Recode\n",
       "0       0.00             1.0\n",
       "1   83807.86             2.0\n",
       "2  159660.80             4.0\n",
       "3       0.00             1.0\n",
       "4  125510.82             3.0\n",
       "5  113755.78             3.0\n",
       "6       0.00             1.0\n",
       "7  115046.74             3.0\n",
       "8  142051.07             4.0\n",
       "9  134603.88             4.0"
      ]
     },
     "execution_count": 72,
     "metadata": {},
     "output_type": "execute_result"
    }
   ],
   "source": [
    "df.loc[df.Balance == 0, 'Balance_Recode'] = 1\n",
    "df.loc[(df.Balance > 0) & (df.Balance <= 97198), 'Balance_Recode'] = 2\n",
    "df.loc[(df.Balance > 97198) & (df.Balance <= 127644), 'Balance_Recode'] = 3\n",
    "df.loc[(df.Balance > 127644) , 'Balance_Recode'] = 4\n",
    "df[['Balance','Balance_Recode']].head(10)"
   ]
  },
  {
   "cell_type": "markdown",
   "id": "0ee5d3c3",
   "metadata": {},
   "source": [
    "Ahora podemos ver si estas nuevas variables predicen bien la variable 'Churn':"
   ]
  },
  {
   "cell_type": "code",
   "execution_count": 73,
   "id": "42c49d8c",
   "metadata": {},
   "outputs": [
    {
     "data": {
      "text/plain": [
       "CreditScore_Recode\n",
       "1    0.219416\n",
       "2    0.210316\n",
       "3    0.181855\n",
       "4    0.203004\n",
       "Name: Churn, dtype: float64"
      ]
     },
     "execution_count": 73,
     "metadata": {},
     "output_type": "execute_result"
    }
   ],
   "source": [
    "df.groupby('CreditScore_Recode')['Churn'].mean()\n",
    "#Para 'CreditScore_Recode', la proporción de clientes que dejan el banco es muy similar a la media del conjunto de datos"
   ]
  },
  {
   "cell_type": "code",
   "execution_count": 74,
   "id": "49f52f1f",
   "metadata": {},
   "outputs": [
    {
     "data": {
      "text/plain": [
       "Age_Recode\n",
       "1    0.075286\n",
       "2    0.134345\n",
       "3    0.490156\n",
       "4    0.203343\n",
       "Name: Churn, dtype: float64"
      ]
     },
     "execution_count": 74,
     "metadata": {},
     "output_type": "execute_result"
    }
   ],
   "source": [
    "df.groupby('Age_Recode')['Churn'].mean()"
   ]
  },
  {
   "cell_type": "markdown",
   "id": "f5e16a16",
   "metadata": {},
   "source": [
    "Destacamos que para el primer grupo de edad (18-25 años) se obtiene un 7% de observaciones que se van del banco y para el tercer grupo (45-62 años) se obtiene casi un 50% de clientes que dejan el banco.  \n",
    "Por tanto, teniendo en cuenta que el porcentaje medio de observaciones que dejan el banco es del 20%, podemos deducir que tener entre 18 y 25 años será una buena indicación de que se vaya a quedar en el banco, y tener entre 45 y 62 años, indicará que hay más probabilidades de que deje el banco."
   ]
  },
  {
   "cell_type": "code",
   "execution_count": 75,
   "id": "9d278a94",
   "metadata": {},
   "outputs": [
    {
     "data": {
      "text/plain": [
       "2    7049\n",
       "3    1981\n",
       "1     611\n",
       "4     359\n",
       "Name: Age_Recode, dtype: int64"
      ]
     },
     "execution_count": 75,
     "metadata": {},
     "output_type": "execute_result"
    }
   ],
   "source": [
    "df['Age_Recode'].value_counts()\n",
    "#Confirmamos que se tienen observaciones suficientes en ambos grupos"
   ]
  },
  {
   "cell_type": "code",
   "execution_count": 76,
   "id": "020ce46a",
   "metadata": {
    "scrolled": false
   },
   "outputs": [
    {
     "data": {
      "image/png": "[encoded data removed]",
      "text/plain": [
       "<Figure size 864x432 with 1 Axes>"
      ]
     },
     "metadata": {
      "needs_background": "light"
     },
     "output_type": "display_data"
    }
   ],
   "source": [
    "X = df['Age_Recode'].values\n",
    "y = df['Churn'].values\n",
    "\n",
    "label_dict = {0: 'No deja el banco', 1: 'Si deja el banco'}\n",
    "\n",
    "\n",
    "\n",
    "feature_dict = {i:label for i,label in zip(\n",
    "                range(2), #cambiar en funcion de cuantas variables haya\n",
    "                  ('Numero de productos', ))}\n",
    "\n",
    "fig, axes = plt.subplots(nrows=1, ncols=1, figsize=(12,6)) #depende de cuantas variables haya 2x2=4 variables\n",
    "\n",
    " \n",
    "cnt=0\n",
    "# set bin sizes\n",
    "min_b = math.floor(np.min(X))\n",
    "max_b = math.ceil(np.max(X))\n",
    "bins = np.linspace(min_b, max_b, 25)\n",
    "\n",
    "    # plottling the histograms\n",
    "for lab,col in zip(range(0,2), ('green', 'red')):\n",
    "    axes.hist(X[(y==lab)],\n",
    "                 color=col,\n",
    "                label='%s' %label_dict[lab], #label_dict lo defines cuando usas LabelEncoder()\n",
    "                bins=bins,\n",
    "                alpha=0.5,)\n",
    "ylims = axes.get_ylim()\n",
    "\n",
    "    # plot annotation\n",
    "leg = axes.legend(loc='upper right', fancybox=True, fontsize=8)\n",
    "leg.get_frame().set_alpha(0.5)\n",
    "axes.set_ylim([0, max(ylims)+2])\n",
    "axes.set_xlabel(feature_dict[cnt])\n",
    "axes.set_title('Histograma NumOfProducts') #cambiar el titulo\n",
    "\n",
    "    # hide axis ticks\n",
    "axes.tick_params(axis=\"both\", which=\"both\", bottom=\"off\", top=\"off\",  \n",
    "            labelbottom=\"on\", left=\"off\", right=\"off\", labelleft=\"on\")\n",
    "\n",
    "    # remove axis spines\n",
    "axes.spines[\"top\"].set_visible(False)  \n",
    "axes.spines[\"right\"].set_visible(False)\n",
    "axes.spines[\"bottom\"].set_visible(False)\n",
    "axes.spines[\"left\"].set_visible(False)    \n",
    "\n",
    "axes.set_ylabel('count')\n",
    "\n",
    "fig.tight_layout()       \n",
    "\n",
    "plt.show()"
   ]
  },
  {
   "cell_type": "markdown",
   "id": "2a106684",
   "metadata": {},
   "source": [
    "En este gráfico queda representado lo explicado anteriormente.\n",
    "\n",
    "Por último, para la variable 'Balance_Recode':"
   ]
  },
  {
   "cell_type": "code",
   "execution_count": 77,
   "id": "15ccf5bf",
   "metadata": {},
   "outputs": [
    {
     "data": {
      "text/plain": [
       "Balance_Recode\n",
       "1.0    0.138236\n",
       "2.0    0.208243\n",
       "3.0    0.262800\n",
       "4.0    0.236800\n",
       "Name: Churn, dtype: float64"
      ]
     },
     "execution_count": 77,
     "metadata": {},
     "output_type": "execute_result"
    }
   ],
   "source": [
    "df.groupby('Balance_Recode')['Churn'].mean()"
   ]
  },
  {
   "cell_type": "markdown",
   "id": "832c38f5",
   "metadata": {},
   "source": [
    "En 'Balance_Recode' obtenemos resultados similares a 'CreditScore_Recode', es decir que por si solas no predicen bien la variable 'Churn'."
   ]
  },
  {
   "cell_type": "markdown",
   "id": "246c513d",
   "metadata": {},
   "source": [
    "Una vez visto esto, trataremos de obtener aún mejores resultados combinando los valores de las variables que a priori mejor clasifican los datos:"
   ]
  },
  {
   "cell_type": "markdown",
   "id": "2906942c",
   "metadata": {},
   "source": [
    "#### Geography - NumOfProducts"
   ]
  },
  {
   "cell_type": "code",
   "execution_count": 78,
   "id": "8908ec8b",
   "metadata": {},
   "outputs": [
    {
     "data": {
      "text/plain": [
       "Geography  NumOfProducts\n",
       "France     1                0.224344\n",
       "           2                0.057034\n",
       "           3                0.788462\n",
       "           4                1.000000\n",
       "Germany    1                0.428466\n",
       "           2                0.121154\n",
       "           3                0.895833\n",
       "           4                1.000000\n",
       "Spain      1                0.218673\n",
       "           2                0.073542\n",
       "           3                0.787879\n",
       "           4                1.000000\n",
       "Name: Churn, dtype: float64"
      ]
     },
     "execution_count": 78,
     "metadata": {},
     "output_type": "execute_result"
    }
   ],
   "source": [
    "df.groupby(['Geography','NumOfProducts'])['Churn'].mean()"
   ]
  },
  {
   "cell_type": "markdown",
   "id": "fa7b00a8",
   "metadata": {},
   "source": [
    "Fijándonos en los valores de **Germany** con **3 y 4 productos**, observamos que hemos conseguido mejorar la proporción de clientes que dejan el banco con 3 productos del **82% al 89%** (con 4 productos era del 100%)"
   ]
  },
  {
   "cell_type": "code",
   "execution_count": 79,
   "id": "ca8990a1",
   "metadata": {},
   "outputs": [
    {
     "name": "stdout",
     "output_type": "stream",
     "text": [
      "96\n",
      "24\n"
     ]
    }
   ],
   "source": [
    "print(df[['Geography','NumOfProducts']].value_counts()['Germany',3]) #96 observaciones para el primer grupo\n",
    "print(df[['Geography','NumOfProducts']].value_counts()['Germany',4]) #24 observaciones para el segundo grupo"
   ]
  },
  {
   "cell_type": "markdown",
   "id": "ecc9c583",
   "metadata": {},
   "source": [
    "#### Geography - Age_Recode"
   ]
  },
  {
   "cell_type": "code",
   "execution_count": 80,
   "id": "d3926a8d",
   "metadata": {},
   "outputs": [
    {
     "data": {
      "text/plain": [
       "Geography  Age_Recode\n",
       "France     1             0.052288\n",
       "           2             0.103638\n",
       "           3             0.435412\n",
       "           4             0.148352\n",
       "Germany    1             0.111888\n",
       "           2             0.222884\n",
       "           3             0.653974\n",
       "           4             0.345238\n",
       "Spain      1             0.086420\n",
       "           2             0.113024\n",
       "           3             0.386221\n",
       "           4             0.182796\n",
       "Name: Churn, dtype: float64"
      ]
     },
     "execution_count": 80,
     "metadata": {},
     "output_type": "execute_result"
    }
   ],
   "source": [
    "df.groupby(['Geography','Age_Recode'])['Churn'].mean()"
   ]
  },
  {
   "cell_type": "markdown",
   "id": "880b5a66",
   "metadata": {},
   "source": [
    "En esta combinación, debemos atender a el valor de **Germany** con el **tercer grupo de edad**. De nuevo, hemos obtenido cierta mejora en la proporción de clientes con valor de 'Churn' igual a 1, pasando de un **49% a un 65%**."
   ]
  },
  {
   "cell_type": "code",
   "execution_count": 81,
   "id": "1b88aaae",
   "metadata": {},
   "outputs": [
    {
     "data": {
      "text/plain": [
       "604"
      ]
     },
     "execution_count": 81,
     "metadata": {},
     "output_type": "execute_result"
    }
   ],
   "source": [
    "df[['Geography','Age_Recode']].value_counts()['Germany',3] #604 observaciones para este grupo"
   ]
  },
  {
   "cell_type": "markdown",
   "id": "e9c7d648",
   "metadata": {},
   "source": [
    "#### NumOfProducts - Age_Recode"
   ]
  },
  {
   "cell_type": "code",
   "execution_count": 82,
   "id": "5018c20d",
   "metadata": {},
   "outputs": [
    {
     "data": {
      "text/plain": [
       "NumOfProducts  Age_Recode\n",
       "1              1             0.098246\n",
       "               2             0.186569\n",
       "               3             0.589180\n",
       "               4             0.235602\n",
       "2              1             0.037975\n",
       "               2             0.049565\n",
       "               3             0.219403\n",
       "               4             0.116883\n",
       "3              1             0.600000\n",
       "               2             0.748299\n",
       "               3             0.989583\n",
       "               4             0.692308\n",
       "4              1                  NaN\n",
       "               2             1.000000\n",
       "               3             1.000000\n",
       "               4             1.000000\n",
       "Name: Churn, dtype: float64"
      ]
     },
     "execution_count": 82,
     "metadata": {},
     "output_type": "execute_result"
    }
   ],
   "source": [
    "df.groupby(['NumOfProducts','Age_Recode'])['Churn'].mean()"
   ]
  },
  {
   "cell_type": "markdown",
   "id": "356d08e8",
   "metadata": {},
   "source": [
    "Para este último grupo, nos interesa tanto el valor de **2 productos** con el **primer grupo de edad**, ya que ambos sugerían que estos clientes tienen a quedarse en el banco; y los valores de **3 y 4 productos** con el **tercer grupo de edad**, que indicaban una mayor probabilidad de que dejen el banco.  \n",
    "Por tanto, para la primera combinación de valores observamos una reducción de la proporción de salida del banco, **del 7% al 3%** y en la segunda y tercera combinación de valores, un aumento de la proporción de salida del banco del **82% al 99%**, y de nuevo del 100% con 4 productos."
   ]
  },
  {
   "cell_type": "code",
   "execution_count": 83,
   "id": "cebecbf8",
   "metadata": {},
   "outputs": [
    {
     "name": "stdout",
     "output_type": "stream",
     "text": [
      "316\n",
      "96\n",
      "32\n"
     ]
    }
   ],
   "source": [
    "print(df[['NumOfProducts','Age_Recode']].value_counts()[2,1]) #316 observaciones para el primer grupo\n",
    "print(df[['NumOfProducts','Age_Recode']].value_counts()[3,3]) #96 observaciones para el segundo grupo\n",
    "print(df[['NumOfProducts','Age_Recode']].value_counts()[4,3]) #32 observaciones para el tercer grupo"
   ]
  },
  {
   "cell_type": "markdown",
   "id": "5b573080",
   "metadata": {},
   "source": [
    "#### Geography - NumOfProducts - Age_Recode"
   ]
  },
  {
   "cell_type": "markdown",
   "id": "b2dbb336",
   "metadata": {},
   "source": [
    "La combinación que nos interesa es **Germany**, **3 y 4 productos**, **tercer grupo de edad**.  \n",
    "Condicionamos las tres combinaciones por los valores de Germany para facilitar la visualización."
   ]
  },
  {
   "cell_type": "code",
   "execution_count": 84,
   "id": "de180339",
   "metadata": {
    "scrolled": true
   },
   "outputs": [
    {
     "data": {
      "text/plain": [
       "NumOfProducts  Age_Recode\n",
       "1              1             0.133333\n",
       "               2             0.310633\n",
       "               3             0.742931\n",
       "               4             0.395833\n",
       "2              1             0.075758\n",
       "               2             0.073548\n",
       "               3             0.351190\n",
       "               4             0.161290\n",
       "3              1             0.500000\n",
       "               2             0.833333\n",
       "               3             1.000000\n",
       "               4             1.000000\n",
       "4              1                  NaN\n",
       "               2             1.000000\n",
       "               3             1.000000\n",
       "               4                  NaN\n",
       "Name: Churn, dtype: float64"
      ]
     },
     "execution_count": 84,
     "metadata": {},
     "output_type": "execute_result"
    }
   ],
   "source": [
    "df.groupby(['Geography','NumOfProducts','Age_Recode'])['Churn'].mean()['Germany']"
   ]
  },
  {
   "cell_type": "markdown",
   "id": "b97e1564",
   "metadata": {},
   "source": [
    "Para los grupos indicados, obtenemos un **100%** de observaciones que han dejado el banco."
   ]
  },
  {
   "cell_type": "code",
   "execution_count": 85,
   "id": "ae3b071c",
   "metadata": {},
   "outputs": [
    {
     "name": "stdout",
     "output_type": "stream",
     "text": [
      "35\n",
      "12\n"
     ]
    }
   ],
   "source": [
    "print(df[['Geography','NumOfProducts','Age_Recode']].value_counts()['Germany',3,3]) #32 observaciones para el primer grupo\n",
    "print(df[['Geography','NumOfProducts','Age_Recode']].value_counts()['Germany',4,3]) #12 observaciones para el segundo grupo"
   ]
  },
  {
   "cell_type": "markdown",
   "id": "e83186a9",
   "metadata": {},
   "source": [
    "#### Conclusiones"
   ]
  },
  {
   "cell_type": "markdown",
   "id": "c1f54897",
   "metadata": {},
   "source": [
    "Las variables que a priori mejor clasifican una observación en función de si deja el banco o no son **'Geography'**, **'NumOfProducts'** y **'Age_Recode'**.  \n",
    "\n",
    "En particular, clientes con 2 productos adquiridos y entre 18-25 años van a tener una probabilidad muy alta de quedarse en el banco, y, por otra parte, clientes alemanes con 3 o 4 productos adquiridos o de 45-62 años tendrán a priori una probabilidad muy alta de irse del banco. Lo mismo ocurre con clientes con 3 o 4 productos y de 45-62 años, y también, clientes alemanes, con 3 o 4 productos y de 45-62 años.\n",
    "\n",
    "Lógicamente, cuanto más restrictivas son las condiciones que deben cumplir los datos, menos observaciones hay.  \n",
    "Por ello, teniendo en cuenta las combinaciones con cerca de 100 observaciones, concluimos que las combinaciones más reveladoras son: \n",
    "\n",
    "Para **predecir que un cliente se irá**: alemanes con 3 productos, alemanes de 45-62 años y clientes con 3 productos y de 45-62 años.  \n",
    "Para **predecir que un cliente se quedará**: clientes con 2 productos y de 18-25 años."
   ]
  },
  {
   "cell_type": "markdown",
   "id": "f0a58e63",
   "metadata": {},
   "source": [
    "### 5. Missing"
   ]
  },
  {
   "cell_type": "code",
   "execution_count": 86,
   "id": "86164f9f",
   "metadata": {
    "scrolled": true
   },
   "outputs": [
    {
     "data": {
      "text/plain": [
       "CreditScore           False\n",
       "Geography             False\n",
       "Gender                False\n",
       "Age                   False\n",
       "Tenure                False\n",
       "Balance               False\n",
       "NumOfProducts         False\n",
       "HasCrCard             False\n",
       "IsActiveMember        False\n",
       "Churn                 False\n",
       "CreditScore_Recode    False\n",
       "Age_Recode            False\n",
       "Balance_Recode        False\n",
       "dtype: bool"
      ]
     },
     "execution_count": 86,
     "metadata": {},
     "output_type": "execute_result"
    }
   ],
   "source": [
    "#Veamos ahora si hay valores missing:\n",
    "df.isna().any() #columnas que tienen al menos 1 NaN\n",
    "#No hay ningún valor missing en el dataframe "
   ]
  },
  {
   "cell_type": "markdown",
   "id": "5668739f",
   "metadata": {},
   "source": [
    "### 6. Normalidad"
   ]
  },
  {
   "cell_type": "markdown",
   "id": "6b7bf30f",
   "metadata": {},
   "source": [
    "A continuación vamos a estudiar la normalidad en las variables 'Age', 'CreditScore'y 'Balance'. Además de éstas, estudiaremos la normalidad en la variable 'Balance_Recode'."
   ]
  },
  {
   "cell_type": "code",
   "execution_count": 3,
   "id": "17d870b0",
   "metadata": {},
   "outputs": [],
   "source": [
    "#Importamos las librerias necesarias\n",
    "import scipy\n",
    "from scipy import stats"
   ]
  },
  {
   "cell_type": "code",
   "execution_count": 13,
   "id": "b5e294dc",
   "metadata": {},
   "outputs": [
    {
     "data": {
      "image/png": "[encoded data removed]",
      "text/plain": [
       "<Figure size 432x288 with 1 Axes>"
      ]
     },
     "metadata": {
      "needs_background": "light"
     },
     "output_type": "display_data"
    }
   ],
   "source": [
    "df.Age.plot.hist(bins=100)\n",
    "plt.show()"
   ]
  },
  {
   "cell_type": "markdown",
   "id": "bf8eaca5",
   "metadata": {},
   "source": [
    "Se puede apreciar en el histograma que los datos no siguen una distribución normal, sobretodo por la diferencia entre las colas. Pero para segurarnos de ello, vamos a realizar el test de Kolmogorov-Smirnov."
   ]
  },
  {
   "cell_type": "code",
   "execution_count": 5,
   "id": "4d5df290",
   "metadata": {},
   "outputs": [
    {
     "data": {
      "text/plain": [
       "[['', 'DF', 'Test Statistic', 'p-value'],\n",
       " ['Sample Data', 9999, 0.10095882841144077, 3.463527589032954e-89]]"
      ]
     },
     "execution_count": 5,
     "metadata": {},
     "output_type": "execute_result"
    }
   ],
   "source": [
    "x = df['Age']\n",
    "\n",
    "x = (x - x.mean()) / x.std()\n",
    "\n",
    "ks_results = scipy.stats.kstest(x, cdf='norm')\n",
    "\n",
    "matrix_ks = [\n",
    "    ['', 'DF', 'Test Statistic', 'p-value'],\n",
    "    ['Sample Data', len(x) - 1, ks_results[0], ks_results[1]]\n",
    "]\n",
    "matrix_ks"
   ]
  },
  {
   "cell_type": "markdown",
   "id": "5c451682",
   "metadata": {},
   "source": [
    "Analizando los resultados, el p-valor es aproximadamente 0.0, por lo que el p-valor < 0.05 y por tanto tenemos una fuerte evidencia para rechazar la hipótesis nula de normalidad.\n",
    "\n",
    "Analizamos ahora la variable 'CreditScore'."
   ]
  },
  {
   "cell_type": "code",
   "execution_count": 10,
   "id": "5024f121",
   "metadata": {},
   "outputs": [
    {
     "data": {
      "image/png": "[encoded data removed]",
      "text/plain": [
       "<Figure size 432x288 with 1 Axes>"
      ]
     },
     "metadata": {
      "needs_background": "light"
     },
     "output_type": "display_data"
    }
   ],
   "source": [
    "df.CreditScore.plot.hist(bins=100)\n",
    "plt.show()"
   ]
  },
  {
   "cell_type": "markdown",
   "id": "435d3e5d",
   "metadata": {},
   "source": [
    "Analizando el histograma, podemos ver cierta tendencia a la normalidad si no fuera por la diferencia en las colas y por la acumulación de datos en la columna de la derecha. Por ello, realizaremos el test de Kolmogorov-Smirnov."
   ]
  },
  {
   "cell_type": "code",
   "execution_count": 11,
   "id": "515ae5da",
   "metadata": {},
   "outputs": [
    {
     "data": {
      "text/plain": [
       "[['', 'DF', 'Test Statistic', 'p-value'],\n",
       " ['Sample Data', 9999, 0.01951926303573892, 0.0009679059703485127]]"
      ]
     },
     "execution_count": 11,
     "metadata": {},
     "output_type": "execute_result"
    }
   ],
   "source": [
    "x = df['CreditScore']\n",
    "\n",
    "x = (x - x.mean()) / x.std()\n",
    "\n",
    "ks_results = scipy.stats.kstest(x, cdf='norm')\n",
    "\n",
    "matrix_ks = [\n",
    "    ['', 'DF', 'Test Statistic', 'p-value'],\n",
    "    ['Sample Data', len(x) - 1, ks_results[0], ks_results[1]]\n",
    "]\n",
    "matrix_ks"
   ]
  },
  {
   "cell_type": "markdown",
   "id": "06e07408",
   "metadata": {},
   "source": [
    "Analizando los resultados, el p-valor es aproximadamente 0.0, por lo que el p-valor < 0.05 y por tanto tenemos una fuerte evidencia para rechazar la hipótesis nula de normalidad."
   ]
  },
  {
   "cell_type": "markdown",
   "id": "48a66732",
   "metadata": {},
   "source": [
    "Analizamos la variable 'Balance'."
   ]
  },
  {
   "cell_type": "code",
   "execution_count": 23,
   "id": "51ab6a65",
   "metadata": {},
   "outputs": [
    {
     "data": {
      "image/png": "[encoded data removed]",
      "text/plain": [
       "<Figure size 432x288 with 1 Axes>"
      ]
     },
     "metadata": {
      "needs_background": "light"
     },
     "output_type": "display_data"
    }
   ],
   "source": [
    "df.Balance.plot.hist(bins=50)\n",
    "plt.show()"
   ]
  },
  {
   "cell_type": "markdown",
   "id": "c2e263e4",
   "metadata": {},
   "source": [
    "Esta variable no sigue una distribución normal a causa de la acumulación de datos en el valor 0. Si no fuera por esa columna podríamos pensar que sigue una distribución normal, pero no es el caso. Realizaremos el test de Kolmogorov-Smirnov para verificarlo."
   ]
  },
  {
   "cell_type": "code",
   "execution_count": 24,
   "id": "4d7e2f9f",
   "metadata": {},
   "outputs": [
    {
     "data": {
      "text/plain": [
       "[['', 'DF', 'Test Statistic', 'p-value'],\n",
       " ['Sample Data', 9999, 0.2515604625693143, 0.0]]"
      ]
     },
     "execution_count": 24,
     "metadata": {},
     "output_type": "execute_result"
    }
   ],
   "source": [
    "x = df['Balance']\n",
    "\n",
    "x = (x - x.mean()) / x.std()\n",
    "\n",
    "ks_results = scipy.stats.kstest(x, cdf='norm')\n",
    "\n",
    "matrix_ks = [\n",
    "    ['', 'DF', 'Test Statistic', 'p-value'],\n",
    "    ['Sample Data', len(x) - 1, ks_results[0], ks_results[1]]\n",
    "]\n",
    "matrix_ks"
   ]
  },
  {
   "cell_type": "markdown",
   "id": "6fc6adca",
   "metadata": {},
   "source": [
    "Analizando los resultados, el p-valor es 0.0, por lo que el p-valor < 0.05 y por tanto tenemos una fuerte evidencia para rechazar la hipótesis nula de normalidad."
   ]
  },
  {
   "cell_type": "code",
   "execution_count": 88,
   "id": "e23b6c1a",
   "metadata": {},
   "outputs": [
    {
     "data": {
      "image/png": "[encoded data removed]",
      "text/plain": [
       "<Figure size 432x288 with 1 Axes>"
      ]
     },
     "metadata": {
      "needs_background": "light"
     },
     "output_type": "display_data"
    }
   ],
   "source": [
    "df.Balance_Recode.plot.hist(bins=50)\n",
    "plt.show()"
   ]
  },
  {
   "cell_type": "code",
   "execution_count": 89,
   "id": "26eeaf06",
   "metadata": {},
   "outputs": [
    {
     "data": {
      "text/plain": [
       "[['', 'DF', 'Test Statistic', 'p-value'],\n",
       " ['Sample Data', 9999, 0.23632812877940712, 0.0]]"
      ]
     },
     "execution_count": 89,
     "metadata": {},
     "output_type": "execute_result"
    }
   ],
   "source": [
    "x = df['Balance_Recode']\n",
    "\n",
    "x = (x - x.mean()) / x.std()\n",
    "\n",
    "ks_results = scipy.stats.kstest(x, cdf='norm')\n",
    "\n",
    "matrix_ks = [\n",
    "    ['', 'DF', 'Test Statistic', 'p-value'],\n",
    "    ['Sample Data', len(x) - 1, ks_results[0], ks_results[1]]\n",
    "]\n",
    "matrix_ks"
   ]
  },
  {
   "cell_type": "markdown",
   "id": "0f9be61c",
   "metadata": {},
   "source": [
    "Analizando los resultados, el p-valor es aproximadamente 0.0, por lo que el p-valor < 0.05 y por tanto tenemos una fuerte evidencia para rechazar la hipótesis nula de normalidad."
   ]
  },
  {
   "cell_type": "markdown",
   "id": "3f45216b",
   "metadata": {},
   "source": [
    "### 7. Correlaciones"
   ]
  },
  {
   "cell_type": "markdown",
   "id": "9aaa49fd",
   "metadata": {},
   "source": [
    "En este apartado, vamos a calcular y analizar las correlaciones de nuestras variables."
   ]
  },
  {
   "cell_type": "code",
   "execution_count": 90,
   "id": "5afc9f96",
   "metadata": {},
   "outputs": [
    {
     "data": {
      "text/html": [
       "<div>\n",
       "<style scoped>\n",
       "    .dataframe tbody tr th:only-of-type {\n",
       "        vertical-align: middle;\n",
       "    }\n",
       "\n",
       "    .dataframe tbody tr th {\n",
       "        vertical-align: top;\n",
       "    }\n",
       "\n",
       "    .dataframe thead th {\n",
       "        text-align: right;\n",
       "    }\n",
       "</style>\n",
       "<table border=\"1\" class=\"dataframe\">\n",
       "  <thead>\n",
       "    <tr style=\"text-align: right;\">\n",
       "      <th></th>\n",
       "      <th>CreditScore</th>\n",
       "      <th>Age</th>\n",
       "      <th>Tenure</th>\n",
       "      <th>Balance</th>\n",
       "      <th>NumOfProducts</th>\n",
       "      <th>HasCrCard</th>\n",
       "      <th>IsActiveMember</th>\n",
       "      <th>Churn</th>\n",
       "      <th>Balance_Recode</th>\n",
       "    </tr>\n",
       "  </thead>\n",
       "  <tbody>\n",
       "    <tr>\n",
       "      <th>CreditScore</th>\n",
       "      <td>1.000000</td>\n",
       "      <td>-0.003965</td>\n",
       "      <td>0.000842</td>\n",
       "      <td>0.006268</td>\n",
       "      <td>0.012238</td>\n",
       "      <td>-0.005458</td>\n",
       "      <td>0.025651</td>\n",
       "      <td>-0.027094</td>\n",
       "      <td>0.004713</td>\n",
       "    </tr>\n",
       "    <tr>\n",
       "      <th>Age</th>\n",
       "      <td>-0.003965</td>\n",
       "      <td>1.000000</td>\n",
       "      <td>-0.009997</td>\n",
       "      <td>0.028308</td>\n",
       "      <td>-0.030680</td>\n",
       "      <td>-0.011721</td>\n",
       "      <td>0.085472</td>\n",
       "      <td>0.285323</td>\n",
       "      <td>0.023917</td>\n",
       "    </tr>\n",
       "    <tr>\n",
       "      <th>Tenure</th>\n",
       "      <td>0.000842</td>\n",
       "      <td>-0.009997</td>\n",
       "      <td>1.000000</td>\n",
       "      <td>-0.012254</td>\n",
       "      <td>0.013444</td>\n",
       "      <td>0.022583</td>\n",
       "      <td>-0.028362</td>\n",
       "      <td>-0.014001</td>\n",
       "      <td>-0.011005</td>\n",
       "    </tr>\n",
       "    <tr>\n",
       "      <th>Balance</th>\n",
       "      <td>0.006268</td>\n",
       "      <td>0.028308</td>\n",
       "      <td>-0.012254</td>\n",
       "      <td>1.000000</td>\n",
       "      <td>-0.304180</td>\n",
       "      <td>-0.014858</td>\n",
       "      <td>-0.010084</td>\n",
       "      <td>0.118533</td>\n",
       "      <td>0.969034</td>\n",
       "    </tr>\n",
       "    <tr>\n",
       "      <th>NumOfProducts</th>\n",
       "      <td>0.012238</td>\n",
       "      <td>-0.030680</td>\n",
       "      <td>0.013444</td>\n",
       "      <td>-0.304180</td>\n",
       "      <td>1.000000</td>\n",
       "      <td>0.003183</td>\n",
       "      <td>0.009612</td>\n",
       "      <td>-0.047820</td>\n",
       "      <td>-0.287732</td>\n",
       "    </tr>\n",
       "    <tr>\n",
       "      <th>HasCrCard</th>\n",
       "      <td>-0.005458</td>\n",
       "      <td>-0.011721</td>\n",
       "      <td>0.022583</td>\n",
       "      <td>-0.014858</td>\n",
       "      <td>0.003183</td>\n",
       "      <td>1.000000</td>\n",
       "      <td>-0.011866</td>\n",
       "      <td>-0.007138</td>\n",
       "      <td>-0.008614</td>\n",
       "    </tr>\n",
       "    <tr>\n",
       "      <th>IsActiveMember</th>\n",
       "      <td>0.025651</td>\n",
       "      <td>0.085472</td>\n",
       "      <td>-0.028362</td>\n",
       "      <td>-0.010084</td>\n",
       "      <td>0.009612</td>\n",
       "      <td>-0.011866</td>\n",
       "      <td>1.000000</td>\n",
       "      <td>-0.156128</td>\n",
       "      <td>-0.012603</td>\n",
       "    </tr>\n",
       "    <tr>\n",
       "      <th>Churn</th>\n",
       "      <td>-0.027094</td>\n",
       "      <td>0.285323</td>\n",
       "      <td>-0.014001</td>\n",
       "      <td>0.118533</td>\n",
       "      <td>-0.047820</td>\n",
       "      <td>-0.007138</td>\n",
       "      <td>-0.156128</td>\n",
       "      <td>1.000000</td>\n",
       "      <td>0.112990</td>\n",
       "    </tr>\n",
       "    <tr>\n",
       "      <th>Balance_Recode</th>\n",
       "      <td>0.004713</td>\n",
       "      <td>0.023917</td>\n",
       "      <td>-0.011005</td>\n",
       "      <td>0.969034</td>\n",
       "      <td>-0.287732</td>\n",
       "      <td>-0.008614</td>\n",
       "      <td>-0.012603</td>\n",
       "      <td>0.112990</td>\n",
       "      <td>1.000000</td>\n",
       "    </tr>\n",
       "  </tbody>\n",
       "</table>\n",
       "</div>"
      ],
      "text/plain": [
       "                CreditScore       Age    Tenure   Balance  NumOfProducts  \\\n",
       "CreditScore        1.000000 -0.003965  0.000842  0.006268       0.012238   \n",
       "Age               -0.003965  1.000000 -0.009997  0.028308      -0.030680   \n",
       "Tenure             0.000842 -0.009997  1.000000 -0.012254       0.013444   \n",
       "Balance            0.006268  0.028308 -0.012254  1.000000      -0.304180   \n",
       "NumOfProducts      0.012238 -0.030680  0.013444 -0.304180       1.000000   \n",
       "HasCrCard         -0.005458 -0.011721  0.022583 -0.014858       0.003183   \n",
       "IsActiveMember     0.025651  0.085472 -0.028362 -0.010084       0.009612   \n",
       "Churn             -0.027094  0.285323 -0.014001  0.118533      -0.047820   \n",
       "Balance_Recode     0.004713  0.023917 -0.011005  0.969034      -0.287732   \n",
       "\n",
       "                HasCrCard  IsActiveMember     Churn  Balance_Recode  \n",
       "CreditScore     -0.005458        0.025651 -0.027094        0.004713  \n",
       "Age             -0.011721        0.085472  0.285323        0.023917  \n",
       "Tenure           0.022583       -0.028362 -0.014001       -0.011005  \n",
       "Balance         -0.014858       -0.010084  0.118533        0.969034  \n",
       "NumOfProducts    0.003183        0.009612 -0.047820       -0.287732  \n",
       "HasCrCard        1.000000       -0.011866 -0.007138       -0.008614  \n",
       "IsActiveMember  -0.011866        1.000000 -0.156128       -0.012603  \n",
       "Churn           -0.007138       -0.156128  1.000000        0.112990  \n",
       "Balance_Recode  -0.008614       -0.012603  0.112990        1.000000  "
      ]
     },
     "execution_count": 90,
     "metadata": {},
     "output_type": "execute_result"
    }
   ],
   "source": [
    "df.corr(method=\"pearson\")"
   ]
  },
  {
   "cell_type": "code",
   "execution_count": 30,
   "id": "1d404c76",
   "metadata": {},
   "outputs": [
    {
     "data": {
      "text/plain": [
       "<matplotlib.image.AxesImage at 0x25e46dec700>"
      ]
     },
     "execution_count": 30,
     "metadata": {},
     "output_type": "execute_result"
    },
    {
     "data": {
      "image/png": "[encoded data removed]",
      "text/plain": [
       "<Figure size 288x288 with 1 Axes>"
      ]
     },
     "metadata": {
      "needs_background": "light"
     },
     "output_type": "display_data"
    }
   ],
   "source": [
    "plt.matshow(df.corr())"
   ]
  },
  {
   "cell_type": "markdown",
   "id": "4e5fd0de",
   "metadata": {},
   "source": [
    "Analizando la matriz de correlaciones, observamos que todas las correlaciones son muy bajas. Podemos destacar la correlación entre Churn y Age con el coeficiente más alto, 0.285323."
   ]
  },
  {
   "cell_type": "markdown",
   "id": "583f5f76",
   "metadata": {},
   "source": [
    "## II. Uso y validación de modelos"
   ]
  },
  {
   "cell_type": "markdown",
   "id": "c39837f2",
   "metadata": {},
   "source": [
    "Con estos datos, se van a realizar los modelos de **Regresión Logística**, **Árbol de decisión** y **Naive-Bayes**.\n",
    "Al tener unos datos desbalanceados, con un 20% de observaciones con valor 'Churn'= 1, decidimos relizar un ajuste de desbalanceo en los modelos. \n",
    "\n",
    "En los dos primeros modelos, la propia función del modelo tiene un parámetro que reliza este ajuste, asignando pesos a las observaciones para que éstas estén 'equilibradas'. En el caso de Naive-Bayes, se utilizará el método de **oversampling** y **undersampling** y veremos con cuál se obtienen mejores resultados.\n",
    "\n",
    "Una vez hecho esto, elegiremos el modelo que mejores resultados ofrece y trataremos mejorarlo mediante la búsqueda de hiperparámetros."
   ]
  },
  {
   "cell_type": "markdown",
   "id": "0856c3fa",
   "metadata": {},
   "source": [
    "A la hora de elegir las variables que incluiremos en los modelos, hemos decidido incorporar en un primer momento las variables que a priori mejor clasifican las observaciones ('Geography', 'NumOfProducts', 'Age_Recode') y ver qué resultados se obtienen.  \n",
    "\n",
    "Después se incluirán el resto de variables que tenían cierta influencia en la predicción de 'Churn' ('Gender', 'IsActiveMember', 'Balance_Recode').  \n",
    "Trataremos de ver cómo mejoran los resultados al incluir más variables. Si con estas variables seguimos sin obtener buenos resultados, intentaremos buscar otras alternativas, sustituyendo ciertas variables por otras que no hayamos incluido o cambiando los parámetros del modelo."
   ]
  },
  {
   "cell_type": "markdown",
   "id": "ec1be119",
   "metadata": {},
   "source": [
    "### 1. Árbol de decisión"
   ]
  },
  {
   "cell_type": "markdown",
   "id": "2c245aa0",
   "metadata": {},
   "source": [
    "En el caso de los árboles de decisión, una muy buena forma de ver lo mucho o poco que influyen las variables en el modelo es con el **gráfico de importancia** .  \n",
    "Lo que se hará en primer lugar es probar con un único modelo (sin realizar CV sobre los datos de train y test) y ver su gráfico de importancia (con 'Geography', 'NumOfProducts', 'Age_Recode'). Después, incluiremos las otras tres variables que a priori más podrían influir en el modelo ('Gender', 'IsActiveMember', 'Balance_Recode') y veremos el gráfico de importancia.  \n",
    "Según los resultados que obtengamos, seguiremos incluyendo o descartando variables del modelo, hasta que tengamos únicamente variables que tengan una importancia significativa.\n",
    "\n",
    "Entonces, realizaremos un CV sobre los datos de train y test para obtener medidas robustas de la precisión del modelo y poder comprarlo con los resultados de Regresión Logística y Naive-Bayes. En este paso, también estudiaremos el árbol que produce el modelo."
   ]
  },
  {
   "cell_type": "markdown",
   "id": "f7d175b9",
   "metadata": {},
   "source": [
    "#### 1.1 Modelo con 'Geography', 'Age_Recode' y 'NumOfProducts'"
   ]
  },
  {
   "cell_type": "markdown",
   "id": "e267e245",
   "metadata": {},
   "source": [
    "Comenzamos codificando la variable 'Geography' a numérica."
   ]
  },
  {
   "cell_type": "code",
   "execution_count": 92,
   "id": "265e8d7e",
   "metadata": {},
   "outputs": [],
   "source": [
    "X1 = df.loc[:, 'Geography'].values\n",
    "\n",
    "enc = LabelEncoder()\n",
    "label_encoder = enc.fit(X1)\n",
    "X1 = label_encoder.transform(X1)+1"
   ]
  },
  {
   "cell_type": "markdown",
   "id": "ba30d182",
   "metadata": {},
   "source": [
    "Incluimos la variable en el dataset con nombre 'X1' y comprobamos los resultados mostrando los 10 primeros valores del dataset."
   ]
  },
  {
   "cell_type": "code",
   "execution_count": 93,
   "id": "137987db",
   "metadata": {
    "scrolled": false
   },
   "outputs": [
    {
     "data": {
      "text/html": [
       "<div>\n",
       "<style scoped>\n",
       "    .dataframe tbody tr th:only-of-type {\n",
       "        vertical-align: middle;\n",
       "    }\n",
       "\n",
       "    .dataframe tbody tr th {\n",
       "        vertical-align: top;\n",
       "    }\n",
       "\n",
       "    .dataframe thead th {\n",
       "        text-align: right;\n",
       "    }\n",
       "</style>\n",
       "<table border=\"1\" class=\"dataframe\">\n",
       "  <thead>\n",
       "    <tr style=\"text-align: right;\">\n",
       "      <th></th>\n",
       "      <th>CreditScore</th>\n",
       "      <th>Geography</th>\n",
       "      <th>Gender</th>\n",
       "      <th>Age</th>\n",
       "      <th>Tenure</th>\n",
       "      <th>Balance</th>\n",
       "      <th>NumOfProducts</th>\n",
       "      <th>HasCrCard</th>\n",
       "      <th>IsActiveMember</th>\n",
       "      <th>Churn</th>\n",
       "      <th>CreditScore_Recode</th>\n",
       "      <th>Age_Recode</th>\n",
       "      <th>Balance_Recode</th>\n",
       "      <th>Geography_Num</th>\n",
       "    </tr>\n",
       "  </thead>\n",
       "  <tbody>\n",
       "    <tr>\n",
       "      <th>0</th>\n",
       "      <td>619</td>\n",
       "      <td>France</td>\n",
       "      <td>Female</td>\n",
       "      <td>42</td>\n",
       "      <td>2</td>\n",
       "      <td>0.00</td>\n",
       "      <td>1</td>\n",
       "      <td>1</td>\n",
       "      <td>1</td>\n",
       "      <td>1</td>\n",
       "      <td>2</td>\n",
       "      <td>2</td>\n",
       "      <td>1.0</td>\n",
       "      <td>1</td>\n",
       "    </tr>\n",
       "    <tr>\n",
       "      <th>1</th>\n",
       "      <td>608</td>\n",
       "      <td>Spain</td>\n",
       "      <td>Female</td>\n",
       "      <td>41</td>\n",
       "      <td>1</td>\n",
       "      <td>83807.86</td>\n",
       "      <td>1</td>\n",
       "      <td>0</td>\n",
       "      <td>1</td>\n",
       "      <td>0</td>\n",
       "      <td>2</td>\n",
       "      <td>2</td>\n",
       "      <td>2.0</td>\n",
       "      <td>3</td>\n",
       "    </tr>\n",
       "    <tr>\n",
       "      <th>2</th>\n",
       "      <td>502</td>\n",
       "      <td>France</td>\n",
       "      <td>Female</td>\n",
       "      <td>42</td>\n",
       "      <td>8</td>\n",
       "      <td>159660.80</td>\n",
       "      <td>3</td>\n",
       "      <td>1</td>\n",
       "      <td>0</td>\n",
       "      <td>1</td>\n",
       "      <td>1</td>\n",
       "      <td>2</td>\n",
       "      <td>4.0</td>\n",
       "      <td>1</td>\n",
       "    </tr>\n",
       "    <tr>\n",
       "      <th>3</th>\n",
       "      <td>699</td>\n",
       "      <td>France</td>\n",
       "      <td>Female</td>\n",
       "      <td>39</td>\n",
       "      <td>1</td>\n",
       "      <td>0.00</td>\n",
       "      <td>2</td>\n",
       "      <td>0</td>\n",
       "      <td>0</td>\n",
       "      <td>0</td>\n",
       "      <td>3</td>\n",
       "      <td>2</td>\n",
       "      <td>1.0</td>\n",
       "      <td>1</td>\n",
       "    </tr>\n",
       "    <tr>\n",
       "      <th>4</th>\n",
       "      <td>850</td>\n",
       "      <td>Spain</td>\n",
       "      <td>Female</td>\n",
       "      <td>43</td>\n",
       "      <td>2</td>\n",
       "      <td>125510.82</td>\n",
       "      <td>1</td>\n",
       "      <td>1</td>\n",
       "      <td>1</td>\n",
       "      <td>0</td>\n",
       "      <td>4</td>\n",
       "      <td>2</td>\n",
       "      <td>3.0</td>\n",
       "      <td>3</td>\n",
       "    </tr>\n",
       "    <tr>\n",
       "      <th>5</th>\n",
       "      <td>645</td>\n",
       "      <td>Spain</td>\n",
       "      <td>Male</td>\n",
       "      <td>44</td>\n",
       "      <td>8</td>\n",
       "      <td>113755.78</td>\n",
       "      <td>2</td>\n",
       "      <td>1</td>\n",
       "      <td>0</td>\n",
       "      <td>1</td>\n",
       "      <td>2</td>\n",
       "      <td>2</td>\n",
       "      <td>3.0</td>\n",
       "      <td>3</td>\n",
       "    </tr>\n",
       "    <tr>\n",
       "      <th>6</th>\n",
       "      <td>822</td>\n",
       "      <td>France</td>\n",
       "      <td>Male</td>\n",
       "      <td>50</td>\n",
       "      <td>7</td>\n",
       "      <td>0.00</td>\n",
       "      <td>2</td>\n",
       "      <td>1</td>\n",
       "      <td>1</td>\n",
       "      <td>0</td>\n",
       "      <td>4</td>\n",
       "      <td>3</td>\n",
       "      <td>1.0</td>\n",
       "      <td>1</td>\n",
       "    </tr>\n",
       "    <tr>\n",
       "      <th>7</th>\n",
       "      <td>376</td>\n",
       "      <td>Germany</td>\n",
       "      <td>Female</td>\n",
       "      <td>29</td>\n",
       "      <td>4</td>\n",
       "      <td>115046.74</td>\n",
       "      <td>4</td>\n",
       "      <td>1</td>\n",
       "      <td>0</td>\n",
       "      <td>1</td>\n",
       "      <td>1</td>\n",
       "      <td>2</td>\n",
       "      <td>3.0</td>\n",
       "      <td>2</td>\n",
       "    </tr>\n",
       "    <tr>\n",
       "      <th>8</th>\n",
       "      <td>501</td>\n",
       "      <td>France</td>\n",
       "      <td>Male</td>\n",
       "      <td>44</td>\n",
       "      <td>4</td>\n",
       "      <td>142051.07</td>\n",
       "      <td>2</td>\n",
       "      <td>0</td>\n",
       "      <td>1</td>\n",
       "      <td>0</td>\n",
       "      <td>1</td>\n",
       "      <td>2</td>\n",
       "      <td>4.0</td>\n",
       "      <td>1</td>\n",
       "    </tr>\n",
       "    <tr>\n",
       "      <th>9</th>\n",
       "      <td>684</td>\n",
       "      <td>France</td>\n",
       "      <td>Male</td>\n",
       "      <td>27</td>\n",
       "      <td>2</td>\n",
       "      <td>134603.88</td>\n",
       "      <td>1</td>\n",
       "      <td>1</td>\n",
       "      <td>1</td>\n",
       "      <td>0</td>\n",
       "      <td>3</td>\n",
       "      <td>2</td>\n",
       "      <td>4.0</td>\n",
       "      <td>1</td>\n",
       "    </tr>\n",
       "  </tbody>\n",
       "</table>\n",
       "</div>"
      ],
      "text/plain": [
       "   CreditScore Geography  Gender  Age  Tenure    Balance  NumOfProducts  \\\n",
       "0          619    France  Female   42       2       0.00              1   \n",
       "1          608     Spain  Female   41       1   83807.86              1   \n",
       "2          502    France  Female   42       8  159660.80              3   \n",
       "3          699    France  Female   39       1       0.00              2   \n",
       "4          850     Spain  Female   43       2  125510.82              1   \n",
       "5          645     Spain    Male   44       8  113755.78              2   \n",
       "6          822    France    Male   50       7       0.00              2   \n",
       "7          376   Germany  Female   29       4  115046.74              4   \n",
       "8          501    France    Male   44       4  142051.07              2   \n",
       "9          684    France    Male   27       2  134603.88              1   \n",
       "\n",
       "   HasCrCard  IsActiveMember  Churn CreditScore_Recode Age_Recode  \\\n",
       "0          1               1      1                  2          2   \n",
       "1          0               1      0                  2          2   \n",
       "2          1               0      1                  1          2   \n",
       "3          0               0      0                  3          2   \n",
       "4          1               1      0                  4          2   \n",
       "5          1               0      1                  2          2   \n",
       "6          1               1      0                  4          3   \n",
       "7          1               0      1                  1          2   \n",
       "8          0               1      0                  1          2   \n",
       "9          1               1      0                  3          2   \n",
       "\n",
       "   Balance_Recode  Geography_Num  \n",
       "0             1.0              1  \n",
       "1             2.0              3  \n",
       "2             4.0              1  \n",
       "3             1.0              1  \n",
       "4             3.0              3  \n",
       "5             3.0              3  \n",
       "6             1.0              1  \n",
       "7             3.0              2  \n",
       "8             4.0              1  \n",
       "9             4.0              1  "
      ]
     },
     "execution_count": 93,
     "metadata": {},
     "output_type": "execute_result"
    }
   ],
   "source": [
    "df['Geography_Num']=X1\n",
    "df.head(10)"
   ]
  },
  {
   "cell_type": "markdown",
   "id": "6d4e144b",
   "metadata": {},
   "source": [
    "La asignación de valores es:  \n",
    "{1: 'France', 2: 'Germany', 3:'Spain'}"
   ]
  },
  {
   "cell_type": "markdown",
   "id": "3d98a1c6",
   "metadata": {},
   "source": [
    "Definimos los datos del primer modelo con las tres variables que a priori mejor predicen el valor de la variable 'Churn'."
   ]
  },
  {
   "cell_type": "code",
   "execution_count": 94,
   "id": "b64403be",
   "metadata": {},
   "outputs": [],
   "source": [
    "X=df.loc[:,['Geography_Num','Age_Recode','NumOfProducts']].values\n",
    "y=df['Churn'].values"
   ]
  },
  {
   "cell_type": "markdown",
   "id": "1c91d1f2",
   "metadata": {},
   "source": [
    "Importamos los módulos de split de datos en train y test y el del árbol de decisión y realizamos la partición de los datos."
   ]
  },
  {
   "cell_type": "code",
   "execution_count": 95,
   "id": "84418592",
   "metadata": {},
   "outputs": [],
   "source": [
    "from sklearn.model_selection import train_test_split\n",
    "X_train, X_test, y_train, y_test = train_test_split(X, y, test_size=0.2, random_state=0) \n",
    "\n",
    "from sklearn.tree import DecisionTreeClassifier"
   ]
  },
  {
   "cell_type": "markdown",
   "id": "d34a7ac7",
   "metadata": {},
   "source": [
    "Construimos un único modelo para ver su gráfico de importancia."
   ]
  },
  {
   "cell_type": "code",
   "execution_count": 96,
   "id": "fa3ea162",
   "metadata": {},
   "outputs": [
    {
     "data": {
      "image/png": "[encoded data removed]",
      "text/plain": [
       "<Figure size 432x288 with 1 Axes>"
      ]
     },
     "metadata": {
      "needs_background": "light"
     },
     "output_type": "display_data"
    }
   ],
   "source": [
    "model=DecisionTreeClassifier(max_depth=3, class_weight='balanced') #construimos el modelo con el ajuste de desbalanceo y 3 niveles de profundidad\n",
    "model.fit(X_train,y_train)\n",
    "model.feature_importances_ #las importancias de cada variable\n",
    "\n",
    "caract=X.shape[1]\n",
    "plt.barh(range(caract), model.feature_importances_) #creamos el gráfico de importancia\n",
    "plt.yticks(np.arange(caract),['Geography_Num','Age_Recode','NumOfProducts'])\n",
    "plt.xlabel('Importancia de las características')\n",
    "plt.ylabel('Característica')\n",
    "plt.show()"
   ]
  },
  {
   "cell_type": "markdown",
   "id": "6b186dbc",
   "metadata": {},
   "source": [
    "El modelo opta por asignar mucha importancia a NumOfProducts y Age_Recode, y muy poca a Geography_Num.  \n",
    "Esta era una de las combinaciones de variables que habíamos predicho que podía dar buenos resultados."
   ]
  },
  {
   "cell_type": "markdown",
   "id": "70e7849b",
   "metadata": {},
   "source": [
    "Ahora se hará un modelo incluyendo tres nuevas variables: 'Gender', 'IsActiveMember' y 'Balance_Recode'"
   ]
  },
  {
   "cell_type": "markdown",
   "id": "8bb4d1ce",
   "metadata": {},
   "source": [
    "#### 1.2 Modelo incluyendo 'Gender', 'IsActiveMember' y 'Balance_Recode'"
   ]
  },
  {
   "cell_type": "markdown",
   "id": "c81c1fa5",
   "metadata": {},
   "source": [
    "Comenzamos recodificando la variable 'Gender' a numérica y mostrando el nuevo dataset."
   ]
  },
  {
   "cell_type": "code",
   "execution_count": 97,
   "id": "e437931a",
   "metadata": {
    "scrolled": true
   },
   "outputs": [
    {
     "data": {
      "text/html": [
       "<div>\n",
       "<style scoped>\n",
       "    .dataframe tbody tr th:only-of-type {\n",
       "        vertical-align: middle;\n",
       "    }\n",
       "\n",
       "    .dataframe tbody tr th {\n",
       "        vertical-align: top;\n",
       "    }\n",
       "\n",
       "    .dataframe thead th {\n",
       "        text-align: right;\n",
       "    }\n",
       "</style>\n",
       "<table border=\"1\" class=\"dataframe\">\n",
       "  <thead>\n",
       "    <tr style=\"text-align: right;\">\n",
       "      <th></th>\n",
       "      <th>CreditScore</th>\n",
       "      <th>Geography</th>\n",
       "      <th>Gender</th>\n",
       "      <th>Age</th>\n",
       "      <th>Tenure</th>\n",
       "      <th>Balance</th>\n",
       "      <th>NumOfProducts</th>\n",
       "      <th>HasCrCard</th>\n",
       "      <th>IsActiveMember</th>\n",
       "      <th>Churn</th>\n",
       "      <th>CreditScore_Recode</th>\n",
       "      <th>Age_Recode</th>\n",
       "      <th>Balance_Recode</th>\n",
       "      <th>Geography_Num</th>\n",
       "      <th>Gender_Num</th>\n",
       "    </tr>\n",
       "  </thead>\n",
       "  <tbody>\n",
       "    <tr>\n",
       "      <th>0</th>\n",
       "      <td>619</td>\n",
       "      <td>France</td>\n",
       "      <td>Female</td>\n",
       "      <td>42</td>\n",
       "      <td>2</td>\n",
       "      <td>0.00</td>\n",
       "      <td>1</td>\n",
       "      <td>1</td>\n",
       "      <td>1</td>\n",
       "      <td>1</td>\n",
       "      <td>2</td>\n",
       "      <td>2</td>\n",
       "      <td>1.0</td>\n",
       "      <td>1</td>\n",
       "      <td>1</td>\n",
       "    </tr>\n",
       "    <tr>\n",
       "      <th>1</th>\n",
       "      <td>608</td>\n",
       "      <td>Spain</td>\n",
       "      <td>Female</td>\n",
       "      <td>41</td>\n",
       "      <td>1</td>\n",
       "      <td>83807.86</td>\n",
       "      <td>1</td>\n",
       "      <td>0</td>\n",
       "      <td>1</td>\n",
       "      <td>0</td>\n",
       "      <td>2</td>\n",
       "      <td>2</td>\n",
       "      <td>2.0</td>\n",
       "      <td>3</td>\n",
       "      <td>1</td>\n",
       "    </tr>\n",
       "    <tr>\n",
       "      <th>2</th>\n",
       "      <td>502</td>\n",
       "      <td>France</td>\n",
       "      <td>Female</td>\n",
       "      <td>42</td>\n",
       "      <td>8</td>\n",
       "      <td>159660.80</td>\n",
       "      <td>3</td>\n",
       "      <td>1</td>\n",
       "      <td>0</td>\n",
       "      <td>1</td>\n",
       "      <td>1</td>\n",
       "      <td>2</td>\n",
       "      <td>4.0</td>\n",
       "      <td>1</td>\n",
       "      <td>1</td>\n",
       "    </tr>\n",
       "    <tr>\n",
       "      <th>3</th>\n",
       "      <td>699</td>\n",
       "      <td>France</td>\n",
       "      <td>Female</td>\n",
       "      <td>39</td>\n",
       "      <td>1</td>\n",
       "      <td>0.00</td>\n",
       "      <td>2</td>\n",
       "      <td>0</td>\n",
       "      <td>0</td>\n",
       "      <td>0</td>\n",
       "      <td>3</td>\n",
       "      <td>2</td>\n",
       "      <td>1.0</td>\n",
       "      <td>1</td>\n",
       "      <td>1</td>\n",
       "    </tr>\n",
       "    <tr>\n",
       "      <th>4</th>\n",
       "      <td>850</td>\n",
       "      <td>Spain</td>\n",
       "      <td>Female</td>\n",
       "      <td>43</td>\n",
       "      <td>2</td>\n",
       "      <td>125510.82</td>\n",
       "      <td>1</td>\n",
       "      <td>1</td>\n",
       "      <td>1</td>\n",
       "      <td>0</td>\n",
       "      <td>4</td>\n",
       "      <td>2</td>\n",
       "      <td>3.0</td>\n",
       "      <td>3</td>\n",
       "      <td>1</td>\n",
       "    </tr>\n",
       "    <tr>\n",
       "      <th>5</th>\n",
       "      <td>645</td>\n",
       "      <td>Spain</td>\n",
       "      <td>Male</td>\n",
       "      <td>44</td>\n",
       "      <td>8</td>\n",
       "      <td>113755.78</td>\n",
       "      <td>2</td>\n",
       "      <td>1</td>\n",
       "      <td>0</td>\n",
       "      <td>1</td>\n",
       "      <td>2</td>\n",
       "      <td>2</td>\n",
       "      <td>3.0</td>\n",
       "      <td>3</td>\n",
       "      <td>2</td>\n",
       "    </tr>\n",
       "    <tr>\n",
       "      <th>6</th>\n",
       "      <td>822</td>\n",
       "      <td>France</td>\n",
       "      <td>Male</td>\n",
       "      <td>50</td>\n",
       "      <td>7</td>\n",
       "      <td>0.00</td>\n",
       "      <td>2</td>\n",
       "      <td>1</td>\n",
       "      <td>1</td>\n",
       "      <td>0</td>\n",
       "      <td>4</td>\n",
       "      <td>3</td>\n",
       "      <td>1.0</td>\n",
       "      <td>1</td>\n",
       "      <td>2</td>\n",
       "    </tr>\n",
       "    <tr>\n",
       "      <th>7</th>\n",
       "      <td>376</td>\n",
       "      <td>Germany</td>\n",
       "      <td>Female</td>\n",
       "      <td>29</td>\n",
       "      <td>4</td>\n",
       "      <td>115046.74</td>\n",
       "      <td>4</td>\n",
       "      <td>1</td>\n",
       "      <td>0</td>\n",
       "      <td>1</td>\n",
       "      <td>1</td>\n",
       "      <td>2</td>\n",
       "      <td>3.0</td>\n",
       "      <td>2</td>\n",
       "      <td>1</td>\n",
       "    </tr>\n",
       "    <tr>\n",
       "      <th>8</th>\n",
       "      <td>501</td>\n",
       "      <td>France</td>\n",
       "      <td>Male</td>\n",
       "      <td>44</td>\n",
       "      <td>4</td>\n",
       "      <td>142051.07</td>\n",
       "      <td>2</td>\n",
       "      <td>0</td>\n",
       "      <td>1</td>\n",
       "      <td>0</td>\n",
       "      <td>1</td>\n",
       "      <td>2</td>\n",
       "      <td>4.0</td>\n",
       "      <td>1</td>\n",
       "      <td>2</td>\n",
       "    </tr>\n",
       "    <tr>\n",
       "      <th>9</th>\n",
       "      <td>684</td>\n",
       "      <td>France</td>\n",
       "      <td>Male</td>\n",
       "      <td>27</td>\n",
       "      <td>2</td>\n",
       "      <td>134603.88</td>\n",
       "      <td>1</td>\n",
       "      <td>1</td>\n",
       "      <td>1</td>\n",
       "      <td>0</td>\n",
       "      <td>3</td>\n",
       "      <td>2</td>\n",
       "      <td>4.0</td>\n",
       "      <td>1</td>\n",
       "      <td>2</td>\n",
       "    </tr>\n",
       "  </tbody>\n",
       "</table>\n",
       "</div>"
      ],
      "text/plain": [
       "   CreditScore Geography  Gender  Age  Tenure    Balance  NumOfProducts  \\\n",
       "0          619    France  Female   42       2       0.00              1   \n",
       "1          608     Spain  Female   41       1   83807.86              1   \n",
       "2          502    France  Female   42       8  159660.80              3   \n",
       "3          699    France  Female   39       1       0.00              2   \n",
       "4          850     Spain  Female   43       2  125510.82              1   \n",
       "5          645     Spain    Male   44       8  113755.78              2   \n",
       "6          822    France    Male   50       7       0.00              2   \n",
       "7          376   Germany  Female   29       4  115046.74              4   \n",
       "8          501    France    Male   44       4  142051.07              2   \n",
       "9          684    France    Male   27       2  134603.88              1   \n",
       "\n",
       "   HasCrCard  IsActiveMember  Churn CreditScore_Recode Age_Recode  \\\n",
       "0          1               1      1                  2          2   \n",
       "1          0               1      0                  2          2   \n",
       "2          1               0      1                  1          2   \n",
       "3          0               0      0                  3          2   \n",
       "4          1               1      0                  4          2   \n",
       "5          1               0      1                  2          2   \n",
       "6          1               1      0                  4          3   \n",
       "7          1               0      1                  1          2   \n",
       "8          0               1      0                  1          2   \n",
       "9          1               1      0                  3          2   \n",
       "\n",
       "   Balance_Recode  Geography_Num  Gender_Num  \n",
       "0             1.0              1           1  \n",
       "1             2.0              3           1  \n",
       "2             4.0              1           1  \n",
       "3             1.0              1           1  \n",
       "4             3.0              3           1  \n",
       "5             3.0              3           2  \n",
       "6             1.0              1           2  \n",
       "7             3.0              2           1  \n",
       "8             4.0              1           2  \n",
       "9             4.0              1           2  "
      ]
     },
     "execution_count": 97,
     "metadata": {},
     "output_type": "execute_result"
    }
   ],
   "source": [
    "X2 = df.loc[:, 'Gender'].values\n",
    "\n",
    "enc = LabelEncoder()\n",
    "label_encoder = enc.fit(X2)\n",
    "X2 = label_encoder.transform(X2)+1\n",
    "\n",
    "df['Gender_Num']=X2\n",
    "df.head(10) #Female=1,  Male=2"
   ]
  },
  {
   "cell_type": "markdown",
   "id": "1571de3a",
   "metadata": {},
   "source": [
    "Definimos los datos que se van a usar."
   ]
  },
  {
   "cell_type": "code",
   "execution_count": 98,
   "id": "4326b0db",
   "metadata": {},
   "outputs": [],
   "source": [
    "X=df.loc[:,['Geography_Num', 'Age_Recode', 'NumOfProducts', 'Gender_Num', 'IsActiveMember', 'Balance_Recode']].values\n",
    "y=df['Churn'].values"
   ]
  },
  {
   "cell_type": "markdown",
   "id": "6d7c5c56",
   "metadata": {},
   "source": [
    "Realizamos la partición de los datos, construimos el modelo y representamos su gráfico de importancia."
   ]
  },
  {
   "cell_type": "code",
   "execution_count": 99,
   "id": "97a0c676",
   "metadata": {},
   "outputs": [
    {
     "data": {
      "image/png": "[encoded data removed]",
      "text/plain": [
       "<Figure size 432x288 with 1 Axes>"
      ]
     },
     "metadata": {
      "needs_background": "light"
     },
     "output_type": "display_data"
    }
   ],
   "source": [
    "X_train, X_test, y_train, y_test = train_test_split(X, y, test_size=0.2, random_state=0) \n",
    "\n",
    "model=DecisionTreeClassifier(max_depth=3,class_weight='balanced') #construimos el modelo con el ajuste de desbalanceo y 3 niveles de profundidad\n",
    "model.fit(X_train,y_train)\n",
    "model.feature_importances_ #las importancias de cada variable\n",
    "\n",
    "caract=X.shape[1]\n",
    "plt.barh(range(caract), model.feature_importances_) #creamos el gráfico de importancia\n",
    "plt.yticks(np.arange(caract),['Geography_Num','Age_Recode','NumOfProducts','Gender_Num', 'IsActiveMember', 'Balance_Recode'])\n",
    "plt.xlabel('Importancia de las características')\n",
    "plt.ylabel('Característica')\n",
    "plt.show()"
   ]
  },
  {
   "cell_type": "markdown",
   "id": "7067ae2f",
   "metadata": {},
   "source": [
    "En este caso, las variables con más importancia siguen siendo 'NumOfProducts' y 'Age_Recode' y se aprecia también una importancia considerable en 'IsActiveMember'."
   ]
  },
  {
   "cell_type": "markdown",
   "id": "63eabf57",
   "metadata": {},
   "source": [
    "Ahora, realizaremos un modelo con todas las variables para ver si al incluirlas todas aparece otra variable con una importancia signficativa que estemos pasando por alto, o quizás otra combinación totalmente diferente."
   ]
  },
  {
   "cell_type": "markdown",
   "id": "81466e7b",
   "metadata": {},
   "source": [
    "#### 1.3 Modelo con todas las variables"
   ]
  },
  {
   "cell_type": "markdown",
   "id": "7608b80e",
   "metadata": {},
   "source": [
    "Para las variables que originalmente eran numéricas y recodificamos en categóricas para estudiar su influencia a priori en la variable de clasificación ('CreditScore', 'Age', 'Balance'), se van a incluir las originales a no ser que se hubiese obtenido cierta influencia con las recodificadas.  \n",
    "Ya que podemos intuir que las recodificadas que no tuvieron influencia a priori seguramente no lo tengan, pero cabe la posibilidad de que las numéricas sí lo tengan.\n",
    "\n",
    "Es decir, incluiremos 'CreditScore', 'Age_Recode', 'Balance'."
   ]
  },
  {
   "cell_type": "markdown",
   "id": "fcea2942",
   "metadata": {},
   "source": [
    "Obsevamos el dataset que tenemos actualmente:"
   ]
  },
  {
   "cell_type": "code",
   "execution_count": 100,
   "id": "e7999dd6",
   "metadata": {},
   "outputs": [
    {
     "data": {
      "text/html": [
       "<div>\n",
       "<style scoped>\n",
       "    .dataframe tbody tr th:only-of-type {\n",
       "        vertical-align: middle;\n",
       "    }\n",
       "\n",
       "    .dataframe tbody tr th {\n",
       "        vertical-align: top;\n",
       "    }\n",
       "\n",
       "    .dataframe thead th {\n",
       "        text-align: right;\n",
       "    }\n",
       "</style>\n",
       "<table border=\"1\" class=\"dataframe\">\n",
       "  <thead>\n",
       "    <tr style=\"text-align: right;\">\n",
       "      <th></th>\n",
       "      <th>CreditScore</th>\n",
       "      <th>Geography</th>\n",
       "      <th>Gender</th>\n",
       "      <th>Age</th>\n",
       "      <th>Tenure</th>\n",
       "      <th>Balance</th>\n",
       "      <th>NumOfProducts</th>\n",
       "      <th>HasCrCard</th>\n",
       "      <th>IsActiveMember</th>\n",
       "      <th>Churn</th>\n",
       "      <th>CreditScore_Recode</th>\n",
       "      <th>Age_Recode</th>\n",
       "      <th>Balance_Recode</th>\n",
       "      <th>Geography_Num</th>\n",
       "      <th>Gender_Num</th>\n",
       "    </tr>\n",
       "  </thead>\n",
       "  <tbody>\n",
       "    <tr>\n",
       "      <th>0</th>\n",
       "      <td>619</td>\n",
       "      <td>France</td>\n",
       "      <td>Female</td>\n",
       "      <td>42</td>\n",
       "      <td>2</td>\n",
       "      <td>0.00</td>\n",
       "      <td>1</td>\n",
       "      <td>1</td>\n",
       "      <td>1</td>\n",
       "      <td>1</td>\n",
       "      <td>2</td>\n",
       "      <td>2</td>\n",
       "      <td>1.0</td>\n",
       "      <td>1</td>\n",
       "      <td>1</td>\n",
       "    </tr>\n",
       "    <tr>\n",
       "      <th>1</th>\n",
       "      <td>608</td>\n",
       "      <td>Spain</td>\n",
       "      <td>Female</td>\n",
       "      <td>41</td>\n",
       "      <td>1</td>\n",
       "      <td>83807.86</td>\n",
       "      <td>1</td>\n",
       "      <td>0</td>\n",
       "      <td>1</td>\n",
       "      <td>0</td>\n",
       "      <td>2</td>\n",
       "      <td>2</td>\n",
       "      <td>2.0</td>\n",
       "      <td>3</td>\n",
       "      <td>1</td>\n",
       "    </tr>\n",
       "    <tr>\n",
       "      <th>2</th>\n",
       "      <td>502</td>\n",
       "      <td>France</td>\n",
       "      <td>Female</td>\n",
       "      <td>42</td>\n",
       "      <td>8</td>\n",
       "      <td>159660.80</td>\n",
       "      <td>3</td>\n",
       "      <td>1</td>\n",
       "      <td>0</td>\n",
       "      <td>1</td>\n",
       "      <td>1</td>\n",
       "      <td>2</td>\n",
       "      <td>4.0</td>\n",
       "      <td>1</td>\n",
       "      <td>1</td>\n",
       "    </tr>\n",
       "    <tr>\n",
       "      <th>3</th>\n",
       "      <td>699</td>\n",
       "      <td>France</td>\n",
       "      <td>Female</td>\n",
       "      <td>39</td>\n",
       "      <td>1</td>\n",
       "      <td>0.00</td>\n",
       "      <td>2</td>\n",
       "      <td>0</td>\n",
       "      <td>0</td>\n",
       "      <td>0</td>\n",
       "      <td>3</td>\n",
       "      <td>2</td>\n",
       "      <td>1.0</td>\n",
       "      <td>1</td>\n",
       "      <td>1</td>\n",
       "    </tr>\n",
       "    <tr>\n",
       "      <th>4</th>\n",
       "      <td>850</td>\n",
       "      <td>Spain</td>\n",
       "      <td>Female</td>\n",
       "      <td>43</td>\n",
       "      <td>2</td>\n",
       "      <td>125510.82</td>\n",
       "      <td>1</td>\n",
       "      <td>1</td>\n",
       "      <td>1</td>\n",
       "      <td>0</td>\n",
       "      <td>4</td>\n",
       "      <td>2</td>\n",
       "      <td>3.0</td>\n",
       "      <td>3</td>\n",
       "      <td>1</td>\n",
       "    </tr>\n",
       "  </tbody>\n",
       "</table>\n",
       "</div>"
      ],
      "text/plain": [
       "   CreditScore Geography  Gender  Age  Tenure    Balance  NumOfProducts  \\\n",
       "0          619    France  Female   42       2       0.00              1   \n",
       "1          608     Spain  Female   41       1   83807.86              1   \n",
       "2          502    France  Female   42       8  159660.80              3   \n",
       "3          699    France  Female   39       1       0.00              2   \n",
       "4          850     Spain  Female   43       2  125510.82              1   \n",
       "\n",
       "   HasCrCard  IsActiveMember  Churn CreditScore_Recode Age_Recode  \\\n",
       "0          1               1      1                  2          2   \n",
       "1          0               1      0                  2          2   \n",
       "2          1               0      1                  1          2   \n",
       "3          0               0      0                  3          2   \n",
       "4          1               1      0                  4          2   \n",
       "\n",
       "   Balance_Recode  Geography_Num  Gender_Num  \n",
       "0             1.0              1           1  \n",
       "1             2.0              3           1  \n",
       "2             4.0              1           1  \n",
       "3             1.0              1           1  \n",
       "4             3.0              3           1  "
      ]
     },
     "execution_count": 100,
     "metadata": {},
     "output_type": "execute_result"
    }
   ],
   "source": [
    "df.head()"
   ]
  },
  {
   "cell_type": "markdown",
   "id": "603c311c",
   "metadata": {},
   "source": [
    "Las variables que queremos incluir son 'CreditScore', 'Tenure', 'Balance', 'NumOfProducts', 'HasCrCard', 'IsActiveMember', 'Age_Recode', 'Geography_Num', 'Gender_Num'"
   ]
  },
  {
   "cell_type": "markdown",
   "id": "aacf0f83",
   "metadata": {},
   "source": [
    "Cargamos los datos"
   ]
  },
  {
   "cell_type": "code",
   "execution_count": 101,
   "id": "f581bd9a",
   "metadata": {},
   "outputs": [],
   "source": [
    "X=df.loc[:,['CreditScore', 'Tenure', 'Balance', 'NumOfProducts', 'HasCrCard', 'IsActiveMember', 'Age_Recode', \n",
    "         'Geography_Num', 'Gender_Num']].values\n",
    "y=df['Churn'].values"
   ]
  },
  {
   "cell_type": "markdown",
   "id": "87c7bd0e",
   "metadata": {},
   "source": [
    "De nuevo, definimos los datos de train y test, construimos el modelo con el ajuste de desbalanceo y 3 niveles de profundidad, y representamos su gráfico de importancia."
   ]
  },
  {
   "cell_type": "code",
   "execution_count": 102,
   "id": "8c53c002",
   "metadata": {},
   "outputs": [
    {
     "data": {
      "image/png": "[encoded data removed]",
      "text/plain": [
       "<Figure size 432x288 with 1 Axes>"
      ]
     },
     "metadata": {
      "needs_background": "light"
     },
     "output_type": "display_data"
    }
   ],
   "source": [
    "X_train, X_test, y_train, y_test = train_test_split(X, y, test_size=0.2, random_state=0) \n",
    "\n",
    "model=DecisionTreeClassifier(max_depth=3,class_weight='balanced') \n",
    "model.fit(X_train,y_train)\n",
    "model.feature_importances_ \n",
    "\n",
    "caract=X.shape[1]\n",
    "plt.barh(range(caract), model.feature_importances_) #creamos el gráfico de importancia\n",
    "plt.yticks(np.arange(caract),['CreditScore', 'Tenure', 'Balance', 'NumOfProducts', 'HasCrCard', 'IsActiveMember', 'Age_Recode', \n",
    "         'Geography_Num', 'Gender_Num'])\n",
    "plt.xlabel('Importancia de las características')\n",
    "plt.ylabel('Característica')\n",
    "plt.show()"
   ]
  },
  {
   "cell_type": "markdown",
   "id": "19bbd7f1",
   "metadata": {},
   "source": [
    "En este caso, una vez más las variables con más importancia (y las únicas con importancia significativa) son 'Age_Recode', 'IsActiveMember' y 'NumOfProducts'."
   ]
  },
  {
   "cell_type": "markdown",
   "id": "16ff0786",
   "metadata": {},
   "source": [
    "Ahora desarrollaremos más en profundidad este modelo para obtener medidas de precisión, graficaremos el árbol que produce, y estudiaremos la matriz de confusión (muy útil en datos desbalanceados)."
   ]
  },
  {
   "cell_type": "markdown",
   "id": "11ce2d8f",
   "metadata": {},
   "source": [
    "Cargamos los datos y construimos el modelo:"
   ]
  },
  {
   "cell_type": "code",
   "execution_count": 103,
   "id": "e39ab64b",
   "metadata": {},
   "outputs": [
    {
     "data": {
      "text/plain": [
       "DecisionTreeClassifier(class_weight='balanced', max_depth=3)"
      ]
     },
     "execution_count": 103,
     "metadata": {},
     "output_type": "execute_result"
    }
   ],
   "source": [
    "X=df.loc[:,['Age_Recode', 'NumOfProducts', 'IsActiveMember']].values\n",
    "y=df['Churn'].values\n",
    "\n",
    "X_train, X_test, y_train, y_test = train_test_split(X, y, test_size=0.2, random_state=0) \n",
    "\n",
    "model=DecisionTreeClassifier(max_depth=3,class_weight='balanced') \n",
    "model.fit(X_train,y_train)"
   ]
  },
  {
   "cell_type": "markdown",
   "id": "1f96a9c0",
   "metadata": {},
   "source": [
    "Primero, estudiaremos el árbol de decision:"
   ]
  },
  {
   "cell_type": "code",
   "execution_count": 104,
   "id": "4cc2fd98",
   "metadata": {
    "scrolled": false
   },
   "outputs": [
    {
     "data": {
      "image/png": "[encoded data removed]",
      "text/plain": [
       "<Figure size 1800x720 with 1 Axes>"
      ]
     },
     "metadata": {
      "needs_background": "light"
     },
     "output_type": "display_data"
    }
   ],
   "source": [
    "from sklearn import tree\n",
    "plt.figure(figsize=(25,10))\n",
    "tree.plot_tree(model);"
   ]
  },
  {
   "cell_type": "markdown",
   "id": "4a292127",
   "metadata": {},
   "source": [
    "El árbol comienza separando las observaciones del grupo de edad 1 o 2 (18-44 años) y el resto (45-92).  \n",
    "En el primer nivel, la separación no es buena, ya que los índices de Gini están próximos a 0.5 en ambos subnodos.\n",
    "\n",
    "Las siguientes separaciones se tiene por un lado entre las observaciones con 1 o 2 productos, y por el lado derecho las personas que son o no son miembros activos.  \n",
    "En el segundo nivel resultante de estas separaciones sí tiene en algún caso buena separación (segundo y tercer subnodo).  \n",
    "Concretamente, fijándonos en el segundo subnodo, los clientes que tengan entre **18-44 años**, con **3 o más productos** adquiridos muy probablmente **dejarán** el banco.  \n",
    "En cuanto al tercer subnodo, los clientes de **más de 44 años** que **no sean miembros activos** también será muy probable que **dejen** el banco.\n",
    "\n",
    "Continuando al tercer y último nivel, se obtienen separaciones aceptables en la segunda, tercera, cuarta y quinta hoja.\n",
    "La más destacable es la segunda hoja, el resto de hojas provienen de subnodos con buena clasificación.\n",
    "En esta segunda hoja, además, se hace una agrupación bastante pura de los clientes que **se quedan** en el banco.  \n",
    "Podemos concluir que los clientes entre **18 y 44 años** y con **2 productos**, es muy probable que se queden en el banco."
   ]
  },
  {
   "cell_type": "markdown",
   "id": "4afae8f3",
   "metadata": {},
   "source": [
    "Las combinaciones que mejor predecirían a priori redactadas en el preproceso fueron:\n",
    "\n",
    "Para predecir que un cliente **se irá**: alemanes con 3 productos, alemanes de 45-62 años y clientes con 3 productos y de 45-62 años.  \n",
    "Para predecir que un cliente **se quedará**: clientes con 2 productos y de 18-25 años.\n",
    "\n",
    "Observamos que las combinaciones que mejor predicen **no coinciden** con las predichas en el estudio del preproceso (en el caso de predecir que se quede se acerca mucho), aunque sí conseguimos predecir 2 de las variables con más influencia."
   ]
  },
  {
   "cell_type": "markdown",
   "id": "9a528457",
   "metadata": {},
   "source": [
    "Estudiando el árbol en conjunto, los resultados no parecen muy prometedores ya que se dejan muchas combinaciones de valores de las variables sin asignar una predicción clara.  \n",
    "Por ejemplo, fijándonos en el lado derecho el árbol, si los clientes tienen entre 45 y 92 años, no se tendrá una buena predicción a no ser que no sean miembros activos y tengan 1 producto, una condición muy específica y restrictiva."
   ]
  },
  {
   "cell_type": "markdown",
   "id": "6486a106",
   "metadata": {},
   "source": [
    "Ahora evaluaremos la matriz de confusión y posteriormente el resto de métricas.  \n",
    "Para ello, necesitamos los valores de test predichos por nuestro modelo."
   ]
  },
  {
   "cell_type": "code",
   "execution_count": 105,
   "id": "a2afe396",
   "metadata": {},
   "outputs": [
    {
     "name": "stdout",
     "output_type": "stream",
     "text": [
      "[[1377  218]\n",
      " [ 156  249]]\n"
     ]
    }
   ],
   "source": [
    "y_pred=model.predict(X_test) #defino valores perdichos de test\n",
    "\n",
    "from sklearn import metrics\n",
    "C = metrics.confusion_matrix(y_test, y_pred)\n",
    "print(C)"
   ]
  },
  {
   "cell_type": "markdown",
   "id": "ee0456e1",
   "metadata": {},
   "source": [
    "Aquí queda muy claramente representado el **desbalanceo en los datos**, ya que al tener muchas menos observaciones de 'Churn'=1 que de 'Churn'=0, esto hace que sea mucho más facil predecir si un cliente se queda (1377 de aciertos vs 218 fallos) que si se va (249 aciertos vs 156 fallos de predecir que el cliente se quedaba cuando en realidad se iba)."
   ]
  },
  {
   "cell_type": "markdown",
   "id": "d108a65b",
   "metadata": {},
   "source": [
    "Ahora, realizaremos un CV sobre los datos de train y test para obtener unas medidas robustas de la precisión de nuestro modelo."
   ]
  },
  {
   "cell_type": "markdown",
   "id": "0541a133",
   "metadata": {},
   "source": [
    "Podemos ver las métricas disponibles de esta manera:"
   ]
  },
  {
   "cell_type": "code",
   "execution_count": 106,
   "id": "4716fd96",
   "metadata": {
    "scrolled": true
   },
   "outputs": [
    {
     "data": {
      "text/plain": [
       "dict_keys(['explained_variance', 'r2', 'max_error', 'neg_median_absolute_error', 'neg_mean_absolute_error', 'neg_mean_squared_error', 'neg_mean_squared_log_error', 'neg_root_mean_squared_error', 'neg_mean_poisson_deviance', 'neg_mean_gamma_deviance', 'accuracy', 'roc_auc', 'roc_auc_ovr', 'roc_auc_ovo', 'roc_auc_ovr_weighted', 'roc_auc_ovo_weighted', 'balanced_accuracy', 'average_precision', 'neg_log_loss', 'neg_brier_score', 'adjusted_rand_score', 'homogeneity_score', 'completeness_score', 'v_measure_score', 'mutual_info_score', 'adjusted_mutual_info_score', 'normalized_mutual_info_score', 'fowlkes_mallows_score', 'precision', 'precision_macro', 'precision_micro', 'precision_samples', 'precision_weighted', 'recall', 'recall_macro', 'recall_micro', 'recall_samples', 'recall_weighted', 'f1', 'f1_macro', 'f1_micro', 'f1_samples', 'f1_weighted', 'jaccard', 'jaccard_macro', 'jaccard_micro', 'jaccard_samples', 'jaccard_weighted'])"
      ]
     },
     "execution_count": 106,
     "metadata": {},
     "output_type": "execute_result"
    }
   ],
   "source": [
    "import sklearn.metrics\n",
    "sklearn.metrics.SCORERS.keys() "
   ]
  },
  {
   "cell_type": "markdown",
   "id": "fa130fce",
   "metadata": {},
   "source": [
    "Algunas métricas están hechas para tratar mejor con datos desbalanceados, ésas son las que vamos a usar ya que aún haciendo el ajuste de desbalanceo en el modelo, los resultados no son buenos.\n",
    "En concreto éstas métricas son: 'balanced_accuracy' y 'f1_weighted.\n",
    "\n",
    "Se puede ver su explicación en los siguientes enlaces:  \n",
    "https://scikit-learn.org/stable/modules/generated/sklearn.metrics.balanced_accuracy_score.html#sklearn.metrics.balanced_accuracy_score  \n",
    "https://scikit-learn.org/stable/modules/generated/sklearn.metrics.f1_score.html#sklearn.metrics.f1_score"
   ]
  },
  {
   "cell_type": "code",
   "execution_count": 107,
   "id": "d5659684",
   "metadata": {},
   "outputs": [
    {
     "data": {
      "text/plain": [
       "{'fit_time': array([0.00598454, 0.00299215, 0.004987  , 0.00299191, 0.00499821]),\n",
       " 'score_time': array([0.00394988, 0.00398993, 0.00299215, 0.00399089, 0.00297832]),\n",
       " 'test_balanced_accuracy': array([0.73992945, 0.70861617, 0.71909891, 0.70205193, 0.70727412]),\n",
       " 'test_f1_weighted': array([0.81776195, 0.8039161 , 0.8103988 , 0.79979973, 0.79212043])}"
      ]
     },
     "execution_count": 107,
     "metadata": {},
     "output_type": "execute_result"
    }
   ],
   "source": [
    "from sklearn.model_selection import cross_validate\n",
    "\n",
    "from sklearn.utils import shuffle\n",
    "X, y = shuffle(X, y, random_state=0) #barajamos los datos\n",
    "\n",
    "scoring = ['balanced_accuracy','f1_weighted'] #métricas a evaluar\n",
    "cv = cross_validate(model, X, y, cv=5, scoring=scoring) #construimos el modelo de CV con 5 particiones\n",
    "\n",
    "cv \n",
    "   "
   ]
  },
  {
   "cell_type": "markdown",
   "id": "816e4072",
   "metadata": {},
   "source": [
    "Calculamos la media de las medidas de precisión:"
   ]
  },
  {
   "cell_type": "code",
   "execution_count": 108,
   "id": "7d829edf",
   "metadata": {},
   "outputs": [
    {
     "name": "stdout",
     "output_type": "stream",
     "text": [
      "0.715394114805178\n",
      "0.8047994012800055\n"
     ]
    }
   ],
   "source": [
    "print(cv['test_balanced_accuracy'].mean())\n",
    "print(cv['test_f1_weighted'].mean())"
   ]
  },
  {
   "cell_type": "markdown",
   "id": "4e734d24",
   "metadata": {},
   "source": [
    "### 2. Regresión Logística"
   ]
  },
  {
   "cell_type": "markdown",
   "id": "18b0f359",
   "metadata": {},
   "source": [
    "#### 2.1 Modelo con 'Geography', 'Age_Recode' y 'NumOfProducts'"
   ]
  },
  {
   "cell_type": "markdown",
   "id": "8ef33fc5",
   "metadata": {},
   "source": [
    "Definimos los datos del primer modelo con las tres variables que a priori mejor predicen el valor de la variable 'Churn'."
   ]
  },
  {
   "cell_type": "markdown",
   "id": "6b45205a",
   "metadata": {},
   "source": [
    "Antes de comenzar con el modelo, debemos realizar una codificación para la variable Geography."
   ]
  },
  {
   "cell_type": "code",
   "execution_count": 109,
   "id": "4996fa6f",
   "metadata": {},
   "outputs": [
    {
     "data": {
      "text/html": [
       "<div>\n",
       "<style scoped>\n",
       "    .dataframe tbody tr th:only-of-type {\n",
       "        vertical-align: middle;\n",
       "    }\n",
       "\n",
       "    .dataframe tbody tr th {\n",
       "        vertical-align: top;\n",
       "    }\n",
       "\n",
       "    .dataframe thead th {\n",
       "        text-align: right;\n",
       "    }\n",
       "</style>\n",
       "<table border=\"1\" class=\"dataframe\">\n",
       "  <thead>\n",
       "    <tr style=\"text-align: right;\">\n",
       "      <th></th>\n",
       "      <th>CreditScore</th>\n",
       "      <th>Geography</th>\n",
       "      <th>Gender</th>\n",
       "      <th>Age</th>\n",
       "      <th>Tenure</th>\n",
       "      <th>Balance</th>\n",
       "      <th>NumOfProducts</th>\n",
       "      <th>HasCrCard</th>\n",
       "      <th>IsActiveMember</th>\n",
       "      <th>Churn</th>\n",
       "      <th>CreditScore_Recode</th>\n",
       "      <th>Age_Recode</th>\n",
       "      <th>Balance_Recode</th>\n",
       "      <th>Geography_Num</th>\n",
       "      <th>Gender_Num</th>\n",
       "    </tr>\n",
       "  </thead>\n",
       "  <tbody>\n",
       "    <tr>\n",
       "      <th>0</th>\n",
       "      <td>619</td>\n",
       "      <td>France</td>\n",
       "      <td>Female</td>\n",
       "      <td>42</td>\n",
       "      <td>2</td>\n",
       "      <td>0.00</td>\n",
       "      <td>1</td>\n",
       "      <td>1</td>\n",
       "      <td>1</td>\n",
       "      <td>1</td>\n",
       "      <td>2</td>\n",
       "      <td>2</td>\n",
       "      <td>1.0</td>\n",
       "      <td>1</td>\n",
       "      <td>1</td>\n",
       "    </tr>\n",
       "    <tr>\n",
       "      <th>1</th>\n",
       "      <td>608</td>\n",
       "      <td>Spain</td>\n",
       "      <td>Female</td>\n",
       "      <td>41</td>\n",
       "      <td>1</td>\n",
       "      <td>83807.86</td>\n",
       "      <td>1</td>\n",
       "      <td>0</td>\n",
       "      <td>1</td>\n",
       "      <td>0</td>\n",
       "      <td>2</td>\n",
       "      <td>2</td>\n",
       "      <td>2.0</td>\n",
       "      <td>3</td>\n",
       "      <td>1</td>\n",
       "    </tr>\n",
       "    <tr>\n",
       "      <th>2</th>\n",
       "      <td>502</td>\n",
       "      <td>France</td>\n",
       "      <td>Female</td>\n",
       "      <td>42</td>\n",
       "      <td>8</td>\n",
       "      <td>159660.80</td>\n",
       "      <td>3</td>\n",
       "      <td>1</td>\n",
       "      <td>0</td>\n",
       "      <td>1</td>\n",
       "      <td>1</td>\n",
       "      <td>2</td>\n",
       "      <td>4.0</td>\n",
       "      <td>1</td>\n",
       "      <td>1</td>\n",
       "    </tr>\n",
       "    <tr>\n",
       "      <th>3</th>\n",
       "      <td>699</td>\n",
       "      <td>France</td>\n",
       "      <td>Female</td>\n",
       "      <td>39</td>\n",
       "      <td>1</td>\n",
       "      <td>0.00</td>\n",
       "      <td>2</td>\n",
       "      <td>0</td>\n",
       "      <td>0</td>\n",
       "      <td>0</td>\n",
       "      <td>3</td>\n",
       "      <td>2</td>\n",
       "      <td>1.0</td>\n",
       "      <td>1</td>\n",
       "      <td>1</td>\n",
       "    </tr>\n",
       "    <tr>\n",
       "      <th>4</th>\n",
       "      <td>850</td>\n",
       "      <td>Spain</td>\n",
       "      <td>Female</td>\n",
       "      <td>43</td>\n",
       "      <td>2</td>\n",
       "      <td>125510.82</td>\n",
       "      <td>1</td>\n",
       "      <td>1</td>\n",
       "      <td>1</td>\n",
       "      <td>0</td>\n",
       "      <td>4</td>\n",
       "      <td>2</td>\n",
       "      <td>3.0</td>\n",
       "      <td>3</td>\n",
       "      <td>1</td>\n",
       "    </tr>\n",
       "    <tr>\n",
       "      <th>5</th>\n",
       "      <td>645</td>\n",
       "      <td>Spain</td>\n",
       "      <td>Male</td>\n",
       "      <td>44</td>\n",
       "      <td>8</td>\n",
       "      <td>113755.78</td>\n",
       "      <td>2</td>\n",
       "      <td>1</td>\n",
       "      <td>0</td>\n",
       "      <td>1</td>\n",
       "      <td>2</td>\n",
       "      <td>2</td>\n",
       "      <td>3.0</td>\n",
       "      <td>3</td>\n",
       "      <td>2</td>\n",
       "    </tr>\n",
       "    <tr>\n",
       "      <th>6</th>\n",
       "      <td>822</td>\n",
       "      <td>France</td>\n",
       "      <td>Male</td>\n",
       "      <td>50</td>\n",
       "      <td>7</td>\n",
       "      <td>0.00</td>\n",
       "      <td>2</td>\n",
       "      <td>1</td>\n",
       "      <td>1</td>\n",
       "      <td>0</td>\n",
       "      <td>4</td>\n",
       "      <td>3</td>\n",
       "      <td>1.0</td>\n",
       "      <td>1</td>\n",
       "      <td>2</td>\n",
       "    </tr>\n",
       "    <tr>\n",
       "      <th>7</th>\n",
       "      <td>376</td>\n",
       "      <td>Germany</td>\n",
       "      <td>Female</td>\n",
       "      <td>29</td>\n",
       "      <td>4</td>\n",
       "      <td>115046.74</td>\n",
       "      <td>4</td>\n",
       "      <td>1</td>\n",
       "      <td>0</td>\n",
       "      <td>1</td>\n",
       "      <td>1</td>\n",
       "      <td>2</td>\n",
       "      <td>3.0</td>\n",
       "      <td>2</td>\n",
       "      <td>1</td>\n",
       "    </tr>\n",
       "    <tr>\n",
       "      <th>8</th>\n",
       "      <td>501</td>\n",
       "      <td>France</td>\n",
       "      <td>Male</td>\n",
       "      <td>44</td>\n",
       "      <td>4</td>\n",
       "      <td>142051.07</td>\n",
       "      <td>2</td>\n",
       "      <td>0</td>\n",
       "      <td>1</td>\n",
       "      <td>0</td>\n",
       "      <td>1</td>\n",
       "      <td>2</td>\n",
       "      <td>4.0</td>\n",
       "      <td>1</td>\n",
       "      <td>2</td>\n",
       "    </tr>\n",
       "    <tr>\n",
       "      <th>9</th>\n",
       "      <td>684</td>\n",
       "      <td>France</td>\n",
       "      <td>Male</td>\n",
       "      <td>27</td>\n",
       "      <td>2</td>\n",
       "      <td>134603.88</td>\n",
       "      <td>1</td>\n",
       "      <td>1</td>\n",
       "      <td>1</td>\n",
       "      <td>0</td>\n",
       "      <td>3</td>\n",
       "      <td>2</td>\n",
       "      <td>4.0</td>\n",
       "      <td>1</td>\n",
       "      <td>2</td>\n",
       "    </tr>\n",
       "  </tbody>\n",
       "</table>\n",
       "</div>"
      ],
      "text/plain": [
       "   CreditScore Geography  Gender  Age  Tenure    Balance  NumOfProducts  \\\n",
       "0          619    France  Female   42       2       0.00              1   \n",
       "1          608     Spain  Female   41       1   83807.86              1   \n",
       "2          502    France  Female   42       8  159660.80              3   \n",
       "3          699    France  Female   39       1       0.00              2   \n",
       "4          850     Spain  Female   43       2  125510.82              1   \n",
       "5          645     Spain    Male   44       8  113755.78              2   \n",
       "6          822    France    Male   50       7       0.00              2   \n",
       "7          376   Germany  Female   29       4  115046.74              4   \n",
       "8          501    France    Male   44       4  142051.07              2   \n",
       "9          684    France    Male   27       2  134603.88              1   \n",
       "\n",
       "   HasCrCard  IsActiveMember  Churn CreditScore_Recode Age_Recode  \\\n",
       "0          1               1      1                  2          2   \n",
       "1          0               1      0                  2          2   \n",
       "2          1               0      1                  1          2   \n",
       "3          0               0      0                  3          2   \n",
       "4          1               1      0                  4          2   \n",
       "5          1               0      1                  2          2   \n",
       "6          1               1      0                  4          3   \n",
       "7          1               0      1                  1          2   \n",
       "8          0               1      0                  1          2   \n",
       "9          1               1      0                  3          2   \n",
       "\n",
       "   Balance_Recode  Geography_Num  Gender_Num  \n",
       "0             1.0              1           1  \n",
       "1             2.0              3           1  \n",
       "2             4.0              1           1  \n",
       "3             1.0              1           1  \n",
       "4             3.0              3           1  \n",
       "5             3.0              3           2  \n",
       "6             1.0              1           2  \n",
       "7             3.0              2           1  \n",
       "8             4.0              1           2  \n",
       "9             4.0              1           2  "
      ]
     },
     "execution_count": 109,
     "metadata": {},
     "output_type": "execute_result"
    }
   ],
   "source": [
    "X1 = df.loc[:, 'Geography'].values\n",
    "\n",
    "enc = LabelEncoder()\n",
    "label_encoder = enc.fit(X1)\n",
    "X1 = label_encoder.transform(X1)+1\n",
    "\n",
    "df['Geography_Num']=X1\n",
    "df.head(10)"
   ]
  },
  {
   "cell_type": "code",
   "execution_count": 110,
   "id": "dc3ba1fd",
   "metadata": {},
   "outputs": [],
   "source": [
    "X=df.loc[:,['Geography_Num','Age_Recode','NumOfProducts']].values\n",
    "y=df['Churn'].values"
   ]
  },
  {
   "cell_type": "markdown",
   "id": "78127566",
   "metadata": {},
   "source": [
    "Importamos los módulos para realizar la partición de datos en train y test."
   ]
  },
  {
   "cell_type": "code",
   "execution_count": 111,
   "id": "5c2fa16c",
   "metadata": {},
   "outputs": [],
   "source": [
    "X_train, X_test, y_train, y_test = train_test_split(X, y, test_size=0.2)"
   ]
  },
  {
   "cell_type": "markdown",
   "id": "0944563b",
   "metadata": {},
   "source": [
    "Construimos el modelo de regresión logística para las variables definidas anteriormente."
   ]
  },
  {
   "cell_type": "code",
   "execution_count": 112,
   "id": "0b2fc876",
   "metadata": {},
   "outputs": [],
   "source": [
    "from sklearn.linear_model import LogisticRegression\n",
    "\n",
    "#defino el algoritmo a utilizar\n",
    "algoritmo = LogisticRegression(class_weight = \"balanced\")\n",
    "#Entreno el modelo\n",
    "algoritmo.fit(X_train, y_train)\n",
    "#realizo una prediccion\n",
    "y_pred = algoritmo.predict(X_test)"
   ]
  },
  {
   "cell_type": "code",
   "execution_count": 113,
   "id": "9c641cfb",
   "metadata": {},
   "outputs": [
    {
     "name": "stdout",
     "output_type": "stream",
     "text": [
      "Coeficientes:  [[ 0.11244881  1.16836199 -0.12781629]]\n",
      "Término independiente:  [-2.71851935]\n"
     ]
    }
   ],
   "source": [
    "print('Coeficientes: ', algoritmo.coef_)\n",
    "print('Término independiente: ', algoritmo.intercept_)"
   ]
  },
  {
   "cell_type": "markdown",
   "id": "13b9e5c5",
   "metadata": {},
   "source": [
    "Aquí obtenemos los coeficientes de la recta. Tanto 'Geography_num' como 'Age_Recode' tienen una relación directa con 'Churn' mientras que 'NumOfProducts' tiene una relación inversa.\n",
    "\n",
    "Además, el término independiente para este modelo es negativo.\n",
    "\n",
    "La variable con más importancia es la variable 'Age_Recode'"
   ]
  },
  {
   "cell_type": "markdown",
   "id": "97f336da",
   "metadata": {},
   "source": [
    "Ahora analizaremos la matriz de confusión, la precisión, la exactitud, la sensibilidad y el puntaje F1 de este modelo."
   ]
  },
  {
   "cell_type": "code",
   "execution_count": 114,
   "id": "37b52386",
   "metadata": {},
   "outputs": [
    {
     "name": "stdout",
     "output_type": "stream",
     "text": [
      "Matriz de Confusión:\n",
      "[[1339  247]\n",
      " [ 216  198]]\n"
     ]
    }
   ],
   "source": [
    "#Verifico la matriz de confusion\n",
    "from sklearn.metrics import confusion_matrix\n",
    "\n",
    "matriz = confusion_matrix(y_test, y_pred)\n",
    "print('Matriz de Confusión:')\n",
    "print(matriz)"
   ]
  },
  {
   "cell_type": "markdown",
   "id": "c0848d23",
   "metadata": {},
   "source": [
    "La matriz nos indica que cuenta con 1364 datos verdaderos positivos, es decir que en los datos reales eran 1 y el modelo los predijo correctamente. \n",
    "\n",
    "Por otra parte, tenemos 212 datos verdaderos negativos, esto quiere decir datos reales que eran 0 y el modelo los predijo como tal. \n",
    "\n",
    "Ahora analizamos los datos que el modelo no ha predecido bien. Comenzamos con los datos falsos negativos, en total fueron 243, esto quiere decir que eran 1 pero el modelo los predijo como 0. En cuanto a los falsos positivos, tenemos 181, que eran en realidad 0 y el modelo los predijo como 1. \n",
    "\n",
    "La matriz nos indica que 424 datos no se han predecido correctamente. Es una cantidad de datos bastante alta. Hay que tener en cuenta que aquí sólo estamos evaluando el conjunto de datos de pruebas que representa solamente el 20% de nuestros datos."
   ]
  },
  {
   "cell_type": "markdown",
   "id": "bfe18d33",
   "metadata": {},
   "source": [
    "Comenzamos calculando la presición del modelo. "
   ]
  },
  {
   "cell_type": "code",
   "execution_count": 115,
   "id": "f857f684",
   "metadata": {},
   "outputs": [
    {
     "name": "stdout",
     "output_type": "stream",
     "text": [
      "Precisión del modelo:\n",
      "0.4449438202247191\n"
     ]
    }
   ],
   "source": [
    "#calculo la precision del modelo\n",
    "from sklearn.metrics import precision_score\n",
    "\n",
    "precision = precision_score(y_test, y_pred)\n",
    "\n",
    "print('Precisión del modelo:')\n",
    "print(precision)"
   ]
  },
  {
   "cell_type": "markdown",
   "id": "a19d3f34",
   "metadata": {},
   "source": [
    "No es una buena precisión del modelo. Esto coincide con lo analizado en la matriz de confusión, demostrando que el modelo no es muy bueno.\n",
    "\n",
    "Calculamos ahora la exactitud del modelo."
   ]
  },
  {
   "cell_type": "code",
   "execution_count": 116,
   "id": "48fb9acf",
   "metadata": {},
   "outputs": [
    {
     "name": "stdout",
     "output_type": "stream",
     "text": [
      "Exactitud del modelo:\n",
      "0.7685\n"
     ]
    }
   ],
   "source": [
    "#Calculo la exactitud del modelo\n",
    "from sklearn.metrics import accuracy_score\n",
    "\n",
    "exactitud = accuracy_score(y_test, y_pred)\n",
    "print('Exactitud del modelo:')\n",
    "print(exactitud)"
   ]
  },
  {
   "cell_type": "markdown",
   "id": "2fafbaf0",
   "metadata": {},
   "source": [
    "Aplicando este comando a los datos de pruebas, obtenemos una exactitud algo alta en comparación con los resultados de precisión y la matriz de confusiones.\n",
    "\n",
    "Veamos ahora la sensibilidad del modelo, también concocida como recall del algoritmo. "
   ]
  },
  {
   "cell_type": "code",
   "execution_count": 117,
   "id": "d7de6b1b",
   "metadata": {},
   "outputs": [
    {
     "name": "stdout",
     "output_type": "stream",
     "text": [
      "Sensibilidad del modelo:\n",
      "0.4782608695652174\n"
     ]
    }
   ],
   "source": [
    "#Calculo la sensibilidad del modelo\n",
    "from sklearn.metrics import recall_score\n",
    "\n",
    "sensibilidad = recall_score(y_test, y_pred)\n",
    "print('Sensibilidad del modelo:')\n",
    "print(sensibilidad)"
   ]
  },
  {
   "cell_type": "markdown",
   "id": "7c4d3f6d",
   "metadata": {},
   "source": [
    "Obtenemos una sensibilidad del 0.5086. Este dato sigue en la línea de los anteriores.\n",
    "\n",
    "Ahora calculamos el puntaje F1 que es una combinación entre la precisión y la sensibilidad."
   ]
  },
  {
   "cell_type": "code",
   "execution_count": 118,
   "id": "168ed195",
   "metadata": {},
   "outputs": [
    {
     "name": "stdout",
     "output_type": "stream",
     "text": [
      "Puntaje F1 del modelo:\n",
      "0.4610011641443539\n"
     ]
    }
   ],
   "source": [
    "#Calculo el PUntaje F1 del modelo\n",
    "from sklearn.metrics import f1_score\n",
    "\n",
    "puntajef1 = f1_score(y_test, y_pred)\n",
    "print('Puntaje F1 del modelo:')\n",
    "print(puntajef1)"
   ]
  },
  {
   "cell_type": "markdown",
   "id": "15def73d",
   "metadata": {},
   "source": [
    "Y logicamente, al tener una precisión y una sensibilidad bajas, obtenemos un puntaje F1 bajo. \n",
    "\n",
    "Como no hemos obtenido unos resultados muy buenos con este modelo, vamos a introducir mas variables, a ver si nuestro modelo mejora."
   ]
  },
  {
   "cell_type": "markdown",
   "id": "637b348b",
   "metadata": {},
   "source": [
    "#### 2.2 Modelo incluyendo 'Gender', 'IsActiveMember' y 'Balance_Recode'"
   ]
  },
  {
   "cell_type": "markdown",
   "id": "256bcfcf",
   "metadata": {},
   "source": [
    "Lo primero, para definir este  modelo es recodificar la variable 'Gender' a numérica."
   ]
  },
  {
   "cell_type": "code",
   "execution_count": 119,
   "id": "e518e782",
   "metadata": {},
   "outputs": [
    {
     "data": {
      "text/html": [
       "<div>\n",
       "<style scoped>\n",
       "    .dataframe tbody tr th:only-of-type {\n",
       "        vertical-align: middle;\n",
       "    }\n",
       "\n",
       "    .dataframe tbody tr th {\n",
       "        vertical-align: top;\n",
       "    }\n",
       "\n",
       "    .dataframe thead th {\n",
       "        text-align: right;\n",
       "    }\n",
       "</style>\n",
       "<table border=\"1\" class=\"dataframe\">\n",
       "  <thead>\n",
       "    <tr style=\"text-align: right;\">\n",
       "      <th></th>\n",
       "      <th>CreditScore</th>\n",
       "      <th>Geography</th>\n",
       "      <th>Gender</th>\n",
       "      <th>Age</th>\n",
       "      <th>Tenure</th>\n",
       "      <th>Balance</th>\n",
       "      <th>NumOfProducts</th>\n",
       "      <th>HasCrCard</th>\n",
       "      <th>IsActiveMember</th>\n",
       "      <th>Churn</th>\n",
       "      <th>CreditScore_Recode</th>\n",
       "      <th>Age_Recode</th>\n",
       "      <th>Balance_Recode</th>\n",
       "      <th>Geography_Num</th>\n",
       "      <th>Gender_Num</th>\n",
       "    </tr>\n",
       "  </thead>\n",
       "  <tbody>\n",
       "    <tr>\n",
       "      <th>0</th>\n",
       "      <td>619</td>\n",
       "      <td>France</td>\n",
       "      <td>Female</td>\n",
       "      <td>42</td>\n",
       "      <td>2</td>\n",
       "      <td>0.00</td>\n",
       "      <td>1</td>\n",
       "      <td>1</td>\n",
       "      <td>1</td>\n",
       "      <td>1</td>\n",
       "      <td>2</td>\n",
       "      <td>2</td>\n",
       "      <td>1.0</td>\n",
       "      <td>1</td>\n",
       "      <td>1</td>\n",
       "    </tr>\n",
       "    <tr>\n",
       "      <th>1</th>\n",
       "      <td>608</td>\n",
       "      <td>Spain</td>\n",
       "      <td>Female</td>\n",
       "      <td>41</td>\n",
       "      <td>1</td>\n",
       "      <td>83807.86</td>\n",
       "      <td>1</td>\n",
       "      <td>0</td>\n",
       "      <td>1</td>\n",
       "      <td>0</td>\n",
       "      <td>2</td>\n",
       "      <td>2</td>\n",
       "      <td>2.0</td>\n",
       "      <td>3</td>\n",
       "      <td>1</td>\n",
       "    </tr>\n",
       "    <tr>\n",
       "      <th>2</th>\n",
       "      <td>502</td>\n",
       "      <td>France</td>\n",
       "      <td>Female</td>\n",
       "      <td>42</td>\n",
       "      <td>8</td>\n",
       "      <td>159660.80</td>\n",
       "      <td>3</td>\n",
       "      <td>1</td>\n",
       "      <td>0</td>\n",
       "      <td>1</td>\n",
       "      <td>1</td>\n",
       "      <td>2</td>\n",
       "      <td>4.0</td>\n",
       "      <td>1</td>\n",
       "      <td>1</td>\n",
       "    </tr>\n",
       "    <tr>\n",
       "      <th>3</th>\n",
       "      <td>699</td>\n",
       "      <td>France</td>\n",
       "      <td>Female</td>\n",
       "      <td>39</td>\n",
       "      <td>1</td>\n",
       "      <td>0.00</td>\n",
       "      <td>2</td>\n",
       "      <td>0</td>\n",
       "      <td>0</td>\n",
       "      <td>0</td>\n",
       "      <td>3</td>\n",
       "      <td>2</td>\n",
       "      <td>1.0</td>\n",
       "      <td>1</td>\n",
       "      <td>1</td>\n",
       "    </tr>\n",
       "    <tr>\n",
       "      <th>4</th>\n",
       "      <td>850</td>\n",
       "      <td>Spain</td>\n",
       "      <td>Female</td>\n",
       "      <td>43</td>\n",
       "      <td>2</td>\n",
       "      <td>125510.82</td>\n",
       "      <td>1</td>\n",
       "      <td>1</td>\n",
       "      <td>1</td>\n",
       "      <td>0</td>\n",
       "      <td>4</td>\n",
       "      <td>2</td>\n",
       "      <td>3.0</td>\n",
       "      <td>3</td>\n",
       "      <td>1</td>\n",
       "    </tr>\n",
       "    <tr>\n",
       "      <th>5</th>\n",
       "      <td>645</td>\n",
       "      <td>Spain</td>\n",
       "      <td>Male</td>\n",
       "      <td>44</td>\n",
       "      <td>8</td>\n",
       "      <td>113755.78</td>\n",
       "      <td>2</td>\n",
       "      <td>1</td>\n",
       "      <td>0</td>\n",
       "      <td>1</td>\n",
       "      <td>2</td>\n",
       "      <td>2</td>\n",
       "      <td>3.0</td>\n",
       "      <td>3</td>\n",
       "      <td>2</td>\n",
       "    </tr>\n",
       "    <tr>\n",
       "      <th>6</th>\n",
       "      <td>822</td>\n",
       "      <td>France</td>\n",
       "      <td>Male</td>\n",
       "      <td>50</td>\n",
       "      <td>7</td>\n",
       "      <td>0.00</td>\n",
       "      <td>2</td>\n",
       "      <td>1</td>\n",
       "      <td>1</td>\n",
       "      <td>0</td>\n",
       "      <td>4</td>\n",
       "      <td>3</td>\n",
       "      <td>1.0</td>\n",
       "      <td>1</td>\n",
       "      <td>2</td>\n",
       "    </tr>\n",
       "    <tr>\n",
       "      <th>7</th>\n",
       "      <td>376</td>\n",
       "      <td>Germany</td>\n",
       "      <td>Female</td>\n",
       "      <td>29</td>\n",
       "      <td>4</td>\n",
       "      <td>115046.74</td>\n",
       "      <td>4</td>\n",
       "      <td>1</td>\n",
       "      <td>0</td>\n",
       "      <td>1</td>\n",
       "      <td>1</td>\n",
       "      <td>2</td>\n",
       "      <td>3.0</td>\n",
       "      <td>2</td>\n",
       "      <td>1</td>\n",
       "    </tr>\n",
       "    <tr>\n",
       "      <th>8</th>\n",
       "      <td>501</td>\n",
       "      <td>France</td>\n",
       "      <td>Male</td>\n",
       "      <td>44</td>\n",
       "      <td>4</td>\n",
       "      <td>142051.07</td>\n",
       "      <td>2</td>\n",
       "      <td>0</td>\n",
       "      <td>1</td>\n",
       "      <td>0</td>\n",
       "      <td>1</td>\n",
       "      <td>2</td>\n",
       "      <td>4.0</td>\n",
       "      <td>1</td>\n",
       "      <td>2</td>\n",
       "    </tr>\n",
       "    <tr>\n",
       "      <th>9</th>\n",
       "      <td>684</td>\n",
       "      <td>France</td>\n",
       "      <td>Male</td>\n",
       "      <td>27</td>\n",
       "      <td>2</td>\n",
       "      <td>134603.88</td>\n",
       "      <td>1</td>\n",
       "      <td>1</td>\n",
       "      <td>1</td>\n",
       "      <td>0</td>\n",
       "      <td>3</td>\n",
       "      <td>2</td>\n",
       "      <td>4.0</td>\n",
       "      <td>1</td>\n",
       "      <td>2</td>\n",
       "    </tr>\n",
       "  </tbody>\n",
       "</table>\n",
       "</div>"
      ],
      "text/plain": [
       "   CreditScore Geography  Gender  Age  Tenure    Balance  NumOfProducts  \\\n",
       "0          619    France  Female   42       2       0.00              1   \n",
       "1          608     Spain  Female   41       1   83807.86              1   \n",
       "2          502    France  Female   42       8  159660.80              3   \n",
       "3          699    France  Female   39       1       0.00              2   \n",
       "4          850     Spain  Female   43       2  125510.82              1   \n",
       "5          645     Spain    Male   44       8  113755.78              2   \n",
       "6          822    France    Male   50       7       0.00              2   \n",
       "7          376   Germany  Female   29       4  115046.74              4   \n",
       "8          501    France    Male   44       4  142051.07              2   \n",
       "9          684    France    Male   27       2  134603.88              1   \n",
       "\n",
       "   HasCrCard  IsActiveMember  Churn CreditScore_Recode Age_Recode  \\\n",
       "0          1               1      1                  2          2   \n",
       "1          0               1      0                  2          2   \n",
       "2          1               0      1                  1          2   \n",
       "3          0               0      0                  3          2   \n",
       "4          1               1      0                  4          2   \n",
       "5          1               0      1                  2          2   \n",
       "6          1               1      0                  4          3   \n",
       "7          1               0      1                  1          2   \n",
       "8          0               1      0                  1          2   \n",
       "9          1               1      0                  3          2   \n",
       "\n",
       "   Balance_Recode  Geography_Num  Gender_Num  \n",
       "0             1.0              1           1  \n",
       "1             2.0              3           1  \n",
       "2             4.0              1           1  \n",
       "3             1.0              1           1  \n",
       "4             3.0              3           1  \n",
       "5             3.0              3           2  \n",
       "6             1.0              1           2  \n",
       "7             3.0              2           1  \n",
       "8             4.0              1           2  \n",
       "9             4.0              1           2  "
      ]
     },
     "execution_count": 119,
     "metadata": {},
     "output_type": "execute_result"
    }
   ],
   "source": [
    "X2 = df.loc[:, 'Gender'].values\n",
    "\n",
    "enc = LabelEncoder()\n",
    "label_encoder = enc.fit(X2)\n",
    "X2 = label_encoder.transform(X2)+1\n",
    "\n",
    "df['Gender_Num']=X2\n",
    "df.head(10) #Female=1,  Male=2"
   ]
  },
  {
   "cell_type": "markdown",
   "id": "5b7c71fe",
   "metadata": {},
   "source": [
    "Ya recodificada, definimos los datos que vamos a usar para este modelo."
   ]
  },
  {
   "cell_type": "code",
   "execution_count": 120,
   "id": "646b5153",
   "metadata": {},
   "outputs": [],
   "source": [
    "X=df.loc[:,['Geography_Num', 'Age_Recode', 'NumOfProducts', 'Gender_Num', 'IsActiveMember', 'Balance_Recode']].values\n",
    "y=df['Churn'].values"
   ]
  },
  {
   "cell_type": "code",
   "execution_count": 121,
   "id": "8681615d",
   "metadata": {},
   "outputs": [],
   "source": [
    "X_train, X_test, y_train, y_test = train_test_split(X, y, test_size=0.2)"
   ]
  },
  {
   "cell_type": "markdown",
   "id": "9250bdf4",
   "metadata": {},
   "source": [
    "Construimos el modelo de regresión logística para el nuevo grupo de variables."
   ]
  },
  {
   "cell_type": "code",
   "execution_count": 122,
   "id": "2e1a946e",
   "metadata": {},
   "outputs": [],
   "source": [
    "#defino el algoritmo a utilizar\n",
    "algoritmo = LogisticRegression(class_weight = \"balanced\")\n",
    "#Entreno el modelo\n",
    "algoritmo.fit(X_train, y_train)\n",
    "#realizo una prediccion\n",
    "y_pred = algoritmo.predict(X_test)"
   ]
  },
  {
   "cell_type": "code",
   "execution_count": 123,
   "id": "285cf842",
   "metadata": {},
   "outputs": [
    {
     "name": "stdout",
     "output_type": "stream",
     "text": [
      "Coeficientes:  [[ 0.07441227  1.22568191 -0.01046622 -0.51034426 -0.85361686  0.26787259]]\n",
      "Término independiente:  [-2.46877909]\n"
     ]
    }
   ],
   "source": [
    "print('Coeficientes: ', algoritmo.coef_)\n",
    "print('Término independiente: ', algoritmo.intercept_)"
   ]
  },
  {
   "cell_type": "markdown",
   "id": "1cf1b455",
   "metadata": {},
   "source": [
    "Obtenemos los coeficientes de la recta. Todas tienen una relacion directa excepto 'NumOfProducts', 'Gender_num' y 'IsActiveMember'.\n",
    "\n",
    "Además, el término independiente para este modelo es negativo.\n",
    "\n",
    "Podemos ver que la variable con más importancia en este modelo es 'Age_Recode' como en el modelo anterior.\n",
    "\n",
    "Ahora analizaremos la matriz de confusión, la precisión, la exactitud, la sensibilidad y el puntaje F1 de este modelo."
   ]
  },
  {
   "cell_type": "code",
   "execution_count": 124,
   "id": "5d5a93eb",
   "metadata": {},
   "outputs": [
    {
     "name": "stdout",
     "output_type": "stream",
     "text": [
      "Matriz de Confusión:\n",
      "[[1138  449]\n",
      " [ 146  267]]\n"
     ]
    }
   ],
   "source": [
    "matriz = confusion_matrix(y_test, y_pred)\n",
    "print('Matriz de Confusión:')\n",
    "print(matriz)"
   ]
  },
  {
   "cell_type": "code",
   "execution_count": 125,
   "id": "65b36aa3",
   "metadata": {},
   "outputs": [
    {
     "name": "stdout",
     "output_type": "stream",
     "text": [
      "Precisión del modelo:\n",
      "0.3729050279329609\n"
     ]
    }
   ],
   "source": [
    "#calculo la precision del modelo\n",
    "precision = precision_score(y_test, y_pred)\n",
    "\n",
    "print('Precisión del modelo:')\n",
    "print(precision)"
   ]
  },
  {
   "cell_type": "code",
   "execution_count": 126,
   "id": "ad228a0a",
   "metadata": {},
   "outputs": [
    {
     "name": "stdout",
     "output_type": "stream",
     "text": [
      "Exactitud del modelo:\n",
      "0.7025\n"
     ]
    }
   ],
   "source": [
    "#Calculo la exactitud del modelo\n",
    "exactitud = accuracy_score(y_test, y_pred)\n",
    "\n",
    "print('Exactitud del modelo:')\n",
    "print(exactitud)"
   ]
  },
  {
   "cell_type": "code",
   "execution_count": 127,
   "id": "8ac4ed47",
   "metadata": {},
   "outputs": [
    {
     "name": "stdout",
     "output_type": "stream",
     "text": [
      "Sensibilidad del modelo:\n",
      "0.6464891041162227\n"
     ]
    }
   ],
   "source": [
    "#Calculo la sensibilidad del modelo\n",
    "sensibilidad = recall_score(y_test, y_pred)\n",
    "\n",
    "print('Sensibilidad del modelo:')\n",
    "print(sensibilidad)"
   ]
  },
  {
   "cell_type": "code",
   "execution_count": 128,
   "id": "b6891b4d",
   "metadata": {},
   "outputs": [
    {
     "name": "stdout",
     "output_type": "stream",
     "text": [
      "Puntaje F1 del modelo:\n",
      "0.4729849424269264\n"
     ]
    }
   ],
   "source": [
    "#Calculo el Puntaje F1 del modelo\n",
    "puntajef1 = f1_score(y_test, y_pred)\n",
    "\n",
    "print('Puntaje F1 del modelo:')\n",
    "print(puntajef1)"
   ]
  },
  {
   "cell_type": "markdown",
   "id": "06a62e4b",
   "metadata": {},
   "source": [
    "Recopilamos los datos para este modelo y analizamos"
   ]
  },
  {
   "cell_type": "code",
   "execution_count": 129,
   "id": "17e3cd83",
   "metadata": {},
   "outputs": [
    {
     "name": "stdout",
     "output_type": "stream",
     "text": [
      "Matriz de Confusión:\n",
      "[[1138  449]\n",
      " [ 146  267]]\n",
      "Precisión del modelo: 0.3729050279329609\n",
      "Exactitud del modelo: 0.7025\n",
      "Sensibilidad del modelo: 0.6464891041162227\n",
      "Puntaje F1 del modelo: 0.4729849424269264\n"
     ]
    }
   ],
   "source": [
    "print('Matriz de Confusión:')\n",
    "print(matriz)\n",
    "print('Precisión del modelo:', precision)\n",
    "print('Exactitud del modelo:', exactitud)\n",
    "print('Sensibilidad del modelo:', sensibilidad)\n",
    "print('Puntaje F1 del modelo:', puntajef1)"
   ]
  },
  {
   "cell_type": "markdown",
   "id": "73ffa10c",
   "metadata": {},
   "source": [
    "Analizando estos resultados con respecto al modelo anterior, tenemos que la matriz de confusion del segundo modelo da más datos predichos incorrectamente. En este modelo en total son 605. \n",
    "\n",
    "Respecto a la precisión del modelo, la exactitud y el puntaje F1, el segundo modelo tiene una precisión, una exactitud y un puntaje F1 un poco más baja que el anterior. \n",
    "\n",
    "Sin embargo, la sensibilidad  de este modelo es mas alta que en modelo anterior. "
   ]
  },
  {
   "cell_type": "markdown",
   "id": "f133aa92",
   "metadata": {},
   "source": [
    "#### 2.3 Modelo con todas las variables"
   ]
  },
  {
   "cell_type": "markdown",
   "id": "26d3a577",
   "metadata": {},
   "source": [
    "Finalmente, vamos a analizar un modelo con todas las variables, a ver si conseguimos que nuestro modelo mejore en todos los aspectos. "
   ]
  },
  {
   "cell_type": "code",
   "execution_count": 130,
   "id": "d0c24f7f",
   "metadata": {},
   "outputs": [],
   "source": [
    "X=df.loc[:,['CreditScore', 'Tenure', 'Balance', 'NumOfProducts', 'HasCrCard', 'IsActiveMember', 'Age_Recode', \n",
    "         'Geography_Num', 'Gender_Num']].values\n",
    "y=df['Churn'].values"
   ]
  },
  {
   "cell_type": "code",
   "execution_count": 131,
   "id": "73a0af45",
   "metadata": {},
   "outputs": [],
   "source": [
    "X_train, X_test, y_train, y_test = train_test_split(X, y, test_size=0.2)"
   ]
  },
  {
   "cell_type": "markdown",
   "id": "ad4cbdb6",
   "metadata": {},
   "source": [
    "Construimos el modelo de regresión logística para el nuevo grupo de variables."
   ]
  },
  {
   "cell_type": "code",
   "execution_count": 132,
   "id": "b76c4d44",
   "metadata": {},
   "outputs": [],
   "source": [
    "#defino el algoritmo a utilizar\n",
    "algoritmo = LogisticRegression(class_weight = \"balanced\")\n",
    "#Entreno el modelo\n",
    "algoritmo.fit(X_train, y_train)\n",
    "#realizo una prediccion\n",
    "y_pred = algoritmo.predict(X_test)"
   ]
  },
  {
   "cell_type": "code",
   "execution_count": 133,
   "id": "bb5a30d8",
   "metadata": {},
   "outputs": [
    {
     "name": "stdout",
     "output_type": "stream",
     "text": [
      "Coeficientes:  [[-6.35956317e-04 -5.26481832e-06  5.05029934e-06 -1.83428746e-06\n",
      "  -7.16311025e-07 -1.67835779e-06  4.22745409e-07 -1.08060710e-06\n",
      "  -2.23242932e-06]]\n",
      "Término independiente:  [-9.25383096e-07]\n"
     ]
    }
   ],
   "source": [
    "print('Coeficientes: ', algoritmo.coef_)\n",
    "print('Término independiente: ', algoritmo.intercept_)"
   ]
  },
  {
   "cell_type": "markdown",
   "id": "da372009",
   "metadata": {},
   "source": [
    "Ahora analizaremos la matriz de confusión, la precisión, la exactitud, la sensibilidad y el puntaje F1 de este modelo."
   ]
  },
  {
   "cell_type": "code",
   "execution_count": 134,
   "id": "62effe3f",
   "metadata": {},
   "outputs": [
    {
     "name": "stdout",
     "output_type": "stream",
     "text": [
      "Matriz de Confusión:\n",
      "[[726 859]\n",
      " [133 282]]\n"
     ]
    }
   ],
   "source": [
    "#Verifico la matriz de confusion\n",
    "matriz = confusion_matrix(y_test, y_pred)\n",
    "\n",
    "print('Matriz de Confusión:')\n",
    "print(matriz)"
   ]
  },
  {
   "cell_type": "code",
   "execution_count": 135,
   "id": "723abd8f",
   "metadata": {},
   "outputs": [
    {
     "name": "stdout",
     "output_type": "stream",
     "text": [
      "Precisión del modelo:\n",
      "0.24715162138475022\n",
      "Exactitud del modelo:\n",
      "0.504\n",
      "Sensibilidad del modelo:\n",
      "0.6795180722891566\n",
      "Puntaje F1 del modelo:\n",
      "0.3624678663239075\n"
     ]
    }
   ],
   "source": [
    "#calculo la precision del modelo\n",
    "precision = precision_score(y_test, y_pred)\n",
    "\n",
    "print('Precisión del modelo:')\n",
    "print(precision)\n",
    "\n",
    "#Calculo la exactitud del modelo\n",
    "exactitud = accuracy_score(y_test, y_pred)\n",
    "\n",
    "print('Exactitud del modelo:')\n",
    "print(exactitud)\n",
    "\n",
    "#Calculo la sensibilidad del modelo\n",
    "sensibilidad = recall_score(y_test, y_pred)\n",
    "\n",
    "print('Sensibilidad del modelo:')\n",
    "print(sensibilidad)\n",
    "\n",
    "#Calculo el Puntaje F1 del modelo\n",
    "puntajef1 = f1_score(y_test, y_pred)\n",
    "\n",
    "print('Puntaje F1 del modelo:')\n",
    "print(puntajef1)"
   ]
  },
  {
   "cell_type": "markdown",
   "id": "49858bc9",
   "metadata": {},
   "source": [
    "Analizando todos los resultados obtenidos en este modelo, vemos que los datos clasificados erroneamente en la matriz de confusión se elevan bastante respecto a los otros dos modelos. En este último modelo, la precisión es bastante más baja que en los otros dos. Sin embargo, la sensibilidad se eleva un poco respecto al primer modelo. Y por último, la precisión y el puntaje es mas bajo que en los otros dos modelos.\n",
    "\n",
    "En conclusión, haremos cross validation sobre el primer modelo ya que nos da la mayor precision y exactitud que el resto de modelos. A parte de esto, es el modelo que menor numero de datos clasificados erroneamente tiene."
   ]
  },
  {
   "cell_type": "markdown",
   "id": "12a843a2",
   "metadata": {},
   "source": [
    "### 2.4 Validación del modelo"
   ]
  },
  {
   "cell_type": "markdown",
   "id": "a318e6e1",
   "metadata": {},
   "source": [
    "Este es el modelo en el que se realizara el método de cross validation."
   ]
  },
  {
   "cell_type": "code",
   "execution_count": 136,
   "id": "dc3e61b0",
   "metadata": {},
   "outputs": [],
   "source": [
    "X=df.loc[:,['Geography_Num','Age_Recode','NumOfProducts']].values\n",
    "y=df['Churn'].values"
   ]
  },
  {
   "cell_type": "code",
   "execution_count": 137,
   "id": "78de059c",
   "metadata": {},
   "outputs": [],
   "source": [
    "X_train, X_test, y_train, y_test = train_test_split(X, y, test_size=0.2)\n",
    "\n",
    "#defino el algoritmo a utilizar\n",
    "algoritmo = LogisticRegression(class_weight = \"balanced\")\n",
    "#Entreno el modelo\n",
    "algoritmo.fit(X_train, y_train)\n",
    "#realizo una prediccion\n",
    "y_pred = algoritmo.predict(X_test)"
   ]
  },
  {
   "cell_type": "code",
   "execution_count": 138,
   "id": "c45c188c",
   "metadata": {},
   "outputs": [],
   "source": [
    "#Barajeamos los datos\n",
    "X, y = shuffle(X, y, random_state=0)"
   ]
  },
  {
   "cell_type": "markdown",
   "id": "18f23979",
   "metadata": {},
   "source": [
    "De nuevo utilizamos las mismas métricas que en el modelo anterior:"
   ]
  },
  {
   "cell_type": "code",
   "execution_count": 139,
   "id": "5677ed75",
   "metadata": {},
   "outputs": [],
   "source": [
    "reg = LogisticRegression()\n",
    "\n",
    "scoring = ['balanced_accuracy', 'neg_mean_absolute_error']\n",
    "cv = cross_validate(algoritmo, X, y, cv=5, scoring=scoring)"
   ]
  },
  {
   "cell_type": "code",
   "execution_count": 140,
   "id": "750e19dc",
   "metadata": {},
   "outputs": [
    {
     "data": {
      "text/plain": [
       "{'fit_time': array([0.0149591 , 0.00997353, 0.01097345, 0.01296544, 0.01894951]),\n",
       " 'score_time': array([0.00199485, 0.00398898, 0.00298953, 0.00398922, 0.00398922]),\n",
       " 'test_balanced_accuracy': array([0.69106626, 0.66343848, 0.6801717 , 0.66890827, 0.67085427]),\n",
       " 'test_neg_mean_absolute_error': array([-0.2255, -0.236 , -0.221 , -0.234 , -0.228 ])}"
      ]
     },
     "execution_count": 140,
     "metadata": {},
     "output_type": "execute_result"
    }
   ],
   "source": [
    "cv"
   ]
  },
  {
   "cell_type": "markdown",
   "id": "d6472d4d",
   "metadata": {},
   "source": [
    "Media de las medidas de precisión."
   ]
  },
  {
   "cell_type": "code",
   "execution_count": 141,
   "id": "bfd95fc0",
   "metadata": {},
   "outputs": [
    {
     "name": "stdout",
     "output_type": "stream",
     "text": [
      "0.6748877942325238\n"
     ]
    },
    {
     "data": {
      "text/plain": [
       "0.22890000000000002"
      ]
     },
     "execution_count": 141,
     "metadata": {},
     "output_type": "execute_result"
    }
   ],
   "source": [
    "print(cv['test_balanced_accuracy'].mean())\n",
    "\n",
    "#Como el argumento es scoring, las métricas aparecen con el convenio de que cuanto más positiva, mejor.\n",
    "#Por eso el MAE (cuanto más bajo, mejor, porque es un 'error') viene con signo opuesto (_neg_), \n",
    "#así que nosotros le cambiamos el signo.\n",
    "MAE = - np.mean(cv['test_neg_mean_absolute_error'])\n",
    "MAE"
   ]
  },
  {
   "cell_type": "markdown",
   "id": "868af285",
   "metadata": {},
   "source": [
    "### 3. Naive-Bayes"
   ]
  },
  {
   "cell_type": "code",
   "execution_count": 142,
   "id": "804b83a7",
   "metadata": {},
   "outputs": [],
   "source": [
    "#Importamos las librerias necesarias para poder trabajar este modelo\n",
    "from sklearn.naive_bayes import GaussianNB, BernoulliNB, CategoricalNB, MultinomialNB"
   ]
  },
  {
   "cell_type": "markdown",
   "id": "662e9073",
   "metadata": {},
   "source": [
    "A la hora de trabajar en Naive bayes dependeremos de los datos, para ello tenemos aquí en que casos debemos usar cada una de las 4 importaciones dadas anteriormente:\n",
    "* Si son **features continuas**: usaremos una Gaussiana: ```GaussianNB```\n",
    "\n",
    "* Si son **features categóricas binarias**: usaremos una Bernoulli: ```BernoulliNB```\n",
    "\n",
    "* Si son **features categóricas con más de dos clases**: usaremos una Categórica: ```CategoricalNB```\n",
    "\n",
    "* Si son **features de datos de conteo**: usaremos una Multinomial: ```MultinomialNB```"
   ]
  },
  {
   "cell_type": "markdown",
   "id": "343bad33",
   "metadata": {},
   "source": [
    "Probaremos 3 tipos de modelos:"
   ]
  },
  {
   "cell_type": "markdown",
   "id": "385b833f",
   "metadata": {},
   "source": [
    "#### 3.1 Modelo con 'Geography', 'Age_Recode'y 'NumOfProducts'"
   ]
  },
  {
   "cell_type": "code",
   "execution_count": 143,
   "id": "2279dd59",
   "metadata": {},
   "outputs": [
    {
     "data": {
      "text/plain": [
       "0    7963\n",
       "1    2037\n",
       "Name: Churn, dtype: int64"
      ]
     },
     "execution_count": 143,
     "metadata": {},
     "output_type": "execute_result"
    }
   ],
   "source": [
    "#Primero que debemos observar que el conjunto está o no desbalanceado\n",
    "df['Churn'].value_counts()"
   ]
  },
  {
   "cell_type": "code",
   "execution_count": 144,
   "id": "bf011d52",
   "metadata": {},
   "outputs": [
    {
     "data": {
      "text/plain": [
       "France     5014\n",
       "Germany    2509\n",
       "Spain      2477\n",
       "Name: Geography, dtype: int64"
      ]
     },
     "execution_count": 144,
     "metadata": {},
     "output_type": "execute_result"
    }
   ],
   "source": [
    "df['Geography'].value_counts()"
   ]
  },
  {
   "cell_type": "code",
   "execution_count": 145,
   "id": "ea722d50",
   "metadata": {},
   "outputs": [
    {
     "data": {
      "text/plain": [
       "2    7049\n",
       "3    1981\n",
       "1     611\n",
       "4     359\n",
       "Name: Age_Recode, dtype: int64"
      ]
     },
     "execution_count": 145,
     "metadata": {},
     "output_type": "execute_result"
    }
   ],
   "source": [
    "df['Age_Recode'].value_counts()"
   ]
  },
  {
   "cell_type": "code",
   "execution_count": 146,
   "id": "af8c92cc",
   "metadata": {},
   "outputs": [
    {
     "data": {
      "text/plain": [
       "1    5084\n",
       "2    4590\n",
       "3     266\n",
       "4      60\n",
       "Name: NumOfProducts, dtype: int64"
      ]
     },
     "execution_count": 146,
     "metadata": {},
     "output_type": "execute_result"
    }
   ],
   "source": [
    "df['NumOfProducts'].value_counts()"
   ]
  },
  {
   "cell_type": "markdown",
   "id": "9b96d536",
   "metadata": {},
   "source": [
    "Claramente se trata de un conjunto demasiado desbalanceado, para ello vamos a comenzar el estudio.\n",
    "Analizaremos dos tipos de estudio.\n",
    "\n",
    "* Sin Ajustar los datos de desbalanceamiento.\n",
    "\n",
    "* Ajustando los datos de desbalanceamiento aplicando técnicas como oversampling o undersampling.\n"
   ]
  },
  {
   "cell_type": "markdown",
   "id": "23901f52",
   "metadata": {},
   "source": [
    "#### Sin ajustar los datos"
   ]
  },
  {
   "cell_type": "code",
   "execution_count": 147,
   "id": "e0b6c7cd",
   "metadata": {},
   "outputs": [
    {
     "data": {
      "text/html": [
       "<div>\n",
       "<style scoped>\n",
       "    .dataframe tbody tr th:only-of-type {\n",
       "        vertical-align: middle;\n",
       "    }\n",
       "\n",
       "    .dataframe tbody tr th {\n",
       "        vertical-align: top;\n",
       "    }\n",
       "\n",
       "    .dataframe thead th {\n",
       "        text-align: right;\n",
       "    }\n",
       "</style>\n",
       "<table border=\"1\" class=\"dataframe\">\n",
       "  <thead>\n",
       "    <tr style=\"text-align: right;\">\n",
       "      <th></th>\n",
       "      <th>CreditScore</th>\n",
       "      <th>Geography</th>\n",
       "      <th>Gender</th>\n",
       "      <th>Age</th>\n",
       "      <th>Tenure</th>\n",
       "      <th>Balance</th>\n",
       "      <th>NumOfProducts</th>\n",
       "      <th>HasCrCard</th>\n",
       "      <th>IsActiveMember</th>\n",
       "      <th>Churn</th>\n",
       "      <th>CreditScore_Recode</th>\n",
       "      <th>Age_Recode</th>\n",
       "      <th>Balance_Recode</th>\n",
       "      <th>Geography_Num</th>\n",
       "      <th>Gender_Num</th>\n",
       "    </tr>\n",
       "  </thead>\n",
       "  <tbody>\n",
       "    <tr>\n",
       "      <th>0</th>\n",
       "      <td>619</td>\n",
       "      <td>France</td>\n",
       "      <td>Female</td>\n",
       "      <td>42</td>\n",
       "      <td>2</td>\n",
       "      <td>0.00</td>\n",
       "      <td>1</td>\n",
       "      <td>1</td>\n",
       "      <td>1</td>\n",
       "      <td>1</td>\n",
       "      <td>2</td>\n",
       "      <td>2</td>\n",
       "      <td>1.0</td>\n",
       "      <td>1</td>\n",
       "      <td>1</td>\n",
       "    </tr>\n",
       "    <tr>\n",
       "      <th>1</th>\n",
       "      <td>608</td>\n",
       "      <td>Spain</td>\n",
       "      <td>Female</td>\n",
       "      <td>41</td>\n",
       "      <td>1</td>\n",
       "      <td>83807.86</td>\n",
       "      <td>1</td>\n",
       "      <td>0</td>\n",
       "      <td>1</td>\n",
       "      <td>0</td>\n",
       "      <td>2</td>\n",
       "      <td>2</td>\n",
       "      <td>2.0</td>\n",
       "      <td>3</td>\n",
       "      <td>1</td>\n",
       "    </tr>\n",
       "    <tr>\n",
       "      <th>2</th>\n",
       "      <td>502</td>\n",
       "      <td>France</td>\n",
       "      <td>Female</td>\n",
       "      <td>42</td>\n",
       "      <td>8</td>\n",
       "      <td>159660.80</td>\n",
       "      <td>3</td>\n",
       "      <td>1</td>\n",
       "      <td>0</td>\n",
       "      <td>1</td>\n",
       "      <td>1</td>\n",
       "      <td>2</td>\n",
       "      <td>4.0</td>\n",
       "      <td>1</td>\n",
       "      <td>1</td>\n",
       "    </tr>\n",
       "    <tr>\n",
       "      <th>3</th>\n",
       "      <td>699</td>\n",
       "      <td>France</td>\n",
       "      <td>Female</td>\n",
       "      <td>39</td>\n",
       "      <td>1</td>\n",
       "      <td>0.00</td>\n",
       "      <td>2</td>\n",
       "      <td>0</td>\n",
       "      <td>0</td>\n",
       "      <td>0</td>\n",
       "      <td>3</td>\n",
       "      <td>2</td>\n",
       "      <td>1.0</td>\n",
       "      <td>1</td>\n",
       "      <td>1</td>\n",
       "    </tr>\n",
       "    <tr>\n",
       "      <th>4</th>\n",
       "      <td>850</td>\n",
       "      <td>Spain</td>\n",
       "      <td>Female</td>\n",
       "      <td>43</td>\n",
       "      <td>2</td>\n",
       "      <td>125510.82</td>\n",
       "      <td>1</td>\n",
       "      <td>1</td>\n",
       "      <td>1</td>\n",
       "      <td>0</td>\n",
       "      <td>4</td>\n",
       "      <td>2</td>\n",
       "      <td>3.0</td>\n",
       "      <td>3</td>\n",
       "      <td>1</td>\n",
       "    </tr>\n",
       "    <tr>\n",
       "      <th>5</th>\n",
       "      <td>645</td>\n",
       "      <td>Spain</td>\n",
       "      <td>Male</td>\n",
       "      <td>44</td>\n",
       "      <td>8</td>\n",
       "      <td>113755.78</td>\n",
       "      <td>2</td>\n",
       "      <td>1</td>\n",
       "      <td>0</td>\n",
       "      <td>1</td>\n",
       "      <td>2</td>\n",
       "      <td>2</td>\n",
       "      <td>3.0</td>\n",
       "      <td>3</td>\n",
       "      <td>2</td>\n",
       "    </tr>\n",
       "    <tr>\n",
       "      <th>6</th>\n",
       "      <td>822</td>\n",
       "      <td>France</td>\n",
       "      <td>Male</td>\n",
       "      <td>50</td>\n",
       "      <td>7</td>\n",
       "      <td>0.00</td>\n",
       "      <td>2</td>\n",
       "      <td>1</td>\n",
       "      <td>1</td>\n",
       "      <td>0</td>\n",
       "      <td>4</td>\n",
       "      <td>3</td>\n",
       "      <td>1.0</td>\n",
       "      <td>1</td>\n",
       "      <td>2</td>\n",
       "    </tr>\n",
       "    <tr>\n",
       "      <th>7</th>\n",
       "      <td>376</td>\n",
       "      <td>Germany</td>\n",
       "      <td>Female</td>\n",
       "      <td>29</td>\n",
       "      <td>4</td>\n",
       "      <td>115046.74</td>\n",
       "      <td>4</td>\n",
       "      <td>1</td>\n",
       "      <td>0</td>\n",
       "      <td>1</td>\n",
       "      <td>1</td>\n",
       "      <td>2</td>\n",
       "      <td>3.0</td>\n",
       "      <td>2</td>\n",
       "      <td>1</td>\n",
       "    </tr>\n",
       "    <tr>\n",
       "      <th>8</th>\n",
       "      <td>501</td>\n",
       "      <td>France</td>\n",
       "      <td>Male</td>\n",
       "      <td>44</td>\n",
       "      <td>4</td>\n",
       "      <td>142051.07</td>\n",
       "      <td>2</td>\n",
       "      <td>0</td>\n",
       "      <td>1</td>\n",
       "      <td>0</td>\n",
       "      <td>1</td>\n",
       "      <td>2</td>\n",
       "      <td>4.0</td>\n",
       "      <td>1</td>\n",
       "      <td>2</td>\n",
       "    </tr>\n",
       "    <tr>\n",
       "      <th>9</th>\n",
       "      <td>684</td>\n",
       "      <td>France</td>\n",
       "      <td>Male</td>\n",
       "      <td>27</td>\n",
       "      <td>2</td>\n",
       "      <td>134603.88</td>\n",
       "      <td>1</td>\n",
       "      <td>1</td>\n",
       "      <td>1</td>\n",
       "      <td>0</td>\n",
       "      <td>3</td>\n",
       "      <td>2</td>\n",
       "      <td>4.0</td>\n",
       "      <td>1</td>\n",
       "      <td>2</td>\n",
       "    </tr>\n",
       "  </tbody>\n",
       "</table>\n",
       "</div>"
      ],
      "text/plain": [
       "   CreditScore Geography  Gender  Age  Tenure    Balance  NumOfProducts  \\\n",
       "0          619    France  Female   42       2       0.00              1   \n",
       "1          608     Spain  Female   41       1   83807.86              1   \n",
       "2          502    France  Female   42       8  159660.80              3   \n",
       "3          699    France  Female   39       1       0.00              2   \n",
       "4          850     Spain  Female   43       2  125510.82              1   \n",
       "5          645     Spain    Male   44       8  113755.78              2   \n",
       "6          822    France    Male   50       7       0.00              2   \n",
       "7          376   Germany  Female   29       4  115046.74              4   \n",
       "8          501    France    Male   44       4  142051.07              2   \n",
       "9          684    France    Male   27       2  134603.88              1   \n",
       "\n",
       "   HasCrCard  IsActiveMember  Churn CreditScore_Recode Age_Recode  \\\n",
       "0          1               1      1                  2          2   \n",
       "1          0               1      0                  2          2   \n",
       "2          1               0      1                  1          2   \n",
       "3          0               0      0                  3          2   \n",
       "4          1               1      0                  4          2   \n",
       "5          1               0      1                  2          2   \n",
       "6          1               1      0                  4          3   \n",
       "7          1               0      1                  1          2   \n",
       "8          0               1      0                  1          2   \n",
       "9          1               1      0                  3          2   \n",
       "\n",
       "   Balance_Recode  Geography_Num  Gender_Num  \n",
       "0             1.0              1           1  \n",
       "1             2.0              3           1  \n",
       "2             4.0              1           1  \n",
       "3             1.0              1           1  \n",
       "4             3.0              3           1  \n",
       "5             3.0              3           2  \n",
       "6             1.0              1           2  \n",
       "7             3.0              2           1  \n",
       "8             4.0              1           2  \n",
       "9             4.0              1           2  "
      ]
     },
     "execution_count": 147,
     "metadata": {},
     "output_type": "execute_result"
    }
   ],
   "source": [
    "X1 = df.loc[:, 'Geography'].values\n",
    "\n",
    "enc = LabelEncoder()\n",
    "label_encoder = enc.fit(X1)\n",
    "X1 = label_encoder.transform(X1)+1\n",
    "\n",
    "df['Geography_Num']=X1\n",
    "df.head(10)"
   ]
  },
  {
   "cell_type": "code",
   "execution_count": 148,
   "id": "e119287e",
   "metadata": {},
   "outputs": [],
   "source": [
    "from sklearn.feature_extraction.text import CountVectorizer"
   ]
  },
  {
   "cell_type": "code",
   "execution_count": 149,
   "id": "74750582",
   "metadata": {},
   "outputs": [],
   "source": [
    "X = df.loc[:,['Geography_Num', 'Age_Recode', 'NumOfProducts']].values\n",
    "y = df['Churn'].values\n",
    "X_train, X_test, y_train, y_test = train_test_split(X, y, test_size=0.25, random_state=1)\n",
    "model = CategoricalNB()\n",
    "y_pred =model.fit(X_train, y_train).predict(X_test)"
   ]
  },
  {
   "cell_type": "code",
   "execution_count": 150,
   "id": "baa3f4aa",
   "metadata": {},
   "outputs": [
    {
     "name": "stdout",
     "output_type": "stream",
     "text": [
      "Tasa de acierto:  0.8424\n"
     ]
    }
   ],
   "source": [
    "from sklearn.metrics import accuracy_score, confusion_matrix\n",
    "\n",
    "print('Tasa de acierto: ', accuracy_score(y_pred, y_test))"
   ]
  },
  {
   "cell_type": "markdown",
   "id": "f8c46f5f",
   "metadata": {},
   "source": [
    "la Exactitud es la cantidad de predicciones positivas que fueron correctas, en nuestro caso es del 84% está bastante bien.\n",
    "Para datasets ya desbalanceados, es más informativo poner la matriz de confusión, o calcular la tasa de falsos positivos o falsos negativos"
   ]
  },
  {
   "cell_type": "code",
   "execution_count": 151,
   "id": "d88b8719",
   "metadata": {},
   "outputs": [
    {
     "data": {
      "image/png": "[encoded data removed]",
      "text/plain": [
       "<Figure size 432x288 with 2 Axes>"
      ]
     },
     "metadata": {
      "needs_background": "light"
     },
     "output_type": "display_data"
    }
   ],
   "source": [
    "sns.heatmap(confusion_matrix(y_test, y_pred), annot=True)\n",
    "sns.set(style=\"ticks\")"
   ]
  },
  {
   "cell_type": "markdown",
   "id": "5b81b37f",
   "metadata": {},
   "source": [
    "Claramente, podemos notar un claro balanceado de los datos, con los falsos negativos, los cuales hay más respcto a verdaderos negativos."
   ]
  },
  {
   "cell_type": "code",
   "execution_count": 152,
   "id": "c1bbfc74",
   "metadata": {},
   "outputs": [
    {
     "name": "stdout",
     "output_type": "stream",
     "text": [
      "              precision    recall  f1-score   support\n",
      "\n",
      "           0       0.88      0.93      0.90      1980\n",
      "           1       0.66      0.49      0.57       520\n",
      "\n",
      "    accuracy                           0.84      2500\n",
      "   macro avg       0.77      0.71      0.73      2500\n",
      "weighted avg       0.83      0.84      0.83      2500\n",
      "\n"
     ]
    }
   ],
   "source": [
    "from sklearn.metrics import classification_report\n",
    "\n",
    "print(classification_report(y_test, y_pred))"
   ]
  },
  {
   "cell_type": "markdown",
   "id": "1e521e6b",
   "metadata": {},
   "source": [
    "Podemos observar que el modelo tiene la clase 1 una precisión, es decir la dispersión del conjunto de valores obtenidos a partir de mediciones repetidas de una magnitud (Cuanto menor es la dispersión mayor la precisión) es del 88% y un nivel de sensibilidad, es decir la proporción de casos positivos que fueron correctamente identificadas por el algoritmo es del 93%, lo cual nos indica que el modelo maneja perfectamente esta clase, no obstante la clase 2 presenta una baja precisión y un nivel bajo de recall, lo cual nos indica que El modelo no logra clasificar la clase correctamente."
   ]
  },
  {
   "cell_type": "markdown",
   "id": "c7556d94",
   "metadata": {},
   "source": [
    "#### Undersample"
   ]
  },
  {
   "cell_type": "markdown",
   "id": "dbac6068",
   "metadata": {},
   "source": [
    "Para instalar la librería 'imblearn', antes hay que ejecutar el siguiente código en el prompt de Anaconda (sin comillas):"
   ]
  },
  {
   "cell_type": "code",
   "execution_count": 211,
   "id": "b18cd62a",
   "metadata": {},
   "outputs": [
    {
     "data": {
      "text/plain": [
       "'conda install -c conda-forge imbalanced-learn'"
      ]
     },
     "execution_count": 211,
     "metadata": {},
     "output_type": "execute_result"
    }
   ],
   "source": [
    "\"conda install -c conda-forge imbalanced-learn\""
   ]
  },
  {
   "cell_type": "code",
   "execution_count": 156,
   "id": "5b8a6e5a",
   "metadata": {},
   "outputs": [],
   "source": [
    "import imblearn\n",
    "from imblearn.under_sampling import RandomUnderSampler"
   ]
  },
  {
   "cell_type": "code",
   "execution_count": 157,
   "id": "fe1acb35",
   "metadata": {},
   "outputs": [],
   "source": [
    "undersample = RandomUnderSampler(sampling_strategy=0.5)\n",
    "X = df.loc[:,['Geography_Num', 'Age_Recode', 'NumOfProducts']].values\n",
    "y = df['Churn'].values\n",
    "X_over, y_over = undersample.fit_resample(X, y)"
   ]
  },
  {
   "cell_type": "code",
   "execution_count": 158,
   "id": "f29dbfbb",
   "metadata": {},
   "outputs": [],
   "source": [
    "X_train, X_test, y_train, y_test = train_test_split(X_over, y_over, test_size=0.25, random_state=1)\n",
    "model = CategoricalNB()\n",
    "y_pred =model.fit(X_train, y_train).predict(X_test)"
   ]
  },
  {
   "cell_type": "code",
   "execution_count": 159,
   "id": "9bcee5c0",
   "metadata": {},
   "outputs": [
    {
     "name": "stdout",
     "output_type": "stream",
     "text": [
      "Tasa de acierto:  0.7964659685863874\n"
     ]
    }
   ],
   "source": [
    "print('Tasa de acierto: ', accuracy_score(y_pred, y_test))"
   ]
  },
  {
   "cell_type": "markdown",
   "id": "16cf38da",
   "metadata": {},
   "source": [
    "Aplicando la técnica undersample, nos damos cuenta que ha bajado un 5% con respecto al modelo sin desbalancear."
   ]
  },
  {
   "cell_type": "code",
   "execution_count": 160,
   "id": "8a9391f2",
   "metadata": {},
   "outputs": [
    {
     "data": {
      "image/png": "[encoded data removed]",
      "text/plain": [
       "<Figure size 432x288 with 2 Axes>"
      ]
     },
     "metadata": {},
     "output_type": "display_data"
    }
   ],
   "source": [
    "sns.heatmap(confusion_matrix(y_test, y_pred), annot=True)\n",
    "sns.set(style=\"ticks\")"
   ]
  },
  {
   "cell_type": "markdown",
   "id": "a6dc8b53",
   "metadata": {},
   "source": [
    "Podemos notar una mejora clasificatoria respecto a los falsos positivos, que han sido clasificado mejor, pero los falsos negativos, aún siguen siendo mayores."
   ]
  },
  {
   "cell_type": "code",
   "execution_count": 161,
   "id": "55714201",
   "metadata": {},
   "outputs": [
    {
     "name": "stdout",
     "output_type": "stream",
     "text": [
      "              precision    recall  f1-score   support\n",
      "\n",
      "           0       0.81      0.91      0.86      1021\n",
      "           1       0.76      0.56      0.65       507\n",
      "\n",
      "    accuracy                           0.80      1528\n",
      "   macro avg       0.79      0.74      0.75      1528\n",
      "weighted avg       0.79      0.80      0.79      1528\n",
      "\n"
     ]
    }
   ],
   "source": [
    "print(classification_report(y_test, y_pred))"
   ]
  },
  {
   "cell_type": "markdown",
   "id": "63470a0d",
   "metadata": {},
   "source": [
    "Podemos observar que el modelo tiene la clase 1 una precisión del 81%, lo cual nos indica que su tratamiento ha sido peyorativo, respecto al modelo balanceado, en cambio el modelo 2 ha notado una mejora en precisión y en sensibilidad, aún así siguen siendo bajas."
   ]
  },
  {
   "cell_type": "markdown",
   "id": "fddb1ef3",
   "metadata": {},
   "source": [
    "#### Oversample"
   ]
  },
  {
   "cell_type": "code",
   "execution_count": 162,
   "id": "c6344ebb",
   "metadata": {},
   "outputs": [],
   "source": [
    "oversample = RandomOverSampler(sampling_strategy = 0.5)\n",
    "X = df.loc[:,['Geography_Num', 'Age_Recode', 'NumOfProducts']].values\n",
    "y = df['Churn'].values\n",
    "X_over, y_over = oversample.fit_resample(X, y)"
   ]
  },
  {
   "cell_type": "code",
   "execution_count": 163,
   "id": "e2106bf5",
   "metadata": {},
   "outputs": [],
   "source": [
    "X_train, X_test, y_train, y_test = train_test_split(X_over, y_over, test_size=0.25, random_state=1)\n",
    "model = CategoricalNB()\n",
    "y_pred =model.fit(X_train, y_train).predict(X_test)"
   ]
  },
  {
   "cell_type": "code",
   "execution_count": 164,
   "id": "94104a72",
   "metadata": {},
   "outputs": [
    {
     "name": "stdout",
     "output_type": "stream",
     "text": [
      "Tasa de acierto:  0.7799732083054253\n"
     ]
    }
   ],
   "source": [
    "print('Tasa de acierto: ', accuracy_score(y_pred, y_test))"
   ]
  },
  {
   "cell_type": "markdown",
   "id": "5e028fb8",
   "metadata": {},
   "source": [
    "Aplicando la técnica oversample, nos damos cuenta que ha bajado un 7% con respecto al modelo sin desbalancear."
   ]
  },
  {
   "cell_type": "code",
   "execution_count": 165,
   "id": "b96777f4",
   "metadata": {},
   "outputs": [
    {
     "data": {
      "image/png": "[encoded data removed]",
      "text/plain": [
       "<Figure size 432x288 with 2 Axes>"
      ]
     },
     "metadata": {},
     "output_type": "display_data"
    }
   ],
   "source": [
    "sns.heatmap(confusion_matrix(y_test, y_pred), annot=True)\n",
    "sns.set(style=\"ticks\")"
   ]
  },
  {
   "cell_type": "markdown",
   "id": "8dee5f0f",
   "metadata": {},
   "source": [
    "Este modelo, tiene una peor clasificación de falsos positivos y falsos negativos con respecto a los otros casos."
   ]
  },
  {
   "cell_type": "code",
   "execution_count": 166,
   "id": "86422980",
   "metadata": {},
   "outputs": [
    {
     "name": "stdout",
     "output_type": "stream",
     "text": [
      "              precision    recall  f1-score   support\n",
      "\n",
      "           0       0.79      0.92      0.85      1989\n",
      "           1       0.76      0.50      0.60       997\n",
      "\n",
      "    accuracy                           0.78      2986\n",
      "   macro avg       0.77      0.71      0.73      2986\n",
      "weighted avg       0.78      0.78      0.77      2986\n",
      "\n"
     ]
    }
   ],
   "source": [
    "print(classification_report(y_test, y_pred))"
   ]
  },
  {
   "cell_type": "markdown",
   "id": "df261371",
   "metadata": {},
   "source": [
    "Podemos observar que el modelo tiene la clase 1 una precisión del 78% y su precisión ha bajado, lo cual nos indica que su tratamiento ha sido empeorar el modelo, respecto al modelo balanceado, en cambio el modelo 2 ha notado una mejora en precisión y en sensibilidad se ha mantenido estable, aún así siguen siendo bajas."
   ]
  },
  {
   "cell_type": "markdown",
   "id": "9688655e",
   "metadata": {},
   "source": [
    "### 3.2 Modelo con 'Gender', 'IsActiveMember' y 'Balance_Recode'"
   ]
  },
  {
   "cell_type": "code",
   "execution_count": 167,
   "id": "972b2b76",
   "metadata": {},
   "outputs": [
    {
     "data": {
      "text/plain": [
       "0    7963\n",
       "1    2037\n",
       "Name: Churn, dtype: int64"
      ]
     },
     "execution_count": 167,
     "metadata": {},
     "output_type": "execute_result"
    }
   ],
   "source": [
    "#Primero que debemos observar que el conjunto está o no desbalanceado\n",
    "df['Churn'].value_counts()"
   ]
  },
  {
   "cell_type": "code",
   "execution_count": 168,
   "id": "cc46cb5a",
   "metadata": {},
   "outputs": [
    {
     "data": {
      "text/plain": [
       "Male      5457\n",
       "Female    4543\n",
       "Name: Gender, dtype: int64"
      ]
     },
     "execution_count": 168,
     "metadata": {},
     "output_type": "execute_result"
    }
   ],
   "source": [
    "df['Gender'].value_counts()"
   ]
  },
  {
   "cell_type": "code",
   "execution_count": 169,
   "id": "b3a30d54",
   "metadata": {},
   "outputs": [
    {
     "data": {
      "text/plain": [
       "1    5151\n",
       "0    4849\n",
       "Name: IsActiveMember, dtype: int64"
      ]
     },
     "execution_count": 169,
     "metadata": {},
     "output_type": "execute_result"
    }
   ],
   "source": [
    "df['IsActiveMember'].value_counts()"
   ]
  },
  {
   "cell_type": "code",
   "execution_count": 170,
   "id": "6083c46a",
   "metadata": {},
   "outputs": [
    {
     "data": {
      "text/plain": [
       "1.0    3617\n",
       "4.0    2500\n",
       "3.0    2500\n",
       "2.0    1383\n",
       "Name: Balance_Recode, dtype: int64"
      ]
     },
     "execution_count": 170,
     "metadata": {},
     "output_type": "execute_result"
    }
   ],
   "source": [
    "df['Balance_Recode'].value_counts()"
   ]
  },
  {
   "cell_type": "markdown",
   "id": "e9688745",
   "metadata": {},
   "source": [
    "Claramente se trata de un conjunto demasiado desbalanceado, para ello vamos a comenzar el estudio.\n",
    "Analizaremos dos tipos de estudio.\n",
    "\n",
    "* Sin Ajustar los datos de desbalanceamiento.\n",
    "\n",
    "* Ajustando los datos de desbalanceamiento aplicando técnicas como oversampling o undersampling.\n"
   ]
  },
  {
   "cell_type": "code",
   "execution_count": 171,
   "id": "bdcbe382",
   "metadata": {},
   "outputs": [
    {
     "data": {
      "text/html": [
       "<div>\n",
       "<style scoped>\n",
       "    .dataframe tbody tr th:only-of-type {\n",
       "        vertical-align: middle;\n",
       "    }\n",
       "\n",
       "    .dataframe tbody tr th {\n",
       "        vertical-align: top;\n",
       "    }\n",
       "\n",
       "    .dataframe thead th {\n",
       "        text-align: right;\n",
       "    }\n",
       "</style>\n",
       "<table border=\"1\" class=\"dataframe\">\n",
       "  <thead>\n",
       "    <tr style=\"text-align: right;\">\n",
       "      <th></th>\n",
       "      <th>CreditScore</th>\n",
       "      <th>Geography</th>\n",
       "      <th>Gender</th>\n",
       "      <th>Age</th>\n",
       "      <th>Tenure</th>\n",
       "      <th>Balance</th>\n",
       "      <th>NumOfProducts</th>\n",
       "      <th>HasCrCard</th>\n",
       "      <th>IsActiveMember</th>\n",
       "      <th>Churn</th>\n",
       "      <th>CreditScore_Recode</th>\n",
       "      <th>Age_Recode</th>\n",
       "      <th>Balance_Recode</th>\n",
       "      <th>Geography_Num</th>\n",
       "      <th>Gender_Num</th>\n",
       "    </tr>\n",
       "  </thead>\n",
       "  <tbody>\n",
       "    <tr>\n",
       "      <th>0</th>\n",
       "      <td>619</td>\n",
       "      <td>France</td>\n",
       "      <td>Female</td>\n",
       "      <td>42</td>\n",
       "      <td>2</td>\n",
       "      <td>0.00</td>\n",
       "      <td>1</td>\n",
       "      <td>1</td>\n",
       "      <td>1</td>\n",
       "      <td>1</td>\n",
       "      <td>2</td>\n",
       "      <td>2</td>\n",
       "      <td>1.0</td>\n",
       "      <td>1</td>\n",
       "      <td>1</td>\n",
       "    </tr>\n",
       "    <tr>\n",
       "      <th>1</th>\n",
       "      <td>608</td>\n",
       "      <td>Spain</td>\n",
       "      <td>Female</td>\n",
       "      <td>41</td>\n",
       "      <td>1</td>\n",
       "      <td>83807.86</td>\n",
       "      <td>1</td>\n",
       "      <td>0</td>\n",
       "      <td>1</td>\n",
       "      <td>0</td>\n",
       "      <td>2</td>\n",
       "      <td>2</td>\n",
       "      <td>2.0</td>\n",
       "      <td>3</td>\n",
       "      <td>1</td>\n",
       "    </tr>\n",
       "    <tr>\n",
       "      <th>2</th>\n",
       "      <td>502</td>\n",
       "      <td>France</td>\n",
       "      <td>Female</td>\n",
       "      <td>42</td>\n",
       "      <td>8</td>\n",
       "      <td>159660.80</td>\n",
       "      <td>3</td>\n",
       "      <td>1</td>\n",
       "      <td>0</td>\n",
       "      <td>1</td>\n",
       "      <td>1</td>\n",
       "      <td>2</td>\n",
       "      <td>4.0</td>\n",
       "      <td>1</td>\n",
       "      <td>1</td>\n",
       "    </tr>\n",
       "    <tr>\n",
       "      <th>3</th>\n",
       "      <td>699</td>\n",
       "      <td>France</td>\n",
       "      <td>Female</td>\n",
       "      <td>39</td>\n",
       "      <td>1</td>\n",
       "      <td>0.00</td>\n",
       "      <td>2</td>\n",
       "      <td>0</td>\n",
       "      <td>0</td>\n",
       "      <td>0</td>\n",
       "      <td>3</td>\n",
       "      <td>2</td>\n",
       "      <td>1.0</td>\n",
       "      <td>1</td>\n",
       "      <td>1</td>\n",
       "    </tr>\n",
       "    <tr>\n",
       "      <th>4</th>\n",
       "      <td>850</td>\n",
       "      <td>Spain</td>\n",
       "      <td>Female</td>\n",
       "      <td>43</td>\n",
       "      <td>2</td>\n",
       "      <td>125510.82</td>\n",
       "      <td>1</td>\n",
       "      <td>1</td>\n",
       "      <td>1</td>\n",
       "      <td>0</td>\n",
       "      <td>4</td>\n",
       "      <td>2</td>\n",
       "      <td>3.0</td>\n",
       "      <td>3</td>\n",
       "      <td>1</td>\n",
       "    </tr>\n",
       "    <tr>\n",
       "      <th>5</th>\n",
       "      <td>645</td>\n",
       "      <td>Spain</td>\n",
       "      <td>Male</td>\n",
       "      <td>44</td>\n",
       "      <td>8</td>\n",
       "      <td>113755.78</td>\n",
       "      <td>2</td>\n",
       "      <td>1</td>\n",
       "      <td>0</td>\n",
       "      <td>1</td>\n",
       "      <td>2</td>\n",
       "      <td>2</td>\n",
       "      <td>3.0</td>\n",
       "      <td>3</td>\n",
       "      <td>2</td>\n",
       "    </tr>\n",
       "    <tr>\n",
       "      <th>6</th>\n",
       "      <td>822</td>\n",
       "      <td>France</td>\n",
       "      <td>Male</td>\n",
       "      <td>50</td>\n",
       "      <td>7</td>\n",
       "      <td>0.00</td>\n",
       "      <td>2</td>\n",
       "      <td>1</td>\n",
       "      <td>1</td>\n",
       "      <td>0</td>\n",
       "      <td>4</td>\n",
       "      <td>3</td>\n",
       "      <td>1.0</td>\n",
       "      <td>1</td>\n",
       "      <td>2</td>\n",
       "    </tr>\n",
       "    <tr>\n",
       "      <th>7</th>\n",
       "      <td>376</td>\n",
       "      <td>Germany</td>\n",
       "      <td>Female</td>\n",
       "      <td>29</td>\n",
       "      <td>4</td>\n",
       "      <td>115046.74</td>\n",
       "      <td>4</td>\n",
       "      <td>1</td>\n",
       "      <td>0</td>\n",
       "      <td>1</td>\n",
       "      <td>1</td>\n",
       "      <td>2</td>\n",
       "      <td>3.0</td>\n",
       "      <td>2</td>\n",
       "      <td>1</td>\n",
       "    </tr>\n",
       "    <tr>\n",
       "      <th>8</th>\n",
       "      <td>501</td>\n",
       "      <td>France</td>\n",
       "      <td>Male</td>\n",
       "      <td>44</td>\n",
       "      <td>4</td>\n",
       "      <td>142051.07</td>\n",
       "      <td>2</td>\n",
       "      <td>0</td>\n",
       "      <td>1</td>\n",
       "      <td>0</td>\n",
       "      <td>1</td>\n",
       "      <td>2</td>\n",
       "      <td>4.0</td>\n",
       "      <td>1</td>\n",
       "      <td>2</td>\n",
       "    </tr>\n",
       "    <tr>\n",
       "      <th>9</th>\n",
       "      <td>684</td>\n",
       "      <td>France</td>\n",
       "      <td>Male</td>\n",
       "      <td>27</td>\n",
       "      <td>2</td>\n",
       "      <td>134603.88</td>\n",
       "      <td>1</td>\n",
       "      <td>1</td>\n",
       "      <td>1</td>\n",
       "      <td>0</td>\n",
       "      <td>3</td>\n",
       "      <td>2</td>\n",
       "      <td>4.0</td>\n",
       "      <td>1</td>\n",
       "      <td>2</td>\n",
       "    </tr>\n",
       "  </tbody>\n",
       "</table>\n",
       "</div>"
      ],
      "text/plain": [
       "   CreditScore Geography  Gender  Age  Tenure    Balance  NumOfProducts  \\\n",
       "0          619    France  Female   42       2       0.00              1   \n",
       "1          608     Spain  Female   41       1   83807.86              1   \n",
       "2          502    France  Female   42       8  159660.80              3   \n",
       "3          699    France  Female   39       1       0.00              2   \n",
       "4          850     Spain  Female   43       2  125510.82              1   \n",
       "5          645     Spain    Male   44       8  113755.78              2   \n",
       "6          822    France    Male   50       7       0.00              2   \n",
       "7          376   Germany  Female   29       4  115046.74              4   \n",
       "8          501    France    Male   44       4  142051.07              2   \n",
       "9          684    France    Male   27       2  134603.88              1   \n",
       "\n",
       "   HasCrCard  IsActiveMember  Churn CreditScore_Recode Age_Recode  \\\n",
       "0          1               1      1                  2          2   \n",
       "1          0               1      0                  2          2   \n",
       "2          1               0      1                  1          2   \n",
       "3          0               0      0                  3          2   \n",
       "4          1               1      0                  4          2   \n",
       "5          1               0      1                  2          2   \n",
       "6          1               1      0                  4          3   \n",
       "7          1               0      1                  1          2   \n",
       "8          0               1      0                  1          2   \n",
       "9          1               1      0                  3          2   \n",
       "\n",
       "   Balance_Recode  Geography_Num  Gender_Num  \n",
       "0             1.0              1           1  \n",
       "1             2.0              3           1  \n",
       "2             4.0              1           1  \n",
       "3             1.0              1           1  \n",
       "4             3.0              3           1  \n",
       "5             3.0              3           2  \n",
       "6             1.0              1           2  \n",
       "7             3.0              2           1  \n",
       "8             4.0              1           2  \n",
       "9             4.0              1           2  "
      ]
     },
     "execution_count": 171,
     "metadata": {},
     "output_type": "execute_result"
    }
   ],
   "source": [
    "X2 = df.loc[:, 'Gender'].values\n",
    "\n",
    "enc = LabelEncoder()\n",
    "label_encoder = enc.fit(X2)\n",
    "X2 = label_encoder.transform(X2)+1\n",
    "\n",
    "df['Gender_Num']=X2\n",
    "df.head(10) #Female=1,  Male=2"
   ]
  },
  {
   "cell_type": "code",
   "execution_count": 172,
   "id": "8952f0af",
   "metadata": {},
   "outputs": [],
   "source": [
    "X = df.loc[:,['Gender_Num', 'IsActiveMember', 'Balance_Recode']].values\n",
    "y = df['Churn'].values\n",
    "X_train, X_test, y_train, y_test = train_test_split(X, y, test_size=0.25, random_state=1)\n",
    "model = CategoricalNB()\n",
    "y_pred =model.fit(X_train, y_train).predict(X_test)"
   ]
  },
  {
   "cell_type": "code",
   "execution_count": 173,
   "id": "8b7e00fd",
   "metadata": {},
   "outputs": [
    {
     "name": "stdout",
     "output_type": "stream",
     "text": [
      "Tasa de acierto:  0.792\n"
     ]
    }
   ],
   "source": [
    "print('Tasa de acierto: ', accuracy_score(y_pred, y_test))"
   ]
  },
  {
   "cell_type": "markdown",
   "id": "6e4ab4fc",
   "metadata": {},
   "source": [
    "En este nuevo modelo la tasa de acierto es más baja respecto al anterior."
   ]
  },
  {
   "cell_type": "code",
   "execution_count": 174,
   "id": "7eec61c5",
   "metadata": {},
   "outputs": [
    {
     "data": {
      "image/png": "[encoded data removed]",
      "text/plain": [
       "<Figure size 432x288 with 2 Axes>"
      ]
     },
     "metadata": {},
     "output_type": "display_data"
    }
   ],
   "source": [
    "sns.heatmap(confusion_matrix(y_test, y_pred), annot=True)\n",
    "sns.set(style=\"ticks\")"
   ]
  },
  {
   "cell_type": "markdown",
   "id": "85386fbf",
   "metadata": {},
   "source": [
    "Nos realiza una clasificación muy mal estructurada, no clasifica ningún negativo, se produce un claro desbalanceado."
   ]
  },
  {
   "cell_type": "code",
   "execution_count": 175,
   "id": "042f9a11",
   "metadata": {},
   "outputs": [
    {
     "name": "stdout",
     "output_type": "stream",
     "text": [
      "              precision    recall  f1-score   support\n",
      "\n",
      "           0       0.79      1.00      0.88      1980\n",
      "           1       0.00      0.00      0.00       520\n",
      "\n",
      "    accuracy                           0.79      2500\n",
      "   macro avg       0.40      0.50      0.44      2500\n",
      "weighted avg       0.63      0.79      0.70      2500\n",
      "\n"
     ]
    },
    {
     "name": "stderr",
     "output_type": "stream",
     "text": [
      "C:\\Users\\mzaba\\anaconda3\\lib\\site-packages\\sklearn\\metrics\\_classification.py:1221: UndefinedMetricWarning: Precision and F-score are ill-defined and being set to 0.0 in labels with no predicted samples. Use `zero_division` parameter to control this behavior.\n",
      "  _warn_prf(average, modifier, msg_start, len(result))\n"
     ]
    }
   ],
   "source": [
    "print(classification_report(y_test, y_pred))"
   ]
  },
  {
   "cell_type": "markdown",
   "id": "eee17b51",
   "metadata": {},
   "source": [
    "#### Undersample"
   ]
  },
  {
   "cell_type": "code",
   "execution_count": 176,
   "id": "854dfea8",
   "metadata": {},
   "outputs": [],
   "source": [
    "undersample = RandomUnderSampler(sampling_strategy=0.5)\n",
    "X = df.loc[:,['Gender_Num', 'IsActiveMember', 'Balance_Recode']].values\n",
    "y = df['Churn'].values\n",
    "X_over, y_over = undersample.fit_resample(X, y)"
   ]
  },
  {
   "cell_type": "code",
   "execution_count": 177,
   "id": "330043d4",
   "metadata": {},
   "outputs": [],
   "source": [
    "X_train, X_test, y_train, y_test = train_test_split(X_over, y_over, test_size=0.25, random_state=1)\n",
    "model = CategoricalNB()\n",
    "y_pred =model.fit(X_train, y_train).predict(X_test)"
   ]
  },
  {
   "cell_type": "code",
   "execution_count": 178,
   "id": "ac71b6a6",
   "metadata": {},
   "outputs": [
    {
     "name": "stdout",
     "output_type": "stream",
     "text": [
      "Tasa de acierto:  0.6695026178010471\n"
     ]
    }
   ],
   "source": [
    "print('Tasa de acierto: ', accuracy_score(y_pred, y_test))"
   ]
  },
  {
   "cell_type": "markdown",
   "id": "3e8c264a",
   "metadata": {},
   "source": [
    "La tasa de acierto ha empeorado al aplicar la técnica undersample de desbalanceado."
   ]
  },
  {
   "cell_type": "code",
   "execution_count": 179,
   "id": "9439493f",
   "metadata": {},
   "outputs": [
    {
     "data": {
      "image/png": "[encoded data removed]",
      "text/plain": [
       "<Figure size 432x288 with 2 Axes>"
      ]
     },
     "metadata": {},
     "output_type": "display_data"
    }
   ],
   "source": [
    "sns.heatmap(confusion_matrix(y_test, y_pred), annot=True)\n",
    "sns.set(style=\"ticks\")"
   ]
  },
  {
   "cell_type": "markdown",
   "id": "c9de1218",
   "metadata": {},
   "source": [
    "No obstante, la clasificación de los datos a mejorado al aplicar la técnica, pero no lo suficiente."
   ]
  },
  {
   "cell_type": "code",
   "execution_count": 180,
   "id": "530e4cee",
   "metadata": {},
   "outputs": [
    {
     "name": "stdout",
     "output_type": "stream",
     "text": [
      "              precision    recall  f1-score   support\n",
      "\n",
      "           0       0.69      0.91      0.79      1021\n",
      "           1       0.51      0.19      0.28       507\n",
      "\n",
      "    accuracy                           0.67      1528\n",
      "   macro avg       0.60      0.55      0.53      1528\n",
      "weighted avg       0.63      0.67      0.62      1528\n",
      "\n"
     ]
    }
   ],
   "source": [
    "print(classification_report(y_test, y_pred))"
   ]
  },
  {
   "cell_type": "markdown",
   "id": "30c2ee09",
   "metadata": {},
   "source": [
    "Sigue produciendose desbalanceado de los datos, sobretodo en la clase 2."
   ]
  },
  {
   "cell_type": "markdown",
   "id": "280db8b2",
   "metadata": {},
   "source": [
    "#### Oversample"
   ]
  },
  {
   "cell_type": "code",
   "execution_count": 181,
   "id": "7b4a374b",
   "metadata": {},
   "outputs": [],
   "source": [
    "oversample = RandomOverSampler(sampling_strategy = 0.5)\n",
    "X = df.loc[:,['Gender_Num', 'IsActiveMember', 'Balance_Recode']].values\n",
    "y = df['Churn'].values\n",
    "X_over, y_over = oversample.fit_resample(X, y)"
   ]
  },
  {
   "cell_type": "code",
   "execution_count": 182,
   "id": "66fc37a6",
   "metadata": {},
   "outputs": [],
   "source": [
    "X_train, X_test, y_train, y_test = train_test_split(X_over, y_over, test_size=0.25, random_state=1)\n",
    "model = CategoricalNB()\n",
    "y_pred =model.fit(X_train, y_train).predict(X_test)"
   ]
  },
  {
   "cell_type": "code",
   "execution_count": 183,
   "id": "fd22af1e",
   "metadata": {},
   "outputs": [
    {
     "name": "stdout",
     "output_type": "stream",
     "text": [
      "Tasa de acierto:  0.6758204956463496\n"
     ]
    }
   ],
   "source": [
    "print('Tasa de acierto: ', accuracy_score(y_pred, y_test))"
   ]
  },
  {
   "cell_type": "markdown",
   "id": "6eabdd28",
   "metadata": {},
   "source": [
    "La tasa de acierto respecto a la técnica de undersample se mantiene más o menos estable."
   ]
  },
  {
   "cell_type": "code",
   "execution_count": 184,
   "id": "c6a83ff1",
   "metadata": {},
   "outputs": [
    {
     "data": {
      "image/png": "[encoded data removed]",
      "text/plain": [
       "<Figure size 432x288 with 2 Axes>"
      ]
     },
     "metadata": {},
     "output_type": "display_data"
    }
   ],
   "source": [
    "sns.heatmap(confusion_matrix(y_test, y_pred), annot=True)\n",
    "sns.set(style=\"ticks\")"
   ]
  },
  {
   "cell_type": "markdown",
   "id": "66f312a4",
   "metadata": {},
   "source": [
    "Sigue produciendose desbalanceado de los datos."
   ]
  },
  {
   "cell_type": "code",
   "execution_count": 185,
   "id": "629a0810",
   "metadata": {},
   "outputs": [
    {
     "name": "stdout",
     "output_type": "stream",
     "text": [
      "              precision    recall  f1-score   support\n",
      "\n",
      "           0       0.70      0.91      0.79      1989\n",
      "           1       0.54      0.21      0.30       997\n",
      "\n",
      "    accuracy                           0.68      2986\n",
      "   macro avg       0.62      0.56      0.54      2986\n",
      "weighted avg       0.64      0.68      0.63      2986\n",
      "\n"
     ]
    }
   ],
   "source": [
    "print(classification_report(y_test, y_pred))"
   ]
  },
  {
   "cell_type": "markdown",
   "id": "6e2bbb36",
   "metadata": {},
   "source": [
    "En la tabla, podemos apreciar que en la clase 2 es donde se producén."
   ]
  },
  {
   "cell_type": "markdown",
   "id": "6c83ba47",
   "metadata": {},
   "source": [
    "### 3.3 Modelo con todas las variables"
   ]
  },
  {
   "cell_type": "code",
   "execution_count": 186,
   "id": "01d84497",
   "metadata": {},
   "outputs": [],
   "source": [
    "X = df.loc[:,['Geography_Num', 'Age_Recode', 'NumOfProducts', 'Gender_Num', 'IsActiveMember', 'Balance_Recode']].values\n",
    "y = df['Churn'].values\n",
    "X_train, X_test, y_train, y_test = train_test_split(X, y, test_size=0.25, random_state=1)\n",
    "model = CategoricalNB()\n",
    "y_pred =model.fit(X_train, y_train).predict(X_test)"
   ]
  },
  {
   "cell_type": "code",
   "execution_count": 187,
   "id": "902c65dd",
   "metadata": {},
   "outputs": [],
   "source": [
    "X_train, X_test, y_train, y_test = train_test_split(X_over, y_over, test_size=0.25, random_state=1)\n",
    "model = CategoricalNB()\n",
    "y_pred =model.fit(X_train, y_train).predict(X_test)"
   ]
  },
  {
   "cell_type": "code",
   "execution_count": 188,
   "id": "b95fd886",
   "metadata": {},
   "outputs": [
    {
     "name": "stdout",
     "output_type": "stream",
     "text": [
      "Tasa de acierto:  0.6758204956463496\n"
     ]
    }
   ],
   "source": [
    "print('Tasa de acierto: ', accuracy_score(y_pred, y_test))"
   ]
  },
  {
   "cell_type": "markdown",
   "id": "46e16daf",
   "metadata": {},
   "source": [
    "La tasa de acierto, estamos observando que es de un 68%, no es una tasa muy elevada."
   ]
  },
  {
   "cell_type": "code",
   "execution_count": 189,
   "id": "e9ad1cc3",
   "metadata": {},
   "outputs": [
    {
     "data": {
      "image/png": "[encoded data removed]",
      "text/plain": [
       "<Figure size 432x288 with 2 Axes>"
      ]
     },
     "metadata": {},
     "output_type": "display_data"
    }
   ],
   "source": [
    "sns.heatmap(confusion_matrix(y_test, y_pred), annot=True)\n",
    "sns.set(style=\"ticks\")"
   ]
  },
  {
   "cell_type": "markdown",
   "id": "e6ca2b51",
   "metadata": {},
   "source": [
    "Se produce un claro desbalandeado de los datos, respecto a los falsos negativos es donde más se está notando."
   ]
  },
  {
   "cell_type": "code",
   "execution_count": 190,
   "id": "3e56fa81",
   "metadata": {},
   "outputs": [
    {
     "name": "stdout",
     "output_type": "stream",
     "text": [
      "              precision    recall  f1-score   support\n",
      "\n",
      "           0       0.70      0.91      0.79      1989\n",
      "           1       0.54      0.21      0.30       997\n",
      "\n",
      "    accuracy                           0.68      2986\n",
      "   macro avg       0.62      0.56      0.54      2986\n",
      "weighted avg       0.64      0.68      0.63      2986\n",
      "\n"
     ]
    }
   ],
   "source": [
    "print(classification_report(y_test, y_pred))"
   ]
  },
  {
   "cell_type": "markdown",
   "id": "0a6535ae",
   "metadata": {},
   "source": [
    "La clase 2 es donde se nota el desbalanceado notablemente, con un bajo porcentaje de precisión y de sensibilidad. No obstante, se trata de un modelo desbalanceado, igual a la hora de aplicar técnicas, notamos una mejora de los datos."
   ]
  },
  {
   "cell_type": "markdown",
   "id": "6b2f17b3",
   "metadata": {},
   "source": [
    "#### Undersample"
   ]
  },
  {
   "cell_type": "code",
   "execution_count": 191,
   "id": "e05e48a5",
   "metadata": {},
   "outputs": [],
   "source": [
    "undersample = RandomUnderSampler(sampling_strategy=0.5)\n",
    "X = df.loc[:,['Geography_Num', 'Age_Recode', 'NumOfProducts', 'Gender_Num', 'IsActiveMember', 'Balance_Recode']].values\n",
    "y = df['Churn'].values\n",
    "X_over, y_over = undersample.fit_resample(X, y)"
   ]
  },
  {
   "cell_type": "code",
   "execution_count": 192,
   "id": "44ee49b6",
   "metadata": {},
   "outputs": [],
   "source": [
    "X_train, X_test, y_train, y_test = train_test_split(X_over, y_over, test_size=0.25, random_state=1)\n",
    "model = CategoricalNB()\n",
    "y_pred =model.fit(X_train, y_train).predict(X_test)"
   ]
  },
  {
   "cell_type": "code",
   "execution_count": 193,
   "id": "dfd7c1cf",
   "metadata": {},
   "outputs": [
    {
     "name": "stdout",
     "output_type": "stream",
     "text": [
      "Tasa de acierto:  0.806282722513089\n"
     ]
    }
   ],
   "source": [
    "print('Tasa de acierto: ', accuracy_score(y_pred, y_test))"
   ]
  },
  {
   "cell_type": "markdown",
   "id": "4929ebc6",
   "metadata": {},
   "source": [
    "Al aplicar la técnica de Undersample, ya hemos notado una mejora en la tasa de acierto de un 80%, la cual es una tasa aceptable."
   ]
  },
  {
   "cell_type": "code",
   "execution_count": 194,
   "id": "b9946977",
   "metadata": {},
   "outputs": [
    {
     "data": {
      "image/png": "[encoded data removed]",
      "text/plain": [
       "<Figure size 432x288 with 2 Axes>"
      ]
     },
     "metadata": {},
     "output_type": "display_data"
    }
   ],
   "source": [
    "sns.heatmap(confusion_matrix(y_test, y_pred), annot=True)\n",
    "sns.set(style=\"ticks\")"
   ]
  },
  {
   "cell_type": "markdown",
   "id": "9822ea3f",
   "metadata": {},
   "source": [
    "La técnica undersample, ha realizado una mejora a la hora del balanceado de los datos, los resultados han sido mejores."
   ]
  },
  {
   "cell_type": "code",
   "execution_count": 195,
   "id": "43612e84",
   "metadata": {},
   "outputs": [
    {
     "name": "stdout",
     "output_type": "stream",
     "text": [
      "              precision    recall  f1-score   support\n",
      "\n",
      "           0       0.83      0.90      0.86      1021\n",
      "           1       0.75      0.62      0.68       507\n",
      "\n",
      "    accuracy                           0.81      1528\n",
      "   macro avg       0.79      0.76      0.77      1528\n",
      "weighted avg       0.80      0.81      0.80      1528\n",
      "\n"
     ]
    }
   ],
   "source": [
    "print(classification_report(y_test, y_pred))"
   ]
  },
  {
   "cell_type": "markdown",
   "id": "4aa80262",
   "metadata": {},
   "source": [
    "Se ha notado una mejora notable tanto en precisión como en sensibilidad a la hora de aplicar undersample."
   ]
  },
  {
   "cell_type": "markdown",
   "id": "4aaf3c7e",
   "metadata": {},
   "source": [
    "#### Oversample"
   ]
  },
  {
   "cell_type": "code",
   "execution_count": 196,
   "id": "2ad2ccf8",
   "metadata": {},
   "outputs": [],
   "source": [
    "oversample = RandomOverSampler(sampling_strategy = 0.5)\n",
    "X = df.loc[:,['Geography_Num', 'Age_Recode', 'NumOfProducts', 'Gender_Num', 'IsActiveMember', 'Balance_Recode']].values\n",
    "y = df['Churn'].values\n",
    "X_over, y_over = oversample.fit_resample(X, y)"
   ]
  },
  {
   "cell_type": "code",
   "execution_count": 197,
   "id": "2def3ed9",
   "metadata": {},
   "outputs": [],
   "source": [
    "X_train, X_test, y_train, y_test = train_test_split(X_over, y_over, test_size=0.25, random_state=1)\n",
    "model = CategoricalNB()\n",
    "y_pred =model.fit(X_train, y_train).predict(X_test)"
   ]
  },
  {
   "cell_type": "code",
   "execution_count": 198,
   "id": "76ba8f5d",
   "metadata": {},
   "outputs": [
    {
     "name": "stdout",
     "output_type": "stream",
     "text": [
      "Tasa de acierto:  0.7776289350301406\n"
     ]
    }
   ],
   "source": [
    "print('Tasa de acierto: ', accuracy_score(y_pred, y_test))"
   ]
  },
  {
   "cell_type": "markdown",
   "id": "1b26211c",
   "metadata": {},
   "source": [
    "La tasa de acierto con el método de balanceado de oversample ha mejorado pero en comparación con la técnica de undersample es un poco más baja."
   ]
  },
  {
   "cell_type": "code",
   "execution_count": 199,
   "id": "3149027c",
   "metadata": {},
   "outputs": [
    {
     "data": {
      "image/png": "[encoded data removed]",
      "text/plain": [
       "<Figure size 432x288 with 2 Axes>"
      ]
     },
     "metadata": {},
     "output_type": "display_data"
    }
   ],
   "source": [
    "sns.heatmap(confusion_matrix(y_test, y_pred), annot=True)\n",
    "sns.set(style=\"ticks\")"
   ]
  },
  {
   "cell_type": "markdown",
   "id": "97dc5a67",
   "metadata": {},
   "source": [
    "Ha realizado una buen balanceado de los datos al predominar la tasa de verdaderos positivos y de verdaderos negativos."
   ]
  },
  {
   "cell_type": "code",
   "execution_count": 200,
   "id": "fa680b1e",
   "metadata": {},
   "outputs": [
    {
     "name": "stdout",
     "output_type": "stream",
     "text": [
      "              precision    recall  f1-score   support\n",
      "\n",
      "           0       0.80      0.89      0.84      1989\n",
      "           1       0.72      0.55      0.62       997\n",
      "\n",
      "    accuracy                           0.78      2986\n",
      "   macro avg       0.76      0.72      0.73      2986\n",
      "weighted avg       0.77      0.78      0.77      2986\n",
      "\n"
     ]
    }
   ],
   "source": [
    "print(classification_report(y_test, y_pred))"
   ]
  },
  {
   "cell_type": "markdown",
   "id": "c693bfd7",
   "metadata": {},
   "source": [
    "Se nota una mejora notable en la clase 2 respecto a la precisión y a la sensibilidad a la hora de aplicar la técnica oversample."
   ]
  },
  {
   "cell_type": "markdown",
   "id": "e18e2242",
   "metadata": {},
   "source": [
    "En conclusión, se ha notado muchisimo la mejora de los datos a la hora de aplicar las técnicas, pero ha quedado reflejado que la mejor ha sido la técnica undersample debido a que ha realizado una tasa de aciertos superior con respecto al método oversample y  tanto los valores de precisión y de sensibilidad han sido bastante superiores respecto al anterior modelo."
   ]
  },
  {
   "cell_type": "markdown",
   "id": "f090529f",
   "metadata": {},
   "source": [
    "Ahora, realizaremos un CV sobre los datos de train y test para obtener unas medidas robustas de la precisión de nuestro modelo."
   ]
  },
  {
   "cell_type": "markdown",
   "id": "8a1e9f44",
   "metadata": {},
   "source": [
    "Podemos ver las métricas disponibles de esta manera:"
   ]
  },
  {
   "cell_type": "code",
   "execution_count": 201,
   "id": "9a9beb1e",
   "metadata": {},
   "outputs": [
    {
     "data": {
      "text/plain": [
       "dict_keys(['explained_variance', 'r2', 'max_error', 'neg_median_absolute_error', 'neg_mean_absolute_error', 'neg_mean_squared_error', 'neg_mean_squared_log_error', 'neg_root_mean_squared_error', 'neg_mean_poisson_deviance', 'neg_mean_gamma_deviance', 'accuracy', 'roc_auc', 'roc_auc_ovr', 'roc_auc_ovo', 'roc_auc_ovr_weighted', 'roc_auc_ovo_weighted', 'balanced_accuracy', 'average_precision', 'neg_log_loss', 'neg_brier_score', 'adjusted_rand_score', 'homogeneity_score', 'completeness_score', 'v_measure_score', 'mutual_info_score', 'adjusted_mutual_info_score', 'normalized_mutual_info_score', 'fowlkes_mallows_score', 'precision', 'precision_macro', 'precision_micro', 'precision_samples', 'precision_weighted', 'recall', 'recall_macro', 'recall_micro', 'recall_samples', 'recall_weighted', 'f1', 'f1_macro', 'f1_micro', 'f1_samples', 'f1_weighted', 'jaccard', 'jaccard_macro', 'jaccard_micro', 'jaccard_samples', 'jaccard_weighted'])"
      ]
     },
     "execution_count": 201,
     "metadata": {},
     "output_type": "execute_result"
    }
   ],
   "source": [
    "sklearn.metrics.SCORERS.keys() "
   ]
  },
  {
   "cell_type": "code",
   "execution_count": 202,
   "id": "0e36443a",
   "metadata": {},
   "outputs": [
    {
     "data": {
      "text/plain": [
       "{'fit_time': array([0.00398922, 0.00498581, 0.00602531, 0.0039525 , 0.00498629]),\n",
       " 'score_time': array([0.0039885 , 0.00299287, 0.00298667, 0.00302863, 0.0029912 ]),\n",
       " 'test_balanced_accuracy': array([0.71781951, 0.68830849, 0.70064749, 0.67497414, 0.69275914]),\n",
       " 'test_f1_weighted': array([0.84427254, 0.82752938, 0.83623452, 0.82231466, 0.83267341])}"
      ]
     },
     "execution_count": 202,
     "metadata": {},
     "output_type": "execute_result"
    }
   ],
   "source": [
    "X, y = shuffle(X, y, random_state=0) #barajamos los datos\n",
    "\n",
    "scoring = ['balanced_accuracy','f1_weighted'] #métricas a evaluar\n",
    "cv = cross_validate(model, X, y, cv=5, scoring=scoring) #construimos el modelo de CV con 5 particiones\n",
    "\n",
    "cv \n",
    "   "
   ]
  },
  {
   "cell_type": "markdown",
   "id": "bf68e387",
   "metadata": {},
   "source": [
    "Calculamos la media de las medidas de precisión:"
   ]
  },
  {
   "cell_type": "code",
   "execution_count": 203,
   "id": "11378d0c",
   "metadata": {},
   "outputs": [
    {
     "name": "stdout",
     "output_type": "stream",
     "text": [
      "0.6949017541640427\n",
      "0.8326049039355337\n"
     ]
    }
   ],
   "source": [
    "print(cv['test_balanced_accuracy'].mean())\n",
    "print(cv['test_f1_weighted'].mean())"
   ]
  },
  {
   "cell_type": "markdown",
   "id": "91539d6a",
   "metadata": {},
   "source": [
    "### 4. Desarrollamos el mejor modelo"
   ]
  },
  {
   "cell_type": "markdown",
   "id": "24fcfa7f",
   "metadata": {},
   "source": [
    "Observando las métricas obtenidas al final del desarrollo de los tres modelos, podemos concluir que el modelo que mejores resultados ofrece es el del **árbol de decisión**. Por tanto, el siguiente paso será desarrollar más aún este modelo para obtener los mejores resultados posibles.  \n",
    "Es decir, mediante la búsqueda de hiperparámetros."
   ]
  },
  {
   "cell_type": "markdown",
   "id": "48816a9d",
   "metadata": {},
   "source": [
    "El hiperparámetro a optimizar va a ser la profundidad del árbol, y se va a optimizar en los valores de [3,...,10].  \n",
    "Se evaluará en la métrica 'f1_weighted' ya que está diseñada para ofrecer resultados fiables cuando los datos están desbalanceados, y el ajuste de desbalanceo del propio modelo no parece ofrecer buenos resultados."
   ]
  },
  {
   "cell_type": "code",
   "execution_count": 207,
   "id": "8ac7848e",
   "metadata": {},
   "outputs": [
    {
     "data": {
      "text/plain": [
       "DecisionTreeClassifier(class_weight='balanced', max_depth=3.0)"
      ]
     },
     "execution_count": 207,
     "metadata": {},
     "output_type": "execute_result"
    }
   ],
   "source": [
    "from sklearn.model_selection import GridSearchCV\n",
    "\n",
    "md = np.linspace(3, 10, 8)\n",
    "h_parameters = {'max_depth':md} #incluimos el parámetro a optimizar (la profundidad del árbol) y los valores en los que vamos a optimizar\n",
    "\n",
    "model=DecisionTreeClassifier(class_weight='balanced') \n",
    "\n",
    "# Definimos la búsqueda + CV, con la métrica a optimizar\n",
    "cv = GridSearchCV(model, h_parameters, cv=10, n_jobs=-1, scoring='f1_weighted')\n",
    "\n",
    "#Volvemos a cargar los datos\n",
    "X=df.loc[:,['Age_Recode', 'NumOfProducts', 'IsActiveMember']].values\n",
    "y=df['Churn'].values\n",
    "cv.fit(X, y) #construimos el modelo\n",
    "   \n",
    "# Este atributo nos devuelve el mejor estimador\n",
    "cv.best_estimator_ #te dice todos los parametros del modelo y mas cosas, miras los que te interesen\n",
    "\n"
   ]
  },
  {
   "cell_type": "markdown",
   "id": "73c7981b",
   "metadata": {},
   "source": [
    "El mejor modelo se tiene con **3 niveles** de profundidad."
   ]
  },
  {
   "cell_type": "code",
   "execution_count": 208,
   "id": "a0ec9ec2",
   "metadata": {},
   "outputs": [
    {
     "data": {
      "text/plain": [
       "{'mean_fit_time': array([0.00638268, 0.00787771, 0.00727961, 0.00748081, 0.00698183,\n",
       "        0.00698097, 0.00708036, 0.00708101]),\n",
       " 'std_fit_time': array([0.0004887 , 0.00303997, 0.00077819, 0.00331546, 0.00063346,\n",
       "        0.00118126, 0.00053579, 0.00069789]),\n",
       " 'mean_score_time': array([0.00199442, 0.00199511, 0.003391  , 0.0020941 , 0.00468702,\n",
       "        0.0017947 , 0.00189438, 0.00189545]),\n",
       " 'std_score_time': array([0.00044596, 0.00044532, 0.00293097, 0.00082831, 0.00743667,\n",
       "        0.00039912, 0.00029998, 0.00029867]),\n",
       " 'param_max_depth': masked_array(data=[3.0, 4.0, 5.0, 6.0, 7.0, 8.0, 9.0, 10.0],\n",
       "              mask=[False, False, False, False, False, False, False, False],\n",
       "        fill_value='?',\n",
       "             dtype=object),\n",
       " 'params': [{'max_depth': 3.0},\n",
       "  {'max_depth': 4.0},\n",
       "  {'max_depth': 5.0},\n",
       "  {'max_depth': 6.0},\n",
       "  {'max_depth': 7.0},\n",
       "  {'max_depth': 8.0},\n",
       "  {'max_depth': 9.0},\n",
       "  {'max_depth': 10.0}],\n",
       " 'split0_test_score': array([0.80463174, 0.73661264, 0.77404981, 0.77404981, 0.77404981,\n",
       "        0.77404981, 0.77404981, 0.77404981]),\n",
       " 'split1_test_score': array([0.80536578, 0.75872051, 0.78825444, 0.78825444, 0.78825444,\n",
       "        0.78825444, 0.78825444, 0.78825444]),\n",
       " 'split2_test_score': array([0.80522831, 0.73496044, 0.77233909, 0.77233909, 0.77233909,\n",
       "        0.77233909, 0.77233909, 0.77233909]),\n",
       " 'split3_test_score': array([0.80764755, 0.70496488, 0.73896318, 0.73896318, 0.73896318,\n",
       "        0.73896318, 0.73896318, 0.73896318]),\n",
       " 'split4_test_score': array([0.82049005, 0.72937175, 0.76246258, 0.76246258, 0.76246258,\n",
       "        0.76246258, 0.76246258, 0.76246258]),\n",
       " 'split5_test_score': array([0.8060557 , 0.73833143, 0.75606111, 0.75606111, 0.75606111,\n",
       "        0.75606111, 0.75606111, 0.75606111]),\n",
       " 'split6_test_score': array([0.82222033, 0.73055401, 0.7587418 , 0.7587418 , 0.7587418 ,\n",
       "        0.7587418 , 0.7587418 , 0.7587418 ]),\n",
       " 'split7_test_score': array([0.80901006, 0.73811699, 0.77980341, 0.77980341, 0.77980341,\n",
       "        0.77980341, 0.77980341, 0.77980341]),\n",
       " 'split8_test_score': array([0.79652068, 0.73713268, 0.77375069, 0.77375069, 0.77375069,\n",
       "        0.77375069, 0.77375069, 0.77375069]),\n",
       " 'split9_test_score': array([0.81159107, 0.71758403, 0.74676645, 0.74676645, 0.74676645,\n",
       "        0.74676645, 0.74676645, 0.74676645]),\n",
       " 'mean_test_score': array([0.80887612, 0.73263493, 0.76511926, 0.76511926, 0.76511926,\n",
       "        0.76511926, 0.76511926, 0.76511926]),\n",
       " 'std_test_score': array([0.00725331, 0.01338492, 0.01451892, 0.01451892, 0.01451892,\n",
       "        0.01451892, 0.01451892, 0.01451892]),\n",
       " 'rank_test_score': array([1, 8, 2, 2, 2, 2, 2, 2])}"
      ]
     },
     "execution_count": 208,
     "metadata": {},
     "output_type": "execute_result"
    }
   ],
   "source": [
    "cv.cv_results_"
   ]
  },
  {
   "cell_type": "markdown",
   "id": "d84cd26e",
   "metadata": {},
   "source": [
    "Calculamos la media de las métricas obtenidas en los modelos:"
   ]
  },
  {
   "cell_type": "code",
   "execution_count": 209,
   "id": "6a3efd1c",
   "metadata": {},
   "outputs": [
    {
     "data": {
      "text/plain": [
       "0.7665283248125507"
      ]
     },
     "execution_count": 209,
     "metadata": {},
     "output_type": "execute_result"
    }
   ],
   "source": [
    "cv.cv_results_['mean_test_score'].mean()"
   ]
  },
  {
   "cell_type": "markdown",
   "id": "6503ddc3",
   "metadata": {},
   "source": [
    "Obtenemos un 76% en la métrica 'f1_weighted'"
   ]
  },
  {
   "cell_type": "markdown",
   "id": "fddc2124",
   "metadata": {},
   "source": [
    "## III. Conclusiones"
   ]
  },
  {
   "cell_type": "markdown",
   "id": "17b5af4b",
   "metadata": {},
   "source": [
    "La métrica f1 es una media armónica entre la precision y el recall, que respectivamente miden, en nuestro caso:  \n",
    "de todos los clientes que el modelo etiqueta como que saldrán del banco, cuantos lo son realmente, y  \n",
    "de todos los clientes que realmente salieron del banco, cuántos fueron predichos como tal.\n",
    "\n",
    "Por tanto, hemos obtenido un modelo capaz de predecir con bastante precisión si un cliente del banco saldrá o no de él.\n",
    "\n",
    "Una **estrategia** que podría adoptar el banco sería, para los clientes que prediga que se vayan a ir, ofrecerles diferentes recursos financieros para motivarles a quedarse. Es cierto que en media fallaremos un 24% de las veces, pero también conseguirían retener muchos clientes y posiblemente acabar con un beneficio neto.\n",
    "\n",
    "Otra **aplicación** podría ser, para los clientes que se prediga que se quieren ir, estudiar cuáles son las razones por las que se querrían marchar. En la misma línea, se podría implementar varias acciones de fidelización para conseguir retenerlos, y ver cuáles de ellas son más efectivas, ya que estaríamos trabajando con una muestra que teóricamente se quieren marchar (aunque no estemos en lo cierto siempre)."
   ]
  }
 ],
 "metadata": {
  "kernelspec": {
   "display_name": "Python 3 (ipykernel)",
   "language": "python",
   "name": "python3"
  },
  "language_info": {
   "codemirror_mode": {
    "name": "ipython",
    "version": 3
   },
   "file_extension": ".py",
   "mimetype": "text/x-python",
   "name": "python",
   "nbconvert_exporter": "python",
   "pygments_lexer": "ipython3",
   "version": "3.8.3"
  }
 },
 "nbformat": 4,
 "nbformat_minor": 5
}
